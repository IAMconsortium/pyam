{
 "cells": [
  {
   "cell_type": "markdown",
   "metadata": {},
   "source": [
    "# Diagnostics, analysis and visualization tools <br /> for Integrated Assessment timeseries data\n",
    "\n",
    "<img style=\"float: right; height: 100px; margin-top: 10px;\" src=\"_static/IIASA_logo.png\">\n",
    "<img style=\"float: right; height: 80px;\" src=\"_static/IAMC_logo.jpg\">\n",
    "\n",
    "## First steps with the ``pyam`` package\n",
    "\n",
    "The ``pyam`` package provides a range of diagnostic tools and functions  \n",
    "for analyzing and working with IAMC-style timeseries data. \n",
    "\n",
    "The package can be used with data that follows the data template convention \n",
    "of the [Integrated Assessment Modeling Consortium](http://www.globalchange.umd.edu/iamc/) (IAMC).\n",
    "An illustrative example is shown below;\n",
    "see [data.ene.iiasa.ac.at/database](http://data.ene.iiasa.ac.at/database/) for more information.\n",
    "\n",
    "\n",
    "| **Model**           | **Scenario**  | **Region** | **Variable**   | **Unit** | **2005** | **2010** | **2015** |\n",
    "|---------------------|---------------|------------|----------------|----------|----------|----------|----------|\n",
    "| MESSAGE V.4         | AMPERE3-Base  | World      | Primary Energy | EJ/y     | 454.5    |\t479.6    | ...      |\n",
    "| ...                 | ...           | ...        | ...            | ...      | ...      | ...      | ...      |\n",
    "\n",
    "This notebook illustrates some basic functionality of the ``pyam-analsysis`` package\n",
    "and the ``IamDataFrame`` class:\n",
    "\n",
    "0. Importing timeseries data from a csv file.\n",
    "0. Listing models, scenarios and variables included in the data.\n",
    "0. Display of timeseries data as dataframe and visualization using simple plotting functions.\n",
    "0. Evaluating the model data and executing a range of diagnostic checks to identify data outliers.\n",
    "0. Categorization of scenarios according to timeseries data.\n",
    "0. Exporting data to Excel\n",
    "\n",
    "\n",
    "## Tutorial data\n",
    "\n",
    "The timeseries data used in this tutorial is a partial snapshot of the scenario database \n",
    "compiled for the IPCC's Fifth Assessment Report (AR5):\n",
    "\n",
    "> Krey V., O. Masera, G. Blanford, T. Bruckner, R. Cooke, K. Fisher-Vanden, H. Haberl, E. Hertwich, E. Kriegler, D. Mueller, S. Paltsev, L. Price, S. Schlömer, D. Ürge-Vorsatz, D. van Vuuren, and T. Zwickel, 2014: *Annex II: Metrics & Methodology*.   \n",
    "> In: *Climate Change 2014: Mitigation of Climate Change. Contribution of Working Group III to the Fifth Assessment Report of the Intergovernmental Panel on Climate Change* [Edenhofer, O., R. Pichs-Madruga, Y. Sokona, E. Farahani, S. Kadner, K. Seyboth, A. Adler, I. Baum, S. Brunner, P. Eickemeier, B. Kriemann, J. Savolainen, S. Schlömer, C. von Stechow, T. Zwickel and J.C. Minx (eds.)]. Cambridge University Press, Cambridge, United Kingdom and New York, NY, USA. [Link](https://www.ipcc.ch/report/ar5/wg3/)\n",
    "\n",
    "The complete database is publicly available at [tntcat.iiasa.ac.at/AR5DB/](https://tntcat.iiasa.ac.at/AR5DB/).\n",
    "\n",
    "<img style=\"float: right; height: 100px;\" src=\"_static/AMPERE-Logo.png\">\n",
    "<img style=\"float: right; height: 40px; margin-top: 50px; margin-right: 20px;\" src=\"_static/EMF-Logo_v2.1.png\">\n",
    "\n",
    "The data snapshot used for this tutorial consists of selected data from two model intercomparison projects:\n",
    " - Energy Modeling Forum Round 27 \n",
    "   ([**EMF27**](https://emf.stanford.edu/projects/emf-27-global-model-comparison-exercise)),\n",
    "   see the Special Issue in [*Climatic Change* 3-4, 2014](https://link.springer.com/journal/10584/123/3/page/1).\n",
    " - EU FP7 project [**AMPERE**](https://tntcat.iiasa.ac.at/AMPEREDB/), \n",
    "   see the following scientific publications:\n",
    "   > - Riahi, K., et al. (2015). \"Locked into Copenhagen pledges — Implications of short-term emission targets \n",
    "   >   for the cost and feasibility of long-term climate goals.\" \n",
    "   >   *Technological Forecasting and Social Change* 90(Part A): 8-23.  \n",
    "   >   [DOI: 10.1016/j.techfore.2013.09.016](https://doi.org/10.1016/j.techfore.2013.09.016)\n",
    "   > - Kriegler, E., et al. (2015). \"Making or breaking climate targets: The AMPERE study on \n",
    "   >   staged accession scenarios for climate policy.\"\n",
    "   >   *Technological Forecasting and Social Change* 90(Part A): 24-44.  \n",
    "   >   [DOI: 10.1016/j.techfore.2013.09.021](https://doi.org/10.1016/j.techfore.2013.09.021)\n",
    "\n",
    "<div style=\"text-align: center; padding: 10px; border: 2px solid red; width: 700px\">\n",
    "*The data used in this tutorial is ONLY a partial snapshot of the IPCC AR5 scenario database!*  \n",
    "*This tutorial is only intended for an illustration of the ``pyam`` package.*\n",
    "</div>"
   ]
  },
  {
   "cell_type": "markdown",
   "metadata": {},
   "source": [
    "## Import package and load data from the AR5 tutorial csv snapshot file\n",
    "\n",
    "First, we import the snapshot timeseries data from the file ``tutorial_AR5_data.csv`` in the ``tutorial`` folder.\n",
    "\n",
    "As a first step, we show lists of all models, scenarios, regions, and variables (with units) included in the snapshot."
   ]
  },
  {
   "cell_type": "code",
   "execution_count": 1,
   "metadata": {},
   "outputs": [
    {
     "data": {
      "application/javascript": [
       "IPython.OutputArea.prototype._should_scroll = function(lines) { return false; }"
      ],
      "text/plain": [
       "<IPython.core.display.Javascript object>"
      ]
     },
     "metadata": {},
     "output_type": "display_data"
    }
   ],
   "source": [
    "import pyam\n",
    "import pandas as pd\n",
    "import matplotlib.pyplot as plt\n",
    "\n",
    "%matplotlib inline"
   ]
  },
  {
   "cell_type": "code",
   "execution_count": 2,
   "metadata": {
    "collapsed": true
   },
   "outputs": [],
   "source": [
    "df = pyam.IamDataFrame(data='tutorial_AR5_data.csv', encoding='utf-8')"
   ]
  },
  {
   "cell_type": "code",
   "execution_count": 3,
   "metadata": {},
   "outputs": [
    {
     "data": {
      "text/plain": [
       "array([u'AIM-Enduse 12.1', u'GCAM 3.0', u'IMAGE 2.4', u'MERGE_EMF27',\n",
       "       u'MESSAGE V.4', u'REMIND 1.5', u'WITCH_EMF27'], dtype=object)"
      ]
     },
     "execution_count": 3,
     "metadata": {},
     "output_type": "execute_result"
    }
   ],
   "source": [
    "df['model'].unique()"
   ]
  },
  {
   "cell_type": "code",
   "execution_count": 4,
   "metadata": {},
   "outputs": [
    {
     "data": {
      "text/html": [
       "<div>\n",
       "<style scoped>\n",
       "    .dataframe tbody tr th:only-of-type {\n",
       "        vertical-align: middle;\n",
       "    }\n",
       "\n",
       "    .dataframe tbody tr th {\n",
       "        vertical-align: top;\n",
       "    }\n",
       "\n",
       "    .dataframe thead th {\n",
       "        text-align: right;\n",
       "    }\n",
       "</style>\n",
       "<table border=\"1\" class=\"dataframe\">\n",
       "  <thead>\n",
       "    <tr style=\"text-align: right;\">\n",
       "      <th></th>\n",
       "      <th>model</th>\n",
       "      <th>scenario</th>\n",
       "    </tr>\n",
       "  </thead>\n",
       "  <tbody>\n",
       "    <tr>\n",
       "      <th>0</th>\n",
       "      <td>AIM-Enduse 12.1</td>\n",
       "      <td>EMF27-450-Conv</td>\n",
       "    </tr>\n",
       "    <tr>\n",
       "      <th>1</th>\n",
       "      <td>AIM-Enduse 12.1</td>\n",
       "      <td>EMF27-450-Conv</td>\n",
       "    </tr>\n",
       "    <tr>\n",
       "      <th>2</th>\n",
       "      <td>AIM-Enduse 12.1</td>\n",
       "      <td>EMF27-450-Conv</td>\n",
       "    </tr>\n",
       "    <tr>\n",
       "      <th>3</th>\n",
       "      <td>AIM-Enduse 12.1</td>\n",
       "      <td>EMF27-450-Conv</td>\n",
       "    </tr>\n",
       "    <tr>\n",
       "      <th>4</th>\n",
       "      <td>AIM-Enduse 12.1</td>\n",
       "      <td>EMF27-450-Conv</td>\n",
       "    </tr>\n",
       "  </tbody>\n",
       "</table>\n",
       "</div>"
      ],
      "text/plain": [
       "             model        scenario\n",
       "0  AIM-Enduse 12.1  EMF27-450-Conv\n",
       "1  AIM-Enduse 12.1  EMF27-450-Conv\n",
       "2  AIM-Enduse 12.1  EMF27-450-Conv\n",
       "3  AIM-Enduse 12.1  EMF27-450-Conv\n",
       "4  AIM-Enduse 12.1  EMF27-450-Conv"
      ]
     },
     "execution_count": 4,
     "metadata": {},
     "output_type": "execute_result"
    }
   ],
   "source": [
    "df[['model', 'scenario']].head()"
   ]
  },
  {
   "cell_type": "code",
   "execution_count": 5,
   "metadata": {},
   "outputs": [
    {
     "data": {
      "text/html": [
       "<div>\n",
       "<style scoped>\n",
       "    .dataframe tbody tr th:only-of-type {\n",
       "        vertical-align: middle;\n",
       "    }\n",
       "\n",
       "    .dataframe tbody tr th {\n",
       "        vertical-align: top;\n",
       "    }\n",
       "\n",
       "    .dataframe thead th {\n",
       "        text-align: right;\n",
       "    }\n",
       "</style>\n",
       "<table border=\"1\" class=\"dataframe\">\n",
       "  <thead>\n",
       "    <tr style=\"text-align: right;\">\n",
       "      <th></th>\n",
       "      <th>variable</th>\n",
       "      <th>unit</th>\n",
       "    </tr>\n",
       "  </thead>\n",
       "  <tbody>\n",
       "    <tr>\n",
       "      <th>0</th>\n",
       "      <td>Emissions|CO2</td>\n",
       "      <td>Mt CO2/yr</td>\n",
       "    </tr>\n",
       "    <tr>\n",
       "      <th>1</th>\n",
       "      <td>Emissions|CO2|Fossil Fuels and Industry</td>\n",
       "      <td>Mt CO2/yr</td>\n",
       "    </tr>\n",
       "    <tr>\n",
       "      <th>2</th>\n",
       "      <td>Primary Energy</td>\n",
       "      <td>EJ/yr</td>\n",
       "    </tr>\n",
       "    <tr>\n",
       "      <th>3</th>\n",
       "      <td>Emissions|CO2</td>\n",
       "      <td>Mt CO2/yr</td>\n",
       "    </tr>\n",
       "    <tr>\n",
       "      <th>4</th>\n",
       "      <td>Emissions|CO2|Fossil Fuels and Industry</td>\n",
       "      <td>Mt CO2/yr</td>\n",
       "    </tr>\n",
       "  </tbody>\n",
       "</table>\n",
       "</div>"
      ],
      "text/plain": [
       "                                  variable       unit\n",
       "0                            Emissions|CO2  Mt CO2/yr\n",
       "1  Emissions|CO2|Fossil Fuels and Industry  Mt CO2/yr\n",
       "2                           Primary Energy      EJ/yr\n",
       "3                            Emissions|CO2  Mt CO2/yr\n",
       "4  Emissions|CO2|Fossil Fuels and Industry  Mt CO2/yr"
      ]
     },
     "execution_count": 5,
     "metadata": {},
     "output_type": "execute_result"
    }
   ],
   "source": [
    "df[['variable', 'unit']].head()"
   ]
  },
  {
   "cell_type": "markdown",
   "metadata": {},
   "source": [
    "## Tutorial on data filtering\n",
    "Most functions of the ``IamDataFrame`` class take an (optional) argument ``filters``,\n",
    "i.e., a dictionary of filter criteria.\n",
    "\n",
    "### Filtering by model names, scenarios and regions\n",
    "\n",
    "The feature for filtering by **model, scenario or region** is implemented\n",
    "using [regular expressions](https://docs.python.org/3.6/library/re.html) (regex, re)\n",
    "and the _re.match()_ function.\n",
    "This implies that the filtering is done from the beginning of the text string.\n",
    "> Applying the filter ``'model': 'MESSAGE'`` to the function ``scenarios()`` \n",
    "  will return all MESSAGE V.4 scenarios included in the snapshot.  \n",
    "> Filtering for _ESSAGE_ will return an empty set."
   ]
  },
  {
   "cell_type": "code",
   "execution_count": 6,
   "metadata": {},
   "outputs": [
    {
     "data": {
      "text/plain": [
       "array([u'AMPERE3-450', u'AMPERE3-450P-EU', u'AMPERE3-550',\n",
       "       u'AMPERE3-RefPol', u'EMF27-550-LimBio', u'EMF27-Base-FullTech'], dtype=object)"
      ]
     },
     "execution_count": 6,
     "metadata": {},
     "output_type": "execute_result"
    }
   ],
   "source": [
    "df.filter({'model': 'MESSAGE'})['scenario'].unique()"
   ]
  },
  {
   "cell_type": "code",
   "execution_count": 7,
   "metadata": {},
   "outputs": [
    {
     "data": {
      "text/plain": [
       "array([], dtype=object)"
      ]
     },
     "execution_count": 7,
     "metadata": {},
     "output_type": "execute_result"
    }
   ],
   "source": [
    "df.filter({'model': 'ESSAGE'})['scenario'].unique()"
   ]
  },
  {
   "cell_type": "markdown",
   "metadata": {},
   "source": [
    "### Filtering by variables and hierarchy levels\n",
    "\n",
    "Filtering for **variable** strings using regex\n",
    "is problematic due to the frequent use of the ``\"|\"`` character in the IAMC template\n",
    "to specify a hierarchical.\n",
    "Therefore, this package implements a pseudo-regex syntax, \n",
    "where ``|`` is escaped, ``*`` is used as a wildcard\n",
    "and exact matching at the end of the string is enforced.\n",
    "(in regex lingo, ``*`` is replaced by ``.*`` and ``$`` is appended to the filter string).\n",
    "> Filtering for _Primary Energy_ will return only exactly those data.  \n",
    "> Filtering for _Primary Energy|*_ will return all sub-categories of \n",
    "> primary-energy level (and only the sub-categories).\n",
    "\n",
    "In additon, IAM variables can be filtered by the **level**,\n",
    "i.e., the \"depth\" of the variable in a hierarchical reading of the string separated by `\"|\"`.\n",
    "That is, the variable _Primary Energy_ has level 0, while _Primary Energy|Coal_ has level 1.\n",
    "Filtering by both **variables** and **level** will search for the hierarchical depth \n",
    "_following the <variable> string_, so filter arguments _Primary Energy|*_ and _level = 0_\n",
    "will return all variables immediately below _Primary Energy_.\n",
    "Filtering by **level** only will return all variables up to that depth.\n",
    "\n",
    "To illustrate the functionality of the filters, we first show all sub-categories of the ``Emissions`` variable.  \n",
    "Then, we reduce variables to only two hierarchical levels below ``\"Emissions|\"``; the list returned by the function call will not include ``Emissions|CO2|Fossil Fuels and Industry|Energy Supply|Electricity``, because this variable is three hierarchical levels below ``\"Emissions|\"``.\n",
    "\n",
    "The third example shows how to filter only by hierarchical level. The function returns all variables that are at the top hierarchical level (i.e., ``Primary Energy``) and those at the first sub-category level.\n",
    "Keep in mind that there are no variables ``Emissions`` or ``Price`` (no top level)."
   ]
  },
  {
   "cell_type": "code",
   "execution_count": 8,
   "metadata": {},
   "outputs": [
    {
     "data": {
      "text/plain": [
       "array([u'Emissions|CO2', u'Emissions|CO2|Fossil Fuels and Industry',\n",
       "       u'Emissions|CO2|Fossil Fuels and Industry|Energy Supply',\n",
       "       u'Emissions|CO2|Fossil Fuels and Industry|Energy Supply|Electricity'], dtype=object)"
      ]
     },
     "execution_count": 8,
     "metadata": {},
     "output_type": "execute_result"
    }
   ],
   "source": [
    "df.filter(filters={'variable': 'Emissions|*'})['variable'].unique()"
   ]
  },
  {
   "cell_type": "code",
   "execution_count": 9,
   "metadata": {},
   "outputs": [
    {
     "data": {
      "text/plain": [
       "array([u'Emissions|CO2|Fossil Fuels and Industry|Energy Supply'], dtype=object)"
      ]
     },
     "execution_count": 9,
     "metadata": {},
     "output_type": "execute_result"
    }
   ],
   "source": [
    "df.filter(filters={'variable': 'Emissions|*', 'level': 2})['variable'].unique()"
   ]
  },
  {
   "cell_type": "code",
   "execution_count": 10,
   "metadata": {},
   "outputs": [
    {
     "data": {
      "text/plain": [
       "array([u'Emissions|CO2', u'Primary Energy', u'Price|Carbon',\n",
       "       u'Primary Energy|Coal'], dtype=object)"
      ]
     },
     "execution_count": 10,
     "metadata": {},
     "output_type": "execute_result"
    }
   ],
   "source": [
    "df.filter(filters={'level': '1-'})['variable'].unique()"
   ]
  },
  {
   "cell_type": "markdown",
   "metadata": {},
   "source": [
    "### Filtering by year\n",
    "\n",
    "Filtering for **years** can be done by integer number, a list of integers, or the Python class ``range``.  \n",
    "Note that the last year of a range is not included, so ``range(2010,2015)``\n",
    "is interpreted as ``[2010, 2011, 2012, 2013, 2014]``."
   ]
  },
  {
   "cell_type": "markdown",
   "metadata": {},
   "source": [
    "## Getting help\n",
    "\n",
    "When in doubt, you can look at the help for any function by appending it with a ``?``."
   ]
  },
  {
   "cell_type": "code",
   "execution_count": 11,
   "metadata": {
    "collapsed": true
   },
   "outputs": [],
   "source": [
    "df.filter?"
   ]
  },
  {
   "cell_type": "markdown",
   "metadata": {},
   "source": [
    "## Displaying timeseries data and plotting figures\n",
    "\n",
    "As a next step, we want to view a selection of the data in the tutorial snapshot using the IAMC standard.\n",
    "The filtered data can exported as a csv file by appending `.to_csv('selected_data.csv')` to the next command.\n",
    "\n",
    "For displaying data in a different format, the class ``IamDataFrame`` has a wrapper of the ``pandas.DataFrame.pivot_table()`` function. It allows to flexibly specify the columns and rows.\n",
    "The function automatically aggregates by summation or counting (specified by the parameter `aggfunc`) \n",
    "over all timeseries data identifiers ('model', 'scenario', 'variable', 'region', 'unit', 'year')\n",
    "which are not used as `index` or `columns`.\n",
    "\n",
    "In the example below, the filter of the timeseries data is set for all subcategories of 'Primary Energy', \n",
    "which are then summed up in the displayed table."
   ]
  },
  {
   "cell_type": "code",
   "execution_count": 12,
   "metadata": {},
   "outputs": [
    {
     "data": {
      "text/html": [
       "<div>\n",
       "<style scoped>\n",
       "    .dataframe tbody tr th:only-of-type {\n",
       "        vertical-align: middle;\n",
       "    }\n",
       "\n",
       "    .dataframe tbody tr th {\n",
       "        vertical-align: top;\n",
       "    }\n",
       "\n",
       "    .dataframe thead th {\n",
       "        text-align: right;\n",
       "    }\n",
       "</style>\n",
       "<table border=\"1\" class=\"dataframe\">\n",
       "  <thead>\n",
       "    <tr style=\"text-align: right;\">\n",
       "      <th></th>\n",
       "      <th></th>\n",
       "      <th></th>\n",
       "      <th></th>\n",
       "      <th>year</th>\n",
       "      <th>2005</th>\n",
       "      <th>2010</th>\n",
       "      <th>2020</th>\n",
       "      <th>2030</th>\n",
       "      <th>2040</th>\n",
       "      <th>2050</th>\n",
       "      <th>2060</th>\n",
       "      <th>2070</th>\n",
       "      <th>2080</th>\n",
       "      <th>2090</th>\n",
       "      <th>2100</th>\n",
       "    </tr>\n",
       "    <tr>\n",
       "      <th>model</th>\n",
       "      <th>scenario</th>\n",
       "      <th>region</th>\n",
       "      <th>variable</th>\n",
       "      <th>unit</th>\n",
       "      <th></th>\n",
       "      <th></th>\n",
       "      <th></th>\n",
       "      <th></th>\n",
       "      <th></th>\n",
       "      <th></th>\n",
       "      <th></th>\n",
       "      <th></th>\n",
       "      <th></th>\n",
       "      <th></th>\n",
       "      <th></th>\n",
       "    </tr>\n",
       "  </thead>\n",
       "  <tbody>\n",
       "    <tr>\n",
       "      <th rowspan=\"3\" valign=\"top\">GCAM 3.0</th>\n",
       "      <th>AMPERE3-450</th>\n",
       "      <th>World</th>\n",
       "      <th>Primary Energy|Coal</th>\n",
       "      <th>EJ/yr</th>\n",
       "      <td>120.76</td>\n",
       "      <td>144.95</td>\n",
       "      <td>176.44</td>\n",
       "      <td>204.42</td>\n",
       "      <td>212.84</td>\n",
       "      <td>186.02</td>\n",
       "      <td>138.23</td>\n",
       "      <td>106.98</td>\n",
       "      <td>82.44</td>\n",
       "      <td>36.55</td>\n",
       "      <td>14.89</td>\n",
       "    </tr>\n",
       "    <tr>\n",
       "      <th>AMPERE3-450P-CE</th>\n",
       "      <th>World</th>\n",
       "      <th>Primary Energy|Coal</th>\n",
       "      <th>EJ/yr</th>\n",
       "      <td>120.76</td>\n",
       "      <td>144.95</td>\n",
       "      <td>178.98</td>\n",
       "      <td>218.24</td>\n",
       "      <td>213.35</td>\n",
       "      <td>192.45</td>\n",
       "      <td>142.64</td>\n",
       "      <td>108.72</td>\n",
       "      <td>82.73</td>\n",
       "      <td>36.89</td>\n",
       "      <td>15.22</td>\n",
       "    </tr>\n",
       "    <tr>\n",
       "      <th>AMPERE3-450P-EU</th>\n",
       "      <th>World</th>\n",
       "      <th>Primary Energy|Coal</th>\n",
       "      <th>EJ/yr</th>\n",
       "      <td>120.76</td>\n",
       "      <td>144.95</td>\n",
       "      <td>189.86</td>\n",
       "      <td>241.25</td>\n",
       "      <td>224.25</td>\n",
       "      <td>191.70</td>\n",
       "      <td>136.72</td>\n",
       "      <td>102.51</td>\n",
       "      <td>80.72</td>\n",
       "      <td>35.70</td>\n",
       "      <td>14.45</td>\n",
       "    </tr>\n",
       "    <tr>\n",
       "      <th rowspan=\"3\" valign=\"top\">IMAGE 2.4</th>\n",
       "      <th>AMPERE3-450</th>\n",
       "      <th>World</th>\n",
       "      <th>Primary Energy|Coal</th>\n",
       "      <th>EJ/yr</th>\n",
       "      <td>111.62</td>\n",
       "      <td>138.69</td>\n",
       "      <td>148.60</td>\n",
       "      <td>121.24</td>\n",
       "      <td>102.62</td>\n",
       "      <td>101.41</td>\n",
       "      <td>111.41</td>\n",
       "      <td>138.40</td>\n",
       "      <td>181.03</td>\n",
       "      <td>224.03</td>\n",
       "      <td>264.77</td>\n",
       "    </tr>\n",
       "    <tr>\n",
       "      <th>AMPERE3-450P-CE</th>\n",
       "      <th>World</th>\n",
       "      <th>Primary Energy|Coal</th>\n",
       "      <th>EJ/yr</th>\n",
       "      <td>111.62</td>\n",
       "      <td>138.69</td>\n",
       "      <td>161.72</td>\n",
       "      <td>154.18</td>\n",
       "      <td>125.14</td>\n",
       "      <td>105.32</td>\n",
       "      <td>120.83</td>\n",
       "      <td>151.58</td>\n",
       "      <td>192.67</td>\n",
       "      <td>249.50</td>\n",
       "      <td>294.40</td>\n",
       "    </tr>\n",
       "    <tr>\n",
       "      <th>AMPERE3-450P-EU</th>\n",
       "      <th>World</th>\n",
       "      <th>Primary Energy|Coal</th>\n",
       "      <th>EJ/yr</th>\n",
       "      <td>111.62</td>\n",
       "      <td>138.69</td>\n",
       "      <td>173.83</td>\n",
       "      <td>193.98</td>\n",
       "      <td>153.90</td>\n",
       "      <td>122.29</td>\n",
       "      <td>131.70</td>\n",
       "      <td>153.42</td>\n",
       "      <td>187.40</td>\n",
       "      <td>249.47</td>\n",
       "      <td>300.00</td>\n",
       "    </tr>\n",
       "    <tr>\n",
       "      <th rowspan=\"2\" valign=\"top\">MESSAGE V.4</th>\n",
       "      <th>AMPERE3-450</th>\n",
       "      <th>World</th>\n",
       "      <th>Primary Energy|Coal</th>\n",
       "      <th>EJ/yr</th>\n",
       "      <td>121.12</td>\n",
       "      <td>138.09</td>\n",
       "      <td>119.94</td>\n",
       "      <td>93.11</td>\n",
       "      <td>52.07</td>\n",
       "      <td>71.91</td>\n",
       "      <td>98.09</td>\n",
       "      <td>127.76</td>\n",
       "      <td>136.08</td>\n",
       "      <td>108.49</td>\n",
       "      <td>41.21</td>\n",
       "    </tr>\n",
       "    <tr>\n",
       "      <th>AMPERE3-450P-EU</th>\n",
       "      <th>World</th>\n",
       "      <th>Primary Energy|Coal</th>\n",
       "      <th>EJ/yr</th>\n",
       "      <td>121.12</td>\n",
       "      <td>138.09</td>\n",
       "      <td>149.20</td>\n",
       "      <td>165.47</td>\n",
       "      <td>95.13</td>\n",
       "      <td>64.39</td>\n",
       "      <td>81.91</td>\n",
       "      <td>108.47</td>\n",
       "      <td>126.41</td>\n",
       "      <td>110.79</td>\n",
       "      <td>59.72</td>\n",
       "    </tr>\n",
       "    <tr>\n",
       "      <th rowspan=\"3\" valign=\"top\">REMIND 1.5</th>\n",
       "      <th>AMPERE3-450</th>\n",
       "      <th>World</th>\n",
       "      <th>Primary Energy|Coal</th>\n",
       "      <th>EJ/yr</th>\n",
       "      <td>122.20</td>\n",
       "      <td>135.47</td>\n",
       "      <td>92.72</td>\n",
       "      <td>45.87</td>\n",
       "      <td>22.33</td>\n",
       "      <td>20.39</td>\n",
       "      <td>16.64</td>\n",
       "      <td>12.35</td>\n",
       "      <td>5.94</td>\n",
       "      <td>2.36</td>\n",
       "      <td>1.77</td>\n",
       "    </tr>\n",
       "    <tr>\n",
       "      <th>AMPERE3-450P-CE</th>\n",
       "      <th>World</th>\n",
       "      <th>Primary Energy|Coal</th>\n",
       "      <th>EJ/yr</th>\n",
       "      <td>122.20</td>\n",
       "      <td>135.40</td>\n",
       "      <td>120.77</td>\n",
       "      <td>124.53</td>\n",
       "      <td>70.15</td>\n",
       "      <td>27.36</td>\n",
       "      <td>12.26</td>\n",
       "      <td>8.34</td>\n",
       "      <td>4.12</td>\n",
       "      <td>2.14</td>\n",
       "      <td>1.65</td>\n",
       "    </tr>\n",
       "    <tr>\n",
       "      <th>AMPERE3-450P-EU</th>\n",
       "      <th>World</th>\n",
       "      <th>Primary Energy|Coal</th>\n",
       "      <th>EJ/yr</th>\n",
       "      <td>122.20</td>\n",
       "      <td>135.39</td>\n",
       "      <td>147.40</td>\n",
       "      <td>179.17</td>\n",
       "      <td>103.90</td>\n",
       "      <td>33.31</td>\n",
       "      <td>10.36</td>\n",
       "      <td>6.77</td>\n",
       "      <td>3.51</td>\n",
       "      <td>2.08</td>\n",
       "      <td>1.66</td>\n",
       "    </tr>\n",
       "  </tbody>\n",
       "</table>\n",
       "</div>"
      ],
      "text/plain": [
       "year                                                            2005    2010  \\\n",
       "model       scenario        region variable            unit                    \n",
       "GCAM 3.0    AMPERE3-450     World  Primary Energy|Coal EJ/yr  120.76  144.95   \n",
       "            AMPERE3-450P-CE World  Primary Energy|Coal EJ/yr  120.76  144.95   \n",
       "            AMPERE3-450P-EU World  Primary Energy|Coal EJ/yr  120.76  144.95   \n",
       "IMAGE 2.4   AMPERE3-450     World  Primary Energy|Coal EJ/yr  111.62  138.69   \n",
       "            AMPERE3-450P-CE World  Primary Energy|Coal EJ/yr  111.62  138.69   \n",
       "            AMPERE3-450P-EU World  Primary Energy|Coal EJ/yr  111.62  138.69   \n",
       "MESSAGE V.4 AMPERE3-450     World  Primary Energy|Coal EJ/yr  121.12  138.09   \n",
       "            AMPERE3-450P-EU World  Primary Energy|Coal EJ/yr  121.12  138.09   \n",
       "REMIND 1.5  AMPERE3-450     World  Primary Energy|Coal EJ/yr  122.20  135.47   \n",
       "            AMPERE3-450P-CE World  Primary Energy|Coal EJ/yr  122.20  135.40   \n",
       "            AMPERE3-450P-EU World  Primary Energy|Coal EJ/yr  122.20  135.39   \n",
       "\n",
       "year                                                            2020    2030  \\\n",
       "model       scenario        region variable            unit                    \n",
       "GCAM 3.0    AMPERE3-450     World  Primary Energy|Coal EJ/yr  176.44  204.42   \n",
       "            AMPERE3-450P-CE World  Primary Energy|Coal EJ/yr  178.98  218.24   \n",
       "            AMPERE3-450P-EU World  Primary Energy|Coal EJ/yr  189.86  241.25   \n",
       "IMAGE 2.4   AMPERE3-450     World  Primary Energy|Coal EJ/yr  148.60  121.24   \n",
       "            AMPERE3-450P-CE World  Primary Energy|Coal EJ/yr  161.72  154.18   \n",
       "            AMPERE3-450P-EU World  Primary Energy|Coal EJ/yr  173.83  193.98   \n",
       "MESSAGE V.4 AMPERE3-450     World  Primary Energy|Coal EJ/yr  119.94   93.11   \n",
       "            AMPERE3-450P-EU World  Primary Energy|Coal EJ/yr  149.20  165.47   \n",
       "REMIND 1.5  AMPERE3-450     World  Primary Energy|Coal EJ/yr   92.72   45.87   \n",
       "            AMPERE3-450P-CE World  Primary Energy|Coal EJ/yr  120.77  124.53   \n",
       "            AMPERE3-450P-EU World  Primary Energy|Coal EJ/yr  147.40  179.17   \n",
       "\n",
       "year                                                            2040    2050  \\\n",
       "model       scenario        region variable            unit                    \n",
       "GCAM 3.0    AMPERE3-450     World  Primary Energy|Coal EJ/yr  212.84  186.02   \n",
       "            AMPERE3-450P-CE World  Primary Energy|Coal EJ/yr  213.35  192.45   \n",
       "            AMPERE3-450P-EU World  Primary Energy|Coal EJ/yr  224.25  191.70   \n",
       "IMAGE 2.4   AMPERE3-450     World  Primary Energy|Coal EJ/yr  102.62  101.41   \n",
       "            AMPERE3-450P-CE World  Primary Energy|Coal EJ/yr  125.14  105.32   \n",
       "            AMPERE3-450P-EU World  Primary Energy|Coal EJ/yr  153.90  122.29   \n",
       "MESSAGE V.4 AMPERE3-450     World  Primary Energy|Coal EJ/yr   52.07   71.91   \n",
       "            AMPERE3-450P-EU World  Primary Energy|Coal EJ/yr   95.13   64.39   \n",
       "REMIND 1.5  AMPERE3-450     World  Primary Energy|Coal EJ/yr   22.33   20.39   \n",
       "            AMPERE3-450P-CE World  Primary Energy|Coal EJ/yr   70.15   27.36   \n",
       "            AMPERE3-450P-EU World  Primary Energy|Coal EJ/yr  103.90   33.31   \n",
       "\n",
       "year                                                            2060    2070  \\\n",
       "model       scenario        region variable            unit                    \n",
       "GCAM 3.0    AMPERE3-450     World  Primary Energy|Coal EJ/yr  138.23  106.98   \n",
       "            AMPERE3-450P-CE World  Primary Energy|Coal EJ/yr  142.64  108.72   \n",
       "            AMPERE3-450P-EU World  Primary Energy|Coal EJ/yr  136.72  102.51   \n",
       "IMAGE 2.4   AMPERE3-450     World  Primary Energy|Coal EJ/yr  111.41  138.40   \n",
       "            AMPERE3-450P-CE World  Primary Energy|Coal EJ/yr  120.83  151.58   \n",
       "            AMPERE3-450P-EU World  Primary Energy|Coal EJ/yr  131.70  153.42   \n",
       "MESSAGE V.4 AMPERE3-450     World  Primary Energy|Coal EJ/yr   98.09  127.76   \n",
       "            AMPERE3-450P-EU World  Primary Energy|Coal EJ/yr   81.91  108.47   \n",
       "REMIND 1.5  AMPERE3-450     World  Primary Energy|Coal EJ/yr   16.64   12.35   \n",
       "            AMPERE3-450P-CE World  Primary Energy|Coal EJ/yr   12.26    8.34   \n",
       "            AMPERE3-450P-EU World  Primary Energy|Coal EJ/yr   10.36    6.77   \n",
       "\n",
       "year                                                            2080    2090  \\\n",
       "model       scenario        region variable            unit                    \n",
       "GCAM 3.0    AMPERE3-450     World  Primary Energy|Coal EJ/yr   82.44   36.55   \n",
       "            AMPERE3-450P-CE World  Primary Energy|Coal EJ/yr   82.73   36.89   \n",
       "            AMPERE3-450P-EU World  Primary Energy|Coal EJ/yr   80.72   35.70   \n",
       "IMAGE 2.4   AMPERE3-450     World  Primary Energy|Coal EJ/yr  181.03  224.03   \n",
       "            AMPERE3-450P-CE World  Primary Energy|Coal EJ/yr  192.67  249.50   \n",
       "            AMPERE3-450P-EU World  Primary Energy|Coal EJ/yr  187.40  249.47   \n",
       "MESSAGE V.4 AMPERE3-450     World  Primary Energy|Coal EJ/yr  136.08  108.49   \n",
       "            AMPERE3-450P-EU World  Primary Energy|Coal EJ/yr  126.41  110.79   \n",
       "REMIND 1.5  AMPERE3-450     World  Primary Energy|Coal EJ/yr    5.94    2.36   \n",
       "            AMPERE3-450P-CE World  Primary Energy|Coal EJ/yr    4.12    2.14   \n",
       "            AMPERE3-450P-EU World  Primary Energy|Coal EJ/yr    3.51    2.08   \n",
       "\n",
       "year                                                            2100  \n",
       "model       scenario        region variable            unit           \n",
       "GCAM 3.0    AMPERE3-450     World  Primary Energy|Coal EJ/yr   14.89  \n",
       "            AMPERE3-450P-CE World  Primary Energy|Coal EJ/yr   15.22  \n",
       "            AMPERE3-450P-EU World  Primary Energy|Coal EJ/yr   14.45  \n",
       "IMAGE 2.4   AMPERE3-450     World  Primary Energy|Coal EJ/yr  264.77  \n",
       "            AMPERE3-450P-CE World  Primary Energy|Coal EJ/yr  294.40  \n",
       "            AMPERE3-450P-EU World  Primary Energy|Coal EJ/yr  300.00  \n",
       "MESSAGE V.4 AMPERE3-450     World  Primary Energy|Coal EJ/yr   41.21  \n",
       "            AMPERE3-450P-EU World  Primary Energy|Coal EJ/yr   59.72  \n",
       "REMIND 1.5  AMPERE3-450     World  Primary Energy|Coal EJ/yr    1.77  \n",
       "            AMPERE3-450P-CE World  Primary Energy|Coal EJ/yr    1.65  \n",
       "            AMPERE3-450P-EU World  Primary Energy|Coal EJ/yr    1.66  "
      ]
     },
     "execution_count": 12,
     "metadata": {},
     "output_type": "execute_result"
    }
   ],
   "source": [
    "(df\n",
    " .filter(filters={'scenario': 'AMPERE3-450', 'variable': 'Primary Energy|Coal', 'region': 'World'})\n",
    " .timeseries()\n",
    ")"
   ]
  },
  {
   "cell_type": "code",
   "execution_count": 13,
   "metadata": {},
   "outputs": [
    {
     "data": {
      "text/html": [
       "<div>\n",
       "<style scoped>\n",
       "    .dataframe tbody tr th:only-of-type {\n",
       "        vertical-align: middle;\n",
       "    }\n",
       "\n",
       "    .dataframe tbody tr th {\n",
       "        vertical-align: top;\n",
       "    }\n",
       "\n",
       "    .dataframe thead th {\n",
       "        text-align: right;\n",
       "    }\n",
       "</style>\n",
       "<table border=\"1\" class=\"dataframe\">\n",
       "  <thead>\n",
       "    <tr style=\"text-align: right;\">\n",
       "      <th>scenario</th>\n",
       "      <th>AMPERE3-450</th>\n",
       "      <th>AMPERE3-450P-CE</th>\n",
       "      <th>AMPERE3-450P-EU</th>\n",
       "      <th>AMPERE3-550</th>\n",
       "      <th>AMPERE3-550P-EU</th>\n",
       "      <th>AMPERE3-Base-EUback</th>\n",
       "      <th>AMPERE3-CF450P-EU</th>\n",
       "      <th>AMPERE3-RefPol</th>\n",
       "      <th>EMF27-450-Conv</th>\n",
       "      <th>EMF27-450-NoCCS</th>\n",
       "      <th>EMF27-550-LimBio</th>\n",
       "      <th>EMF27-Base-FullTech</th>\n",
       "      <th>EMF27-G8-EERE</th>\n",
       "    </tr>\n",
       "    <tr>\n",
       "      <th>year</th>\n",
       "      <th></th>\n",
       "      <th></th>\n",
       "      <th></th>\n",
       "      <th></th>\n",
       "      <th></th>\n",
       "      <th></th>\n",
       "      <th></th>\n",
       "      <th></th>\n",
       "      <th></th>\n",
       "      <th></th>\n",
       "      <th></th>\n",
       "      <th></th>\n",
       "      <th></th>\n",
       "    </tr>\n",
       "  </thead>\n",
       "  <tbody>\n",
       "    <tr>\n",
       "      <th>2005</th>\n",
       "      <td>1821.09</td>\n",
       "      <td>1366.48</td>\n",
       "      <td>1821.09</td>\n",
       "      <td>1818.71</td>\n",
       "      <td>464.82</td>\n",
       "      <td>922.58</td>\n",
       "      <td>925.23</td>\n",
       "      <td>1818.44</td>\n",
       "      <td>2234.35</td>\n",
       "      <td>1381.84</td>\n",
       "      <td>3130.81</td>\n",
       "      <td>3130.60</td>\n",
       "      <td>868.79</td>\n",
       "    </tr>\n",
       "    <tr>\n",
       "      <th>2010</th>\n",
       "      <td>1972.13</td>\n",
       "      <td>1492.28</td>\n",
       "      <td>1972.02</td>\n",
       "      <td>1969.57</td>\n",
       "      <td>514.07</td>\n",
       "      <td>1015.78</td>\n",
       "      <td>1018.44</td>\n",
       "      <td>1969.50</td>\n",
       "      <td>2504.99</td>\n",
       "      <td>1542.90</td>\n",
       "      <td>3457.08</td>\n",
       "      <td>3459.28</td>\n",
       "      <td>985.16</td>\n",
       "    </tr>\n",
       "    <tr>\n",
       "      <th>2020</th>\n",
       "      <td>2253.49</td>\n",
       "      <td>1787.40</td>\n",
       "      <td>2399.41</td>\n",
       "      <td>2322.23</td>\n",
       "      <td>611.34</td>\n",
       "      <td>1258.24</td>\n",
       "      <td>1262.07</td>\n",
       "      <td>2401.37</td>\n",
       "      <td>2428.61</td>\n",
       "      <td>1424.26</td>\n",
       "      <td>3781.16</td>\n",
       "      <td>4135.65</td>\n",
       "      <td>947.08</td>\n",
       "    </tr>\n",
       "    <tr>\n",
       "      <th>2030</th>\n",
       "      <td>2530.95</td>\n",
       "      <td>2101.60</td>\n",
       "      <td>2863.85</td>\n",
       "      <td>2670.22</td>\n",
       "      <td>734.11</td>\n",
       "      <td>1532.12</td>\n",
       "      <td>1536.54</td>\n",
       "      <td>2869.96</td>\n",
       "      <td>2545.94</td>\n",
       "      <td>1470.64</td>\n",
       "      <td>4057.28</td>\n",
       "      <td>4846.37</td>\n",
       "      <td>933.08</td>\n",
       "    </tr>\n",
       "    <tr>\n",
       "      <th>2040</th>\n",
       "      <td>2795.47</td>\n",
       "      <td>2206.09</td>\n",
       "      <td>2940.96</td>\n",
       "      <td>3000.37</td>\n",
       "      <td>789.70</td>\n",
       "      <td>1802.62</td>\n",
       "      <td>1574.14</td>\n",
       "      <td>3305.70</td>\n",
       "      <td>2698.99</td>\n",
       "      <td>1670.51</td>\n",
       "      <td>4355.16</td>\n",
       "      <td>5588.19</td>\n",
       "      <td>1007.83</td>\n",
       "    </tr>\n",
       "    <tr>\n",
       "      <th>2050</th>\n",
       "      <td>3064.07</td>\n",
       "      <td>2348.02</td>\n",
       "      <td>3087.59</td>\n",
       "      <td>3312.70</td>\n",
       "      <td>815.79</td>\n",
       "      <td>2104.63</td>\n",
       "      <td>1652.02</td>\n",
       "      <td>3709.45</td>\n",
       "      <td>2759.41</td>\n",
       "      <td>1794.47</td>\n",
       "      <td>4586.40</td>\n",
       "      <td>6353.16</td>\n",
       "      <td>1075.16</td>\n",
       "    </tr>\n",
       "    <tr>\n",
       "      <th>2060</th>\n",
       "      <td>3321.63</td>\n",
       "      <td>2537.42</td>\n",
       "      <td>3317.84</td>\n",
       "      <td>3532.21</td>\n",
       "      <td>861.79</td>\n",
       "      <td>2359.38</td>\n",
       "      <td>1774.56</td>\n",
       "      <td>4056.44</td>\n",
       "      <td>2198.22</td>\n",
       "      <td>1257.99</td>\n",
       "      <td>4164.92</td>\n",
       "      <td>6172.01</td>\n",
       "      <td>531.36</td>\n",
       "    </tr>\n",
       "    <tr>\n",
       "      <th>2070</th>\n",
       "      <td>3512.57</td>\n",
       "      <td>2683.30</td>\n",
       "      <td>3526.56</td>\n",
       "      <td>3722.65</td>\n",
       "      <td>901.57</td>\n",
       "      <td>2564.68</td>\n",
       "      <td>1912.48</td>\n",
       "      <td>4391.18</td>\n",
       "      <td>2240.64</td>\n",
       "      <td>1344.42</td>\n",
       "      <td>4430.28</td>\n",
       "      <td>6768.95</td>\n",
       "      <td>563.62</td>\n",
       "    </tr>\n",
       "    <tr>\n",
       "      <th>2080</th>\n",
       "      <td>3689.77</td>\n",
       "      <td>2824.81</td>\n",
       "      <td>3724.06</td>\n",
       "      <td>3926.94</td>\n",
       "      <td>943.47</td>\n",
       "      <td>2708.68</td>\n",
       "      <td>2033.99</td>\n",
       "      <td>4700.20</td>\n",
       "      <td>2256.69</td>\n",
       "      <td>1461.97</td>\n",
       "      <td>4690.79</td>\n",
       "      <td>7288.74</td>\n",
       "      <td>568.90</td>\n",
       "    </tr>\n",
       "    <tr>\n",
       "      <th>2090</th>\n",
       "      <td>3946.92</td>\n",
       "      <td>3025.65</td>\n",
       "      <td>3962.55</td>\n",
       "      <td>4120.64</td>\n",
       "      <td>964.16</td>\n",
       "      <td>2775.73</td>\n",
       "      <td>2190.16</td>\n",
       "      <td>4959.63</td>\n",
       "      <td>2259.28</td>\n",
       "      <td>1576.82</td>\n",
       "      <td>4965.55</td>\n",
       "      <td>7653.56</td>\n",
       "      <td>550.30</td>\n",
       "    </tr>\n",
       "    <tr>\n",
       "      <th>2100</th>\n",
       "      <td>4263.04</td>\n",
       "      <td>3281.83</td>\n",
       "      <td>4272.05</td>\n",
       "      <td>4387.84</td>\n",
       "      <td>1005.66</td>\n",
       "      <td>2879.44</td>\n",
       "      <td>2403.99</td>\n",
       "      <td>5217.67</td>\n",
       "      <td>2246.02</td>\n",
       "      <td>1729.13</td>\n",
       "      <td>5188.70</td>\n",
       "      <td>7983.73</td>\n",
       "      <td>563.39</td>\n",
       "    </tr>\n",
       "  </tbody>\n",
       "</table>\n",
       "</div>"
      ],
      "text/plain": [
       "scenario  AMPERE3-450  AMPERE3-450P-CE  AMPERE3-450P-EU  AMPERE3-550  \\\n",
       "year                                                                   \n",
       "2005          1821.09          1366.48          1821.09      1818.71   \n",
       "2010          1972.13          1492.28          1972.02      1969.57   \n",
       "2020          2253.49          1787.40          2399.41      2322.23   \n",
       "2030          2530.95          2101.60          2863.85      2670.22   \n",
       "2040          2795.47          2206.09          2940.96      3000.37   \n",
       "2050          3064.07          2348.02          3087.59      3312.70   \n",
       "2060          3321.63          2537.42          3317.84      3532.21   \n",
       "2070          3512.57          2683.30          3526.56      3722.65   \n",
       "2080          3689.77          2824.81          3724.06      3926.94   \n",
       "2090          3946.92          3025.65          3962.55      4120.64   \n",
       "2100          4263.04          3281.83          4272.05      4387.84   \n",
       "\n",
       "scenario  AMPERE3-550P-EU  AMPERE3-Base-EUback  AMPERE3-CF450P-EU  \\\n",
       "year                                                                \n",
       "2005               464.82               922.58             925.23   \n",
       "2010               514.07              1015.78            1018.44   \n",
       "2020               611.34              1258.24            1262.07   \n",
       "2030               734.11              1532.12            1536.54   \n",
       "2040               789.70              1802.62            1574.14   \n",
       "2050               815.79              2104.63            1652.02   \n",
       "2060               861.79              2359.38            1774.56   \n",
       "2070               901.57              2564.68            1912.48   \n",
       "2080               943.47              2708.68            2033.99   \n",
       "2090               964.16              2775.73            2190.16   \n",
       "2100              1005.66              2879.44            2403.99   \n",
       "\n",
       "scenario  AMPERE3-RefPol  EMF27-450-Conv  EMF27-450-NoCCS  EMF27-550-LimBio  \\\n",
       "year                                                                          \n",
       "2005             1818.44         2234.35          1381.84           3130.81   \n",
       "2010             1969.50         2504.99          1542.90           3457.08   \n",
       "2020             2401.37         2428.61          1424.26           3781.16   \n",
       "2030             2869.96         2545.94          1470.64           4057.28   \n",
       "2040             3305.70         2698.99          1670.51           4355.16   \n",
       "2050             3709.45         2759.41          1794.47           4586.40   \n",
       "2060             4056.44         2198.22          1257.99           4164.92   \n",
       "2070             4391.18         2240.64          1344.42           4430.28   \n",
       "2080             4700.20         2256.69          1461.97           4690.79   \n",
       "2090             4959.63         2259.28          1576.82           4965.55   \n",
       "2100             5217.67         2246.02          1729.13           5188.70   \n",
       "\n",
       "scenario  EMF27-Base-FullTech  EMF27-G8-EERE  \n",
       "year                                          \n",
       "2005                  3130.60         868.79  \n",
       "2010                  3459.28         985.16  \n",
       "2020                  4135.65         947.08  \n",
       "2030                  4846.37         933.08  \n",
       "2040                  5588.19        1007.83  \n",
       "2050                  6353.16        1075.16  \n",
       "2060                  6172.01         531.36  \n",
       "2070                  6768.95         563.62  \n",
       "2080                  7288.74         568.90  \n",
       "2090                  7653.56         550.30  \n",
       "2100                  7983.73         563.39  "
      ]
     },
     "execution_count": 13,
     "metadata": {},
     "output_type": "execute_result"
    }
   ],
   "source": [
    "(df\n",
    " .filter({'variable': 'Primary Energy', 'region': 'World'})\n",
    " .pivot_table(index=['year'], columns=['scenario'], values='value', aggfunc='sum')\n",
    ")"
   ]
  },
  {
   "cell_type": "markdown",
   "metadata": {},
   "source": [
    "If you are familiar with the `python` package `pandas`, you can treat the IamDataFrame similarly."
   ]
  },
  {
   "cell_type": "code",
   "execution_count": 14,
   "metadata": {},
   "outputs": [
    {
     "data": {
      "text/html": [
       "<div>\n",
       "<style scoped>\n",
       "    .dataframe tbody tr th:only-of-type {\n",
       "        vertical-align: middle;\n",
       "    }\n",
       "\n",
       "    .dataframe tbody tr th {\n",
       "        vertical-align: top;\n",
       "    }\n",
       "\n",
       "    .dataframe thead th {\n",
       "        text-align: right;\n",
       "    }\n",
       "</style>\n",
       "<table border=\"1\" class=\"dataframe\">\n",
       "  <thead>\n",
       "    <tr style=\"text-align: right;\">\n",
       "      <th></th>\n",
       "      <th>model</th>\n",
       "      <th>scenario</th>\n",
       "      <th>region</th>\n",
       "      <th>variable</th>\n",
       "      <th>unit</th>\n",
       "      <th>year</th>\n",
       "      <th>value</th>\n",
       "    </tr>\n",
       "  </thead>\n",
       "  <tbody>\n",
       "    <tr>\n",
       "      <th>0</th>\n",
       "      <td>AIM-Enduse 12.1</td>\n",
       "      <td>EMF27-450-Conv</td>\n",
       "      <td>ASIA</td>\n",
       "      <td>Emissions|CO2</td>\n",
       "      <td>Mt CO2/yr</td>\n",
       "      <td>2005</td>\n",
       "      <td>10540.74</td>\n",
       "    </tr>\n",
       "    <tr>\n",
       "      <th>1</th>\n",
       "      <td>AIM-Enduse 12.1</td>\n",
       "      <td>EMF27-450-Conv</td>\n",
       "      <td>ASIA</td>\n",
       "      <td>Emissions|CO2|Fossil Fuels and Industry</td>\n",
       "      <td>Mt CO2/yr</td>\n",
       "      <td>2005</td>\n",
       "      <td>9126.18</td>\n",
       "    </tr>\n",
       "    <tr>\n",
       "      <th>2</th>\n",
       "      <td>AIM-Enduse 12.1</td>\n",
       "      <td>EMF27-450-Conv</td>\n",
       "      <td>ASIA</td>\n",
       "      <td>Primary Energy</td>\n",
       "      <td>EJ/yr</td>\n",
       "      <td>2005</td>\n",
       "      <td>133.56</td>\n",
       "    </tr>\n",
       "    <tr>\n",
       "      <th>3</th>\n",
       "      <td>AIM-Enduse 12.1</td>\n",
       "      <td>EMF27-450-Conv</td>\n",
       "      <td>LAM</td>\n",
       "      <td>Emissions|CO2</td>\n",
       "      <td>Mt CO2/yr</td>\n",
       "      <td>2005</td>\n",
       "      <td>3285.00</td>\n",
       "    </tr>\n",
       "    <tr>\n",
       "      <th>4</th>\n",
       "      <td>AIM-Enduse 12.1</td>\n",
       "      <td>EMF27-450-Conv</td>\n",
       "      <td>LAM</td>\n",
       "      <td>Emissions|CO2|Fossil Fuels and Industry</td>\n",
       "      <td>Mt CO2/yr</td>\n",
       "      <td>2005</td>\n",
       "      <td>1422.06</td>\n",
       "    </tr>\n",
       "  </tbody>\n",
       "</table>\n",
       "</div>"
      ],
      "text/plain": [
       "             model        scenario region  \\\n",
       "0  AIM-Enduse 12.1  EMF27-450-Conv   ASIA   \n",
       "1  AIM-Enduse 12.1  EMF27-450-Conv   ASIA   \n",
       "2  AIM-Enduse 12.1  EMF27-450-Conv   ASIA   \n",
       "3  AIM-Enduse 12.1  EMF27-450-Conv    LAM   \n",
       "4  AIM-Enduse 12.1  EMF27-450-Conv    LAM   \n",
       "\n",
       "                                  variable       unit  year     value  \n",
       "0                            Emissions|CO2  Mt CO2/yr  2005  10540.74  \n",
       "1  Emissions|CO2|Fossil Fuels and Industry  Mt CO2/yr  2005   9126.18  \n",
       "2                           Primary Energy      EJ/yr  2005    133.56  \n",
       "3                            Emissions|CO2  Mt CO2/yr  2005   3285.00  \n",
       "4  Emissions|CO2|Fossil Fuels and Industry  Mt CO2/yr  2005   1422.06  "
      ]
     },
     "execution_count": 14,
     "metadata": {},
     "output_type": "execute_result"
    }
   ],
   "source": [
    "df.head()"
   ]
  },
  {
   "cell_type": "markdown",
   "metadata": {},
   "source": [
    "## Visualization of timeseries\n",
    "\n",
    "Please see the `plotting.ipynb` notebook for a full tutorial on plotting."
   ]
  },
  {
   "cell_type": "markdown",
   "metadata": {},
   "source": [
    "## Validation and diagnostic assessment of timeseries data\n",
    "\n",
    "When analyzing scenario results, it is often useful to check whether certain timeseries exist or the values are within a specific range. For example, it may make sense to ensure that reported data for historical periods are close to established reference data.\n",
    "\n",
    "The following section provides three illustrations:\n",
    "1. Check whether a timeseries `'Primary Energy'` exists in each scenario (in at least one year).\n",
    "2. Check for every scenario whether the value for `'Primary Energy'` at the global level exceeds 515 EJ/y \n",
    "   in the reference year 2010\n",
    "   (the value must satisfy an upper bound of 515 EJ/y in this notation).\n",
    "3. Check for every scenario whether the value for `'Primary Energy|Coal'` exceeds 400 EJ/y in mid-century.\n",
    "\n",
    "The `validate()` function takes a `filters` dictionary to perform the checks on a selection of models/scenarios\n",
    "similar to the functions introduced above.  \n",
    "The ``criteria`` argument can specify a valid range by an upper and lower bound (``up``, ``lo``) for a variable and a subset of years to which the validation is applied - all scenarios with a value in at least one year outside that range are considered to *not satisfy* the validation.\n",
    "\n",
    "By setting the argument ``exclude=True``, all scenarios failing the validation will be categorized as ``exclude``.\n",
    "These scenarios will not be shown by default in any subsequent data tables or plots."
   ]
  },
  {
   "cell_type": "code",
   "execution_count": 15,
   "metadata": {
    "collapsed": true
   },
   "outputs": [],
   "source": [
    "df.validate?"
   ]
  },
  {
   "cell_type": "code",
   "execution_count": 16,
   "metadata": {},
   "outputs": [
    {
     "name": "stderr",
     "output_type": "stream",
     "text": [
      "INFO:root:9 of 6622 data points to not satisfy the criteria\n"
     ]
    },
    {
     "data": {
      "text/html": [
       "<div>\n",
       "<style scoped>\n",
       "    .dataframe tbody tr th:only-of-type {\n",
       "        vertical-align: middle;\n",
       "    }\n",
       "\n",
       "    .dataframe tbody tr th {\n",
       "        vertical-align: top;\n",
       "    }\n",
       "\n",
       "    .dataframe thead th {\n",
       "        text-align: right;\n",
       "    }\n",
       "</style>\n",
       "<table border=\"1\" class=\"dataframe\">\n",
       "  <thead>\n",
       "    <tr style=\"text-align: right;\">\n",
       "      <th></th>\n",
       "      <th>model</th>\n",
       "      <th>scenario</th>\n",
       "      <th>region</th>\n",
       "      <th>variable</th>\n",
       "      <th>unit</th>\n",
       "      <th>year</th>\n",
       "      <th>value</th>\n",
       "    </tr>\n",
       "  </thead>\n",
       "  <tbody>\n",
       "    <tr>\n",
       "      <th>770</th>\n",
       "      <td>AIM-Enduse 12.1</td>\n",
       "      <td>EMF27-G8-EERE</td>\n",
       "      <td>World</td>\n",
       "      <td>Primary Energy</td>\n",
       "      <td>EJ/yr</td>\n",
       "      <td>2010</td>\n",
       "      <td>518.64</td>\n",
       "    </tr>\n",
       "    <tr>\n",
       "      <th>678</th>\n",
       "      <td>AIM-Enduse 12.1</td>\n",
       "      <td>EMF27-450-Conv</td>\n",
       "      <td>World</td>\n",
       "      <td>Primary Energy</td>\n",
       "      <td>EJ/yr</td>\n",
       "      <td>2010</td>\n",
       "      <td>518.89</td>\n",
       "    </tr>\n",
       "    <tr>\n",
       "      <th>1223</th>\n",
       "      <td>REMIND 1.5</td>\n",
       "      <td>EMF27-550-LimBio</td>\n",
       "      <td>World</td>\n",
       "      <td>Primary Energy</td>\n",
       "      <td>EJ/yr</td>\n",
       "      <td>2010</td>\n",
       "      <td>519.64</td>\n",
       "    </tr>\n",
       "    <tr>\n",
       "      <th>747</th>\n",
       "      <td>AIM-Enduse 12.1</td>\n",
       "      <td>EMF27-Base-FullTech</td>\n",
       "      <td>World</td>\n",
       "      <td>Primary Energy</td>\n",
       "      <td>EJ/yr</td>\n",
       "      <td>2010</td>\n",
       "      <td>518.81</td>\n",
       "    </tr>\n",
       "    <tr>\n",
       "      <th>1181</th>\n",
       "      <td>REMIND 1.5</td>\n",
       "      <td>EMF27-450-Conv</td>\n",
       "      <td>World</td>\n",
       "      <td>Primary Energy</td>\n",
       "      <td>EJ/yr</td>\n",
       "      <td>2010</td>\n",
       "      <td>519.64</td>\n",
       "    </tr>\n",
       "    <tr>\n",
       "      <th>1202</th>\n",
       "      <td>REMIND 1.5</td>\n",
       "      <td>EMF27-450-NoCCS</td>\n",
       "      <td>World</td>\n",
       "      <td>Primary Energy</td>\n",
       "      <td>EJ/yr</td>\n",
       "      <td>2010</td>\n",
       "      <td>519.64</td>\n",
       "    </tr>\n",
       "    <tr>\n",
       "      <th>724</th>\n",
       "      <td>AIM-Enduse 12.1</td>\n",
       "      <td>EMF27-550-LimBio</td>\n",
       "      <td>World</td>\n",
       "      <td>Primary Energy</td>\n",
       "      <td>EJ/yr</td>\n",
       "      <td>2010</td>\n",
       "      <td>518.81</td>\n",
       "    </tr>\n",
       "    <tr>\n",
       "      <th>1244</th>\n",
       "      <td>REMIND 1.5</td>\n",
       "      <td>EMF27-Base-FullTech</td>\n",
       "      <td>World</td>\n",
       "      <td>Primary Energy</td>\n",
       "      <td>EJ/yr</td>\n",
       "      <td>2010</td>\n",
       "      <td>519.64</td>\n",
       "    </tr>\n",
       "    <tr>\n",
       "      <th>701</th>\n",
       "      <td>AIM-Enduse 12.1</td>\n",
       "      <td>EMF27-450-NoCCS</td>\n",
       "      <td>World</td>\n",
       "      <td>Primary Energy</td>\n",
       "      <td>EJ/yr</td>\n",
       "      <td>2010</td>\n",
       "      <td>518.81</td>\n",
       "    </tr>\n",
       "  </tbody>\n",
       "</table>\n",
       "</div>"
      ],
      "text/plain": [
       "                model             scenario region        variable   unit  \\\n",
       "770   AIM-Enduse 12.1        EMF27-G8-EERE  World  Primary Energy  EJ/yr   \n",
       "678   AIM-Enduse 12.1       EMF27-450-Conv  World  Primary Energy  EJ/yr   \n",
       "1223       REMIND 1.5     EMF27-550-LimBio  World  Primary Energy  EJ/yr   \n",
       "747   AIM-Enduse 12.1  EMF27-Base-FullTech  World  Primary Energy  EJ/yr   \n",
       "1181       REMIND 1.5       EMF27-450-Conv  World  Primary Energy  EJ/yr   \n",
       "1202       REMIND 1.5      EMF27-450-NoCCS  World  Primary Energy  EJ/yr   \n",
       "724   AIM-Enduse 12.1     EMF27-550-LimBio  World  Primary Energy  EJ/yr   \n",
       "1244       REMIND 1.5  EMF27-Base-FullTech  World  Primary Energy  EJ/yr   \n",
       "701   AIM-Enduse 12.1      EMF27-450-NoCCS  World  Primary Energy  EJ/yr   \n",
       "\n",
       "      year   value  \n",
       "770   2010  518.64  \n",
       "678   2010  518.89  \n",
       "1223  2010  519.64  \n",
       "747   2010  518.81  \n",
       "1181  2010  519.64  \n",
       "1202  2010  519.64  \n",
       "724   2010  518.81  \n",
       "1244  2010  519.64  \n",
       "701   2010  518.81  "
      ]
     },
     "execution_count": 16,
     "metadata": {},
     "output_type": "execute_result"
    }
   ],
   "source": [
    "df.validate(criteria={'Primary Energy': {'up': 515, 'year': 2010}})"
   ]
  },
  {
   "cell_type": "code",
   "execution_count": 17,
   "metadata": {},
   "outputs": [
    {
     "name": "stderr",
     "output_type": "stream",
     "text": [
      "INFO:root:2 of 3565 data points to not satisfy the criteria\n"
     ]
    },
    {
     "data": {
      "text/html": [
       "<div>\n",
       "<style scoped>\n",
       "    .dataframe tbody tr th:only-of-type {\n",
       "        vertical-align: middle;\n",
       "    }\n",
       "\n",
       "    .dataframe tbody tr th {\n",
       "        vertical-align: top;\n",
       "    }\n",
       "\n",
       "    .dataframe thead th {\n",
       "        text-align: right;\n",
       "    }\n",
       "</style>\n",
       "<table border=\"1\" class=\"dataframe\">\n",
       "  <thead>\n",
       "    <tr style=\"text-align: right;\">\n",
       "      <th></th>\n",
       "      <th>model</th>\n",
       "      <th>scenario</th>\n",
       "      <th>region</th>\n",
       "      <th>variable</th>\n",
       "      <th>unit</th>\n",
       "      <th>year</th>\n",
       "      <th>value</th>\n",
       "    </tr>\n",
       "  </thead>\n",
       "  <tbody>\n",
       "    <tr>\n",
       "      <th>3432</th>\n",
       "      <td>GCAM 3.0</td>\n",
       "      <td>AMPERE3-Base-EUback</td>\n",
       "      <td>World</td>\n",
       "      <td>Primary Energy|Coal</td>\n",
       "      <td>EJ/yr</td>\n",
       "      <td>2050</td>\n",
       "      <td>424.09</td>\n",
       "    </tr>\n",
       "    <tr>\n",
       "      <th>3659</th>\n",
       "      <td>MERGE_EMF27</td>\n",
       "      <td>EMF27-Base-FullTech</td>\n",
       "      <td>World</td>\n",
       "      <td>Primary Energy|Coal</td>\n",
       "      <td>EJ/yr</td>\n",
       "      <td>2050</td>\n",
       "      <td>605.76</td>\n",
       "    </tr>\n",
       "  </tbody>\n",
       "</table>\n",
       "</div>"
      ],
      "text/plain": [
       "            model             scenario region             variable   unit  \\\n",
       "3432     GCAM 3.0  AMPERE3-Base-EUback  World  Primary Energy|Coal  EJ/yr   \n",
       "3659  MERGE_EMF27  EMF27-Base-FullTech  World  Primary Energy|Coal  EJ/yr   \n",
       "\n",
       "      year   value  \n",
       "3432  2050  424.09  \n",
       "3659  2050  605.76  "
      ]
     },
     "execution_count": 17,
     "metadata": {},
     "output_type": "execute_result"
    }
   ],
   "source": [
    "(df\n",
    " .filter(filters={'region': 'World'})\n",
    " .validate(criteria={'Primary Energy|Coal': {'up': 400, 'year': 2050}})\n",
    ")"
   ]
  },
  {
   "cell_type": "code",
   "execution_count": 18,
   "metadata": {},
   "outputs": [
    {
     "name": "stderr",
     "output_type": "stream",
     "text": [
      "INFO:root:2 of 3565 data points to not satisfy the criteria\n"
     ]
    },
    {
     "data": {
      "text/html": [
       "<div>\n",
       "<style scoped>\n",
       "    .dataframe tbody tr th:only-of-type {\n",
       "        vertical-align: middle;\n",
       "    }\n",
       "\n",
       "    .dataframe tbody tr th {\n",
       "        vertical-align: top;\n",
       "    }\n",
       "\n",
       "    .dataframe thead th {\n",
       "        text-align: right;\n",
       "    }\n",
       "</style>\n",
       "<table border=\"1\" class=\"dataframe\">\n",
       "  <thead>\n",
       "    <tr style=\"text-align: right;\">\n",
       "      <th></th>\n",
       "      <th>model</th>\n",
       "      <th>scenario</th>\n",
       "      <th>region</th>\n",
       "      <th>variable</th>\n",
       "      <th>unit</th>\n",
       "      <th>year</th>\n",
       "      <th>value</th>\n",
       "    </tr>\n",
       "  </thead>\n",
       "  <tbody>\n",
       "    <tr>\n",
       "      <th>3432</th>\n",
       "      <td>GCAM 3.0</td>\n",
       "      <td>AMPERE3-Base-EUback</td>\n",
       "      <td>World</td>\n",
       "      <td>Primary Energy|Coal</td>\n",
       "      <td>EJ/yr</td>\n",
       "      <td>2050</td>\n",
       "      <td>424.09</td>\n",
       "    </tr>\n",
       "    <tr>\n",
       "      <th>3659</th>\n",
       "      <td>MERGE_EMF27</td>\n",
       "      <td>EMF27-Base-FullTech</td>\n",
       "      <td>World</td>\n",
       "      <td>Primary Energy|Coal</td>\n",
       "      <td>EJ/yr</td>\n",
       "      <td>2050</td>\n",
       "      <td>605.76</td>\n",
       "    </tr>\n",
       "  </tbody>\n",
       "</table>\n",
       "</div>"
      ],
      "text/plain": [
       "            model             scenario region             variable   unit  \\\n",
       "3432     GCAM 3.0  AMPERE3-Base-EUback  World  Primary Energy|Coal  EJ/yr   \n",
       "3659  MERGE_EMF27  EMF27-Base-FullTech  World  Primary Energy|Coal  EJ/yr   \n",
       "\n",
       "      year   value  \n",
       "3432  2050  424.09  \n",
       "3659  2050  605.76  "
      ]
     },
     "execution_count": 18,
     "metadata": {},
     "output_type": "execute_result"
    }
   ],
   "source": [
    "pyam.validate(df, \n",
    "             filters={'region': 'World'}, \n",
    "             criteria={'Primary Energy|Coal': {'up': 400, 'year': 2050}}\n",
    ")"
   ]
  },
  {
   "cell_type": "markdown",
   "metadata": {},
   "source": [
    "## Categorization of scenarios by timeseries characteristics\n",
    "\n",
    "It is often useful to apply categorization to classes of scenarios according to specific characteristics of the timeseries data.\n",
    "\n",
    "In the following example, we use the temperature change assessment by MAGICC 6 to group scenarios by the median global warming by the end of the century (year 2100).\n",
    "\n",
    "We proceed in the following steps:\n",
    "\n",
    "0. Plot the timeseries data of the variable that we want to use. \n",
    "   This provides some insights on useful thresholds for the categorization.\n",
    "0. Use the function ``category()`` to apply a categorization (and colour code for later use) \n",
    "   to all scenarios that satisfy a number of specific criteria.\n",
    "0. Use the categorization of scenarios for analysis of other timeseries data."
   ]
  },
  {
   "cell_type": "code",
   "execution_count": 19,
   "metadata": {},
   "outputs": [
    {
     "data": {
      "text/plain": [
       "<matplotlib.axes._subplots.AxesSubplot at 0x7f3cbc3b3d90>"
      ]
     },
     "execution_count": 19,
     "metadata": {},
     "output_type": "execute_result"
    },
    {
     "data": {
      "image/png": "[encoded data removed]",
      "text/plain": [
       "<matplotlib.figure.Figure at 0x7f3cbc438f10>"
      ]
     },
     "metadata": {},
     "output_type": "display_data"
    }
   ],
   "source": [
    "df.filter({'variable': 'Temperature*'}).line_plot()"
   ]
  },
  {
   "cell_type": "markdown",
   "metadata": {},
   "source": [
    "We now use the categorization feature of the ``pyam`` package. \n",
    "By default, each model/scenario is assigned as ``\"uncategorized\"``.\n",
    "\n",
    "The next function resets all scenarios back to ``\"uncategorized\"``. This may be helpful in this tutorial if you are going back and forth between cells."
   ]
  },
  {
   "cell_type": "code",
   "execution_count": 20,
   "metadata": {},
   "outputs": [
    {
     "name": "stderr",
     "output_type": "stream",
     "text": [
      "INFO:root:4 scenario(s) categorized as Temperature 'Below 1.6C'\n"
     ]
    }
   ],
   "source": [
    "df.categorize(\n",
    "    'Temperature', 'Below 1.6C',\n",
    "    criteria={'Temperature|Global Mean|MAGICC6|MED': {'up': 1.6, 'year': 2100}},\n",
    "    color='cornflowerblue'\n",
    ")"
   ]
  },
  {
   "cell_type": "code",
   "execution_count": 21,
   "metadata": {},
   "outputs": [
    {
     "name": "stderr",
     "output_type": "stream",
     "text": [
      "INFO:root:8 scenario(s) categorized as Temperature 'Below 2.0C'\n"
     ]
    }
   ],
   "source": [
    "df.categorize(\n",
    "    'Temperature', 'Below 2.0C',\n",
    "    criteria={'Temperature|Global Mean|MAGICC6|MED': {'up': 2.0, 'lo': 1.6, 'year': 2100}},\n",
    "    color='forestgreen'\n",
    ")"
   ]
  },
  {
   "cell_type": "code",
   "execution_count": 22,
   "metadata": {},
   "outputs": [
    {
     "name": "stderr",
     "output_type": "stream",
     "text": [
      "INFO:root:16 scenario(s) categorized as Temperature 'Below 2.5C'\n"
     ]
    }
   ],
   "source": [
    "df.categorize(\n",
    "    'Temperature', 'Below 2.5C',\n",
    "    criteria={'Temperature|Global Mean|MAGICC6|MED': {'up': 2.5, 'lo': 2.0, 'year': 2100}},\n",
    "    color='gold'\n",
    ")"
   ]
  },
  {
   "cell_type": "code",
   "execution_count": 23,
   "metadata": {},
   "outputs": [
    {
     "name": "stderr",
     "output_type": "stream",
     "text": [
      "INFO:root:3 scenario(s) categorized as Temperature 'Below 3.5C'\n"
     ]
    }
   ],
   "source": [
    "df.categorize(\n",
    "    'Temperature', 'Below 3.5C',\n",
    "     criteria={'Temperature|Global Mean|MAGICC6|MED': {'up': 3.5, 'lo': 2.5, 'year': 2100}},\n",
    "     color='firebrick'\n",
    ")"
   ]
  },
  {
   "cell_type": "code",
   "execution_count": 24,
   "metadata": {},
   "outputs": [
    {
     "name": "stderr",
     "output_type": "stream",
     "text": [
      "INFO:root:9 scenario(s) categorized as Temperature 'Above 3.5C'\n"
     ]
    }
   ],
   "source": [
    "df.categorize(\n",
    "    'Temperature', 'Above 3.5C',\n",
    "    criteria={'Temperature|Global Mean|MAGICC6|MED': {'lo': 3.5, 'year': 2100}},\n",
    "    color='magenta'\n",
    ")"
   ]
  },
  {
   "cell_type": "code",
   "execution_count": 25,
   "metadata": {},
   "outputs": [
    {
     "name": "stderr",
     "output_type": "stream",
     "text": [
      "INFO:root:8 of 48 scenarios are uncategorized.\n"
     ]
    }
   ],
   "source": [
    "df.categorize('Temperature', 'No Data', criteria='uncategorized', color='white')"
   ]
  },
  {
   "cell_type": "markdown",
   "metadata": {},
   "source": [
    "Two models included in the snapshot have not been assessed by MAGICC6 regarding their long-term climate and warming impact. Therefore, the timeseries ``'Temperature|Global Mean|MAGICC6|MED'`` does not exist, and they have not been categorized.\n",
    "\n",
    "Below, we display all scenarios that are uncategorized at this point."
   ]
  },
  {
   "cell_type": "code",
   "execution_count": 26,
   "metadata": {},
   "outputs": [
    {
     "data": {
      "text/plain": [
       "model            scenario           \n",
       "AIM-Enduse 12.1  EMF27-450-Conv            No Data\n",
       "                 EMF27-450-NoCCS           No Data\n",
       "                 EMF27-550-LimBio          No Data\n",
       "                 EMF27-Base-FullTech       No Data\n",
       "                 EMF27-G8-EERE             No Data\n",
       "GCAM 3.0         AMPERE3-450            Below 2.5C\n",
       "                 AMPERE3-450P-CE        Below 2.5C\n",
       "                 AMPERE3-450P-EU        Below 2.5C\n",
       "                 AMPERE3-550            Below 3.5C\n",
       "                 AMPERE3-Base-EUback    Above 3.5C\n",
       "Name: Temperature, dtype: object"
      ]
     },
     "execution_count": 26,
     "metadata": {},
     "output_type": "execute_result"
    }
   ],
   "source": [
    "df['Temperature'].head(n=10)"
   ]
  },
  {
   "cell_type": "markdown",
   "metadata": {},
   "source": [
    "Now, we again display the median global temperature increase for all scenarios, but we use the colouring by category to illustrate the common charateristics across scenarios."
   ]
  },
  {
   "cell_type": "code",
   "execution_count": 27,
   "metadata": {},
   "outputs": [
    {
     "data": {
      "text/plain": [
       "<matplotlib.axes._subplots.AxesSubplot at 0x7f3cba165210>"
      ]
     },
     "execution_count": 27,
     "metadata": {},
     "output_type": "execute_result"
    },
    {
     "data": {
      "image/png": "[encoded data removed]",
      "text/plain": [
       "<matplotlib.figure.Figure at 0x7f3cba156fd0>"
      ]
     },
     "metadata": {},
     "output_type": "display_data"
    }
   ],
   "source": [
    "df.filter({'variable': 'Temperature*'}).line_plot(color='Temperature', legend=True)"
   ]
  },
  {
   "cell_type": "markdown",
   "metadata": {},
   "source": [
    "As a last step, we display the aggregate CO2 emissions by category. This allows to highlight alternative pathways within the same category. \n",
    "\n",
    "In this step, we also export this figure as a png using the option ``save``. The figure will be saved in the tutorials folder."
   ]
  },
  {
   "cell_type": "code",
   "execution_count": 28,
   "metadata": {},
   "outputs": [
    {
     "data": {
      "image/png": "[encoded data removed]",
      "text/plain": [
       "<matplotlib.figure.Figure at 0x7f3cb9f6bd50>"
      ]
     },
     "metadata": {},
     "output_type": "display_data"
    }
   ],
   "source": [
    "fig, ax = plt.subplots()\n",
    "(df\n",
    " .filter({'variable': 'Emissions|CO2', 'region': 'World'})\n",
    " .line_plot(ax=ax, color='Temperature', legend=True)\n",
    ")\n",
    "fig.savefig('co2_emissions.png')"
   ]
  },
  {
   "cell_type": "markdown",
   "metadata": {},
   "source": [
    "## Writing data to Excel\n",
    "\n",
    "The IamDataFrame can be directly exported to Excel in the standard IAMC format.\n",
    "This feature is based on [pandas.DataFrame.to_excel()](https://pandas.pydata.org/pandas-docs/stable/generated/pandas.DataFrame.to_excel.html) and can use any keyword arguments of that function."
   ]
  },
  {
   "cell_type": "code",
   "execution_count": 29,
   "metadata": {
    "collapsed": true
   },
   "outputs": [],
   "source": [
    "df.to_excel('tutorial_export.xlsx')\n",
    "df.export_metadata('tutorial_metadata.xlsx')"
   ]
  },
  {
   "cell_type": "code",
   "execution_count": null,
   "metadata": {
    "collapsed": true
   },
   "outputs": [],
   "source": []
  }
 ],
 "metadata": {
  "kernelspec": {
   "display_name": "Python 2",
   "language": "python",
   "name": "python2"
  },
  "language_info": {
   "codemirror_mode": {
    "name": "ipython",
    "version": 2
   },
   "file_extension": ".py",
   "mimetype": "text/x-python",
   "name": "python",
   "nbconvert_exporter": "python",
   "pygments_lexer": "ipython2",
   "version": "2.7.12"
  }
 },
 "nbformat": 4,
 "nbformat_minor": 2
}
