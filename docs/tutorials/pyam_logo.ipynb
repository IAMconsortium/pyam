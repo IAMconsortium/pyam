{
 "cells": [
  {
   "cell_type": "markdown",
   "metadata": {},
   "source": [
    "# Make our Logo!\n",
    "\n",
    "The logo combines a number of fun **pyam** features, including\n",
    "\n",
    "- line plots\n",
    "- filling data between lines\n",
    "- adding ranges of final-year data"
   ]
  },
  {
   "cell_type": "code",
   "execution_count": null,
   "metadata": {},
   "outputs": [],
   "source": [
    "import itertools\n",
    "import pyam\n",
    "\n",
    "import pandas as pd\n",
    "import numpy as np\n",
    "import matplotlib.pyplot as plt\n",
    "\n",
    "plt.style.use('seaborn-deep')"
   ]
  },
  {
   "cell_type": "code",
   "execution_count": null,
   "metadata": {},
   "outputs": [],
   "source": [
    "def func(x, factor):\n",
    "    return np.sin(x) + factor * x\n",
    "\n",
    "x = np.linspace(0, 4, 100)"
   ]
  },
  {
   "cell_type": "code",
   "execution_count": null,
   "metadata": {},
   "outputs": [],
   "source": [
    "combinations = itertools.product(['m1', 'm2', 'm3', 'm4'], ['s1', 's2', 's3'])\n",
    "data = [[m, s] + ['r', 'v', 'u'] + list(func(x, 0.5 + 0.1 * i)) for i, (m, s) in enumerate(combinations)]\n",
    "df = pyam.IamDataFrame(pd.DataFrame(data, columns=pyam.IAMC_IDX + list(range(len(x)))))"
   ]
  },
  {
   "cell_type": "code",
   "execution_count": null,
   "metadata": {},
   "outputs": [],
   "source": [
    "df.head()"
   ]
  },
  {
   "cell_type": "code",
   "execution_count": null,
   "metadata": {},
   "outputs": [],
   "source": [
    "fig, ax = plt.subplots()\n",
    "df.filter(scenario='s2').plot(ax=ax, color='model', legend=False, title=False)\n",
    "df.filter(scenario='s2', keep=False).plot(ax=ax, linewidth=0.5, color='model',\n",
    "                                          legend=False, title=False)\n",
    "df.plot(ax=ax, alpha=0, color='model', fill_between=True, final_ranges=dict(linewidth=4),\n",
    "        legend=False, title=False)\n",
    "plt.axis('off')\n",
    "plt.tight_layout()\n",
    "fig.savefig('logo.pdf', bbox_inches='tight', transparent=True, pad_inches=0)"
   ]
  }
 ],
 "metadata": {
  "kernelspec": {
   "display_name": "Python 3",
   "language": "python",
   "name": "python3"
  },
  "language_info": {
   "codemirror_mode": {
    "name": "ipython",
    "version": 3
   },
   "file_extension": ".py",
   "mimetype": "text/x-python",
   "name": "python",
   "nbconvert_exporter": "python",
   "pygments_lexer": "ipython3",
   "version": "3.7.4"
  }
 },
 "nbformat": 4,
 "nbformat_minor": 2
}
