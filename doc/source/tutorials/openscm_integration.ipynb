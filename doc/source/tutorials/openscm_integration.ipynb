{
 "cells": [
  {
   "cell_type": "markdown",
   "metadata": {},
   "source": [
    "# DataFrame conversions"
   ]
  },
  {
   "cell_type": "code",
   "execution_count": 1,
   "metadata": {},
   "outputs": [
    {
     "data": {
      "application/javascript": [
       "IPython.OutputArea.prototype._should_scroll = function(lines) { return false; }"
      ],
      "text/plain": [
       "<IPython.core.display.Javascript object>"
      ]
     },
     "metadata": {},
     "output_type": "display_data"
    }
   ],
   "source": [
    "import pyam\n",
    "import pandas as pd"
   ]
  },
  {
   "cell_type": "markdown",
   "metadata": {},
   "source": [
    "We start with some emissions data from an IAM."
   ]
  },
  {
   "cell_type": "code",
   "execution_count": 2,
   "metadata": {},
   "outputs": [],
   "source": [
    "iam_df = pyam.IamDataFrame(pd.DataFrame([\n",
    "    ['a_model', 'a_scenario', 'World', 'Emissions|CO2', 'Gt C / yr', 1, 6.],\n",
    "    ['a_model', 'a_scenario', 'World', 'Emissions|CO2|Coal', 'Gt C / yr', 0.5, 3],\n",
    "],\n",
    "    columns=['model', 'scenario', 'region', 'variable', 'unit', 2005, 2010],\n",
    "))"
   ]
  },
  {
   "cell_type": "code",
   "execution_count": 3,
   "metadata": {},
   "outputs": [
    {
     "data": {
      "text/html": [
       "<div>\n",
       "<style scoped>\n",
       "    .dataframe tbody tr th:only-of-type {\n",
       "        vertical-align: middle;\n",
       "    }\n",
       "\n",
       "    .dataframe tbody tr th {\n",
       "        vertical-align: top;\n",
       "    }\n",
       "\n",
       "    .dataframe thead th {\n",
       "        text-align: right;\n",
       "    }\n",
       "</style>\n",
       "<table border=\"1\" class=\"dataframe\">\n",
       "  <thead>\n",
       "    <tr style=\"text-align: right;\">\n",
       "      <th></th>\n",
       "      <th>model</th>\n",
       "      <th>scenario</th>\n",
       "      <th>region</th>\n",
       "      <th>variable</th>\n",
       "      <th>unit</th>\n",
       "      <th>year</th>\n",
       "      <th>value</th>\n",
       "    </tr>\n",
       "  </thead>\n",
       "  <tbody>\n",
       "    <tr>\n",
       "      <th>0</th>\n",
       "      <td>a_model</td>\n",
       "      <td>a_scenario</td>\n",
       "      <td>World</td>\n",
       "      <td>Emissions|CO2</td>\n",
       "      <td>Gt C / yr</td>\n",
       "      <td>2005</td>\n",
       "      <td>1.0</td>\n",
       "    </tr>\n",
       "    <tr>\n",
       "      <th>2</th>\n",
       "      <td>a_model</td>\n",
       "      <td>a_scenario</td>\n",
       "      <td>World</td>\n",
       "      <td>Emissions|CO2</td>\n",
       "      <td>Gt C / yr</td>\n",
       "      <td>2010</td>\n",
       "      <td>6.0</td>\n",
       "    </tr>\n",
       "    <tr>\n",
       "      <th>1</th>\n",
       "      <td>a_model</td>\n",
       "      <td>a_scenario</td>\n",
       "      <td>World</td>\n",
       "      <td>Emissions|CO2|Coal</td>\n",
       "      <td>Gt C / yr</td>\n",
       "      <td>2005</td>\n",
       "      <td>0.5</td>\n",
       "    </tr>\n",
       "    <tr>\n",
       "      <th>3</th>\n",
       "      <td>a_model</td>\n",
       "      <td>a_scenario</td>\n",
       "      <td>World</td>\n",
       "      <td>Emissions|CO2|Coal</td>\n",
       "      <td>Gt C / yr</td>\n",
       "      <td>2010</td>\n",
       "      <td>3.0</td>\n",
       "    </tr>\n",
       "  </tbody>\n",
       "</table>\n",
       "</div>"
      ],
      "text/plain": [
       "     model    scenario region            variable       unit  year  value\n",
       "0  a_model  a_scenario  World       Emissions|CO2  Gt C / yr  2005    1.0\n",
       "2  a_model  a_scenario  World       Emissions|CO2  Gt C / yr  2010    6.0\n",
       "1  a_model  a_scenario  World  Emissions|CO2|Coal  Gt C / yr  2005    0.5\n",
       "3  a_model  a_scenario  World  Emissions|CO2|Coal  Gt C / yr  2010    3.0"
      ]
     },
     "execution_count": 3,
     "metadata": {},
     "output_type": "execute_result"
    }
   ],
   "source": [
    "iam_df.head()"
   ]
  },
  {
   "cell_type": "markdown",
   "metadata": {},
   "source": [
    "We convert to an OpenSCMDataFrame."
   ]
  },
  {
   "cell_type": "code",
   "execution_count": 4,
   "metadata": {},
   "outputs": [],
   "source": [
    "openscm_df = iam_df.to_openscm_df()"
   ]
  },
  {
   "cell_type": "code",
   "execution_count": 5,
   "metadata": {},
   "outputs": [
    {
     "data": {
      "text/html": [
       "<div>\n",
       "<style scoped>\n",
       "    .dataframe tbody tr th:only-of-type {\n",
       "        vertical-align: middle;\n",
       "    }\n",
       "\n",
       "    .dataframe tbody tr th {\n",
       "        vertical-align: top;\n",
       "    }\n",
       "\n",
       "    .dataframe thead th {\n",
       "        text-align: right;\n",
       "    }\n",
       "</style>\n",
       "<table border=\"1\" class=\"dataframe\">\n",
       "  <thead>\n",
       "    <tr style=\"text-align: right;\">\n",
       "      <th></th>\n",
       "      <th>model</th>\n",
       "      <th>scenario</th>\n",
       "      <th>region</th>\n",
       "      <th>variable</th>\n",
       "      <th>unit</th>\n",
       "      <th>year</th>\n",
       "      <th>value</th>\n",
       "    </tr>\n",
       "  </thead>\n",
       "  <tbody>\n",
       "    <tr>\n",
       "      <th>0</th>\n",
       "      <td>N/A</td>\n",
       "      <td>a_scenario|a_model</td>\n",
       "      <td>World</td>\n",
       "      <td>Emissions|CO2</td>\n",
       "      <td>Gt C / yr</td>\n",
       "      <td>2005</td>\n",
       "      <td>1.0</td>\n",
       "    </tr>\n",
       "    <tr>\n",
       "      <th>1</th>\n",
       "      <td>N/A</td>\n",
       "      <td>a_scenario|a_model</td>\n",
       "      <td>World</td>\n",
       "      <td>Emissions|CO2</td>\n",
       "      <td>Gt C / yr</td>\n",
       "      <td>2010</td>\n",
       "      <td>6.0</td>\n",
       "    </tr>\n",
       "    <tr>\n",
       "      <th>2</th>\n",
       "      <td>N/A</td>\n",
       "      <td>a_scenario|a_model</td>\n",
       "      <td>World</td>\n",
       "      <td>Emissions|CO2|Coal</td>\n",
       "      <td>Gt C / yr</td>\n",
       "      <td>2005</td>\n",
       "      <td>0.5</td>\n",
       "    </tr>\n",
       "    <tr>\n",
       "      <th>3</th>\n",
       "      <td>N/A</td>\n",
       "      <td>a_scenario|a_model</td>\n",
       "      <td>World</td>\n",
       "      <td>Emissions|CO2|Coal</td>\n",
       "      <td>Gt C / yr</td>\n",
       "      <td>2010</td>\n",
       "      <td>3.0</td>\n",
       "    </tr>\n",
       "  </tbody>\n",
       "</table>\n",
       "</div>"
      ],
      "text/plain": [
       "  model            scenario region            variable       unit  year  value\n",
       "0   N/A  a_scenario|a_model  World       Emissions|CO2  Gt C / yr  2005    1.0\n",
       "1   N/A  a_scenario|a_model  World       Emissions|CO2  Gt C / yr  2010    6.0\n",
       "2   N/A  a_scenario|a_model  World  Emissions|CO2|Coal  Gt C / yr  2005    0.5\n",
       "3   N/A  a_scenario|a_model  World  Emissions|CO2|Coal  Gt C / yr  2010    3.0"
      ]
     },
     "execution_count": 5,
     "metadata": {},
     "output_type": "execute_result"
    }
   ],
   "source": [
    "openscm_df.head()"
   ]
  },
  {
   "cell_type": "markdown",
   "metadata": {},
   "source": [
    "Note that the IAM model gets combined with the scenario in order to free up a column for our climate data.\n",
    "\n",
    "Then we run our climate model (method to be written)."
   ]
  },
  {
   "cell_type": "code",
   "execution_count": 6,
   "metadata": {},
   "outputs": [],
   "source": [
    "climate_output = pd.DataFrame([\n",
    "    ['MAGICC7', 'a_scenario|a_model', 'World', 'Atmospheric Concentrations|CO2', 'ppm', 2005, 395],\n",
    "    ['MAGICC7', 'a_scenario|a_model', 'World', 'Atmospheric Concentrations|CO2', 'ppm', 2010, 401],\n",
    "    ['MAGICC7', 'a_scenario|a_model', 'World', 'Surface Temperature', 'K', 2005, 0.9],\n",
    "    ['MAGICC7', 'a_scenario|a_model', 'World', 'Surface Temperature', 'K', 2010, 0.94],\n",
    "    ['MAGICC7', 'a_scenario|a_model', 'World', 'Emissions|CO2', 'Gt C / yr', 2005, 0.5],\n",
    "    ['MAGICC7', 'a_scenario|a_model', 'World', 'Emissions|CO2', 'Gt C / yr', 2010, 3.0],\n",
    "],\n",
    "    columns=['model', 'scenario', 'region', 'variable', 'unit', 'year', 'value'],\n",
    ")\n",
    "openscm_df.data = pd.concat([openscm_df.data, climate_output])"
   ]
  },
  {
   "cell_type": "markdown",
   "metadata": {},
   "source": [
    "We report the output emissions from our climate model too as a check of any internal shifts which may have been done.\n",
    "\n",
    "Now we can convert back to an IamDataFrame."
   ]
  },
  {
   "cell_type": "code",
   "execution_count": 7,
   "metadata": {},
   "outputs": [
    {
     "name": "stderr",
     "output_type": "stream",
     "text": [
      "\n",
      "A value is trying to be set on a copy of a slice from a DataFrame\n",
      "\n",
      "See the caveats in the documentation: http://pandas.pydata.org/pandas-docs/stable/indexing.html#indexing-view-versus-copy\n"
     ]
    }
   ],
   "source": [
    "iam_df_with_climate_data = openscm_df.to_iam_df()"
   ]
  },
  {
   "cell_type": "code",
   "execution_count": 8,
   "metadata": {},
   "outputs": [
    {
     "data": {
      "text/html": [
       "<div>\n",
       "<style scoped>\n",
       "    .dataframe tbody tr th:only-of-type {\n",
       "        vertical-align: middle;\n",
       "    }\n",
       "\n",
       "    .dataframe tbody tr th {\n",
       "        vertical-align: top;\n",
       "    }\n",
       "\n",
       "    .dataframe thead th {\n",
       "        text-align: right;\n",
       "    }\n",
       "</style>\n",
       "<table border=\"1\" class=\"dataframe\">\n",
       "  <thead>\n",
       "    <tr style=\"text-align: right;\">\n",
       "      <th></th>\n",
       "      <th>model</th>\n",
       "      <th>scenario</th>\n",
       "      <th>region</th>\n",
       "      <th>variable</th>\n",
       "      <th>unit</th>\n",
       "      <th>year</th>\n",
       "      <th>value</th>\n",
       "    </tr>\n",
       "  </thead>\n",
       "  <tbody>\n",
       "    <tr>\n",
       "      <th>4</th>\n",
       "      <td>a_model</td>\n",
       "      <td>a_scenario</td>\n",
       "      <td>World</td>\n",
       "      <td>Diagnostics|MAGICC7|Atmospheric Concentrations...</td>\n",
       "      <td>ppm</td>\n",
       "      <td>2005</td>\n",
       "      <td>395.00</td>\n",
       "    </tr>\n",
       "    <tr>\n",
       "      <th>5</th>\n",
       "      <td>a_model</td>\n",
       "      <td>a_scenario</td>\n",
       "      <td>World</td>\n",
       "      <td>Diagnostics|MAGICC7|Atmospheric Concentrations...</td>\n",
       "      <td>ppm</td>\n",
       "      <td>2010</td>\n",
       "      <td>401.00</td>\n",
       "    </tr>\n",
       "    <tr>\n",
       "      <th>8</th>\n",
       "      <td>a_model</td>\n",
       "      <td>a_scenario</td>\n",
       "      <td>World</td>\n",
       "      <td>Diagnostics|MAGICC7|Emissions|CO2</td>\n",
       "      <td>Gt C / yr</td>\n",
       "      <td>2005</td>\n",
       "      <td>0.50</td>\n",
       "    </tr>\n",
       "    <tr>\n",
       "      <th>9</th>\n",
       "      <td>a_model</td>\n",
       "      <td>a_scenario</td>\n",
       "      <td>World</td>\n",
       "      <td>Diagnostics|MAGICC7|Emissions|CO2</td>\n",
       "      <td>Gt C / yr</td>\n",
       "      <td>2010</td>\n",
       "      <td>3.00</td>\n",
       "    </tr>\n",
       "    <tr>\n",
       "      <th>6</th>\n",
       "      <td>a_model</td>\n",
       "      <td>a_scenario</td>\n",
       "      <td>World</td>\n",
       "      <td>Diagnostics|MAGICC7|Surface Temperature</td>\n",
       "      <td>K</td>\n",
       "      <td>2005</td>\n",
       "      <td>0.90</td>\n",
       "    </tr>\n",
       "    <tr>\n",
       "      <th>7</th>\n",
       "      <td>a_model</td>\n",
       "      <td>a_scenario</td>\n",
       "      <td>World</td>\n",
       "      <td>Diagnostics|MAGICC7|Surface Temperature</td>\n",
       "      <td>K</td>\n",
       "      <td>2010</td>\n",
       "      <td>0.94</td>\n",
       "    </tr>\n",
       "    <tr>\n",
       "      <th>0</th>\n",
       "      <td>a_model</td>\n",
       "      <td>a_scenario</td>\n",
       "      <td>World</td>\n",
       "      <td>Emissions|CO2</td>\n",
       "      <td>Gt C / yr</td>\n",
       "      <td>2005</td>\n",
       "      <td>1.00</td>\n",
       "    </tr>\n",
       "    <tr>\n",
       "      <th>1</th>\n",
       "      <td>a_model</td>\n",
       "      <td>a_scenario</td>\n",
       "      <td>World</td>\n",
       "      <td>Emissions|CO2</td>\n",
       "      <td>Gt C / yr</td>\n",
       "      <td>2010</td>\n",
       "      <td>6.00</td>\n",
       "    </tr>\n",
       "    <tr>\n",
       "      <th>2</th>\n",
       "      <td>a_model</td>\n",
       "      <td>a_scenario</td>\n",
       "      <td>World</td>\n",
       "      <td>Emissions|CO2|Coal</td>\n",
       "      <td>Gt C / yr</td>\n",
       "      <td>2005</td>\n",
       "      <td>0.50</td>\n",
       "    </tr>\n",
       "    <tr>\n",
       "      <th>3</th>\n",
       "      <td>a_model</td>\n",
       "      <td>a_scenario</td>\n",
       "      <td>World</td>\n",
       "      <td>Emissions|CO2|Coal</td>\n",
       "      <td>Gt C / yr</td>\n",
       "      <td>2010</td>\n",
       "      <td>3.00</td>\n",
       "    </tr>\n",
       "  </tbody>\n",
       "</table>\n",
       "</div>"
      ],
      "text/plain": [
       "     model    scenario region  \\\n",
       "4  a_model  a_scenario  World   \n",
       "5  a_model  a_scenario  World   \n",
       "8  a_model  a_scenario  World   \n",
       "9  a_model  a_scenario  World   \n",
       "6  a_model  a_scenario  World   \n",
       "7  a_model  a_scenario  World   \n",
       "0  a_model  a_scenario  World   \n",
       "1  a_model  a_scenario  World   \n",
       "2  a_model  a_scenario  World   \n",
       "3  a_model  a_scenario  World   \n",
       "\n",
       "                                            variable       unit  year   value  \n",
       "4  Diagnostics|MAGICC7|Atmospheric Concentrations...        ppm  2005  395.00  \n",
       "5  Diagnostics|MAGICC7|Atmospheric Concentrations...        ppm  2010  401.00  \n",
       "8                  Diagnostics|MAGICC7|Emissions|CO2  Gt C / yr  2005    0.50  \n",
       "9                  Diagnostics|MAGICC7|Emissions|CO2  Gt C / yr  2010    3.00  \n",
       "6            Diagnostics|MAGICC7|Surface Temperature          K  2005    0.90  \n",
       "7            Diagnostics|MAGICC7|Surface Temperature          K  2010    0.94  \n",
       "0                                      Emissions|CO2  Gt C / yr  2005    1.00  \n",
       "1                                      Emissions|CO2  Gt C / yr  2010    6.00  \n",
       "2                                 Emissions|CO2|Coal  Gt C / yr  2005    0.50  \n",
       "3                                 Emissions|CO2|Coal  Gt C / yr  2010    3.00  "
      ]
     },
     "execution_count": 8,
     "metadata": {},
     "output_type": "execute_result"
    }
   ],
   "source": [
    "iam_df_with_climate_data.data"
   ]
  },
  {
   "cell_type": "code",
   "execution_count": 9,
   "metadata": {},
   "outputs": [
    {
     "data": {
      "text/plain": [
       "0    a_model\n",
       "Name: model, dtype: object"
      ]
     },
     "execution_count": 9,
     "metadata": {},
     "output_type": "execute_result"
    }
   ],
   "source": [
    "iam_df_with_climate_data.models()"
   ]
  },
  {
   "cell_type": "code",
   "execution_count": 10,
   "metadata": {},
   "outputs": [
    {
     "data": {
      "text/plain": [
       "0    a_scenario\n",
       "Name: scenario, dtype: object"
      ]
     },
     "execution_count": 10,
     "metadata": {},
     "output_type": "execute_result"
    }
   ],
   "source": [
    "iam_df_with_climate_data.scenarios()"
   ]
  },
  {
   "cell_type": "code",
   "execution_count": 11,
   "metadata": {},
   "outputs": [
    {
     "data": {
      "text/plain": [
       "0    Diagnostics|MAGICC7|Atmospheric Concentrations...\n",
       "1                    Diagnostics|MAGICC7|Emissions|CO2\n",
       "2              Diagnostics|MAGICC7|Surface Temperature\n",
       "3                                        Emissions|CO2\n",
       "4                                   Emissions|CO2|Coal\n",
       "Name: variable, dtype: object"
      ]
     },
     "execution_count": 11,
     "metadata": {},
     "output_type": "execute_result"
    }
   ],
   "source": [
    "iam_df_with_climate_data.variables()"
   ]
  },
  {
   "cell_type": "markdown",
   "metadata": {},
   "source": [
    "If I knew how to make pretty plots here I would..."
   ]
  }
 ],
 "metadata": {
  "kernelspec": {
   "display_name": "Python 3",
   "language": "python",
   "name": "python3"
  },
  "language_info": {
   "codemirror_mode": {
    "name": "ipython",
    "version": 3
   },
   "file_extension": ".py",
   "mimetype": "text/x-python",
   "name": "python",
   "nbconvert_exporter": "python",
   "pygments_lexer": "ipython3",
   "version": "3.7.0"
  }
 },
 "nbformat": 4,
 "nbformat_minor": 2
}
