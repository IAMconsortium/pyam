{
 "cells": [
  {
   "cell_type": "markdown",
   "metadata": {},
   "source": [
    "# Importing results from a GAMS model to an IamDataFrame\n",
    "\n",
    "This tutorial illustrates how to extract results from any GAMS model (via the gdx file)\n",
    "and cast them to an **IamDataFrame** for further processing.\n",
    "\n",
    "<img style=\"float: right; margin: 10px;\" src=\"_static/gams_logo.png\">\n",
    "\n",
    "The workflow presented here uses the **gdxtools** package\n",
    "([read the docs](https://github.com/boxblox/gdxtools)):\n",
    "\n",
    "1. Manually install the GAMS API,\n",
    "   follow one of the options in [this description](https://www.gams.com/latest/docs/API_PY_TUTORIAL.html).\n",
    "\n",
    "2. Install the **gdxtools** package via\n",
    "   ```\n",
    "   pip install gdxtools\n",
    "   ```\n",
    "\n",
    "****\n",
    "\n",
    "**Developers note:**\n",
    "Running this notebook on CI and RTD is a challenge\n",
    "due to the need to download and install the GAMS API.\n",
    "For the time being, this notebook is not executed by `nbsphinx`\n",
    "and has to be saved with output."
   ]
  },
  {
   "cell_type": "code",
   "execution_count": 1,
   "metadata": {},
   "outputs": [
    {
     "data": {
      "application/javascript": [
       "IPython.OutputArea.prototype._should_scroll = function(lines) { return false; }"
      ],
      "text/plain": [
       "<IPython.core.display.Javascript object>"
      ]
     },
     "metadata": {},
     "output_type": "display_data"
    },
    {
     "name": "stderr",
     "output_type": "stream",
     "text": [
      "pyam - INFO: Running in a notebook, setting `pyam` logging level to `logging.INFO` and adding stderr handler\n"
     ]
    }
   ],
   "source": [
    "import pandas as pd\n",
    "import pyam\n",
    "import gdxtools"
   ]
  },
  {
   "cell_type": "markdown",
   "metadata": {},
   "source": [
    "## The transport model\n",
    "\n",
    "The model used for this illustration is the transport model by Rosenthal,\n",
    "frequently used for tutorials and examples.\n",
    "\n",
    "The complete model is repeated here for clarity - note the last line\n",
    "which exports the results to a file in the GAMS Data Exchange (gdx) format.\n",
    "\n",
    "    *Basic example of transport model from GAMS model library\n",
    "\n",
    "    $Title  A Transportation Problem (TRNSPORT,SEQ=1)\n",
    "    $Ontext\n",
    "\n",
    "    This problem finds a least cost shipping schedule that meets\n",
    "    requirements at markets and supplies at factories.\n",
    "\n",
    "    Dantzig, G B, Chapter 3.3. In Linear Programming and Extensions.\n",
    "    Princeton University Press, Princeton, New Jersey, 1963.\n",
    "\n",
    "    This formulation is described in detail in:\n",
    "    Rosenthal, R E, Chapter 2: A GAMS Tutorial. In GAMS: A User's Guide.\n",
    "    The Scientific Press, Redwood City, California, 1988.\n",
    "\n",
    "    $Offtext\n",
    "\n",
    "    Sets\n",
    "         i   canning plants   / seattle, san-diego /\n",
    "         j   markets          / new-york, chicago, topeka / ;\n",
    "    Parameters\n",
    "         a(i)  capacity of plant i in cases\n",
    "           /    seattle     350\n",
    "                san-diego   600  /\n",
    "         b(j)  demand at market j in cases\n",
    "           /    new-york    325\n",
    "                chicago     300\n",
    "                topeka      275  / ;\n",
    "    Table d(i,j)  distance in thousands of miles\n",
    "                      new-york       chicago      topeka\n",
    "        seattle          2.5           1.7          1.8\n",
    "        san-diego        2.5           1.8          1.4  ;\n",
    "    Scalar f  freight in dollars per case per thousand miles  /90/ ;\n",
    "    Parameter c(i,j)  transport cost in thousands of dollars per case ;\n",
    "              c(i,j) = f * d(i,j) / 1000 ;\n",
    "    Variables\n",
    "         x(i,j)  shipment quantities in cases\n",
    "         z       total transportation costs in thousands of dollars ;\n",
    "\n",
    "    Positive Variable x ;\n",
    "\n",
    "    Equations\n",
    "         cost        define objective function\n",
    "         supply(i)   observe supply limit at plant i\n",
    "         demand(j)   satisfy demand at market j ;\n",
    "\n",
    "    cost ..        z  =e=  sum((i,j), c(i,j)*x(i,j)) ;\n",
    "\n",
    "    supply(i) ..   sum(j, x(i,j))  =l=  a(i) ;\n",
    "\n",
    "    demand(j) ..   sum(i, x(i,j))  =g=  b(j) ;\n",
    "\n",
    "    Model transport /all/ ;\n",
    "\n",
    "    Solve transport using lp minimizing z ;\n",
    "\n",
    "    Display x.l, x.m ;\n",
    "\n",
    "    Execute_unload 'transport_out.gdx';"
   ]
  },
  {
   "cell_type": "markdown",
   "metadata": {},
   "source": [
    "## Import results from the gdx file\n",
    "\n",
    "The next cell imports the results of the transport model from the gdx file.  \n",
    "The subsequent cell defines a utility function to translate the GAMS symbol\n",
    "into a [pandas.DataFrame](https://pandas.pydata.org/pandas-docs/stable/generated/pandas.DataFrame.html).\n",
    "\n",
    "The basic transport model does not have a temporal resolution,\n",
    "but an IamDataFrame requires some information in the time domain.\n",
    "We therefore assume that the year is 2010 and add it to the results.\n",
    "In a more elaborate model, \"time\" or \"year\" would be in the symbol domain"
   ]
  },
  {
   "cell_type": "code",
   "execution_count": 2,
   "metadata": {},
   "outputs": [],
   "source": [
    "gdx = gdxtools.gdxrw.gdxReader('transport_out.gdx')"
   ]
  },
  {
   "cell_type": "code",
   "execution_count": 3,
   "metadata": {},
   "outputs": [],
   "source": [
    "def gdx_to_pandas(gdx, symbol, attribute='level'):\n",
    "    \"\"\"Utility function to parse a GamsSymbol and cast it to a pandas.DataFrame\"\"\"\n",
    "\n",
    "    symbol = gdx.rgdx(name=symbol)\n",
    "\n",
    "    if symbol['domain']:  # translate symbol with dimensions\n",
    "        keys = symbol['values'].keys()\n",
    "        values = [symbol['values'][k][attribute] for k in keys]\n",
    "        df = pd.DataFrame(data=values, index=keys).reset_index()\n",
    "        df.columns = symbol['domain'] + ['value']\n",
    "\n",
    "    else:  # translate symbol with dimension 0\n",
    "        df = pd.DataFrame([symbol['values'][attribute]], columns=['value'])\n",
    "\n",
    "    # in a more elaborate model, 'time'/'year' would be in the symbol domain\n",
    "    df['year'] = 2010\n",
    "\n",
    "    return df"
   ]
  },
  {
   "cell_type": "markdown",
   "metadata": {},
   "source": [
    "## Cast results to an IamDataFrame\n",
    "\n",
    "The first cell in this section defines the model and scenario identifiers,\n",
    "which are identical for all results."
   ]
  },
  {
   "cell_type": "code",
   "execution_count": 4,
   "metadata": {},
   "outputs": [],
   "source": [
    "args = dict(model='transport', scenario='baseline')"
   ]
  },
  {
   "cell_type": "markdown",
   "metadata": {},
   "source": [
    "### The objective value\n",
    "\n",
    "The value of the objective function is added as a variable `Cost`.  \n",
    "The subsequent cell shows the first row of the IamDataFrame,\n",
    "to which we will then add more processed results."
   ]
  },
  {
   "cell_type": "code",
   "execution_count": 5,
   "metadata": {},
   "outputs": [],
   "source": [
    "df = pyam.IamDataFrame(gdx_to_pandas(gdx, 'z'),\n",
    "                       variable='cost', region='USA', unit='$', **args)"
   ]
  },
  {
   "cell_type": "code",
   "execution_count": 6,
   "metadata": {},
   "outputs": [
    {
     "data": {
      "text/html": [
       "<div>\n",
       "<style scoped>\n",
       "    .dataframe tbody tr th:only-of-type {\n",
       "        vertical-align: middle;\n",
       "    }\n",
       "\n",
       "    .dataframe tbody tr th {\n",
       "        vertical-align: top;\n",
       "    }\n",
       "\n",
       "    .dataframe thead th {\n",
       "        text-align: right;\n",
       "    }\n",
       "</style>\n",
       "<table border=\"1\" class=\"dataframe\">\n",
       "  <thead>\n",
       "    <tr style=\"text-align: right;\">\n",
       "      <th></th>\n",
       "      <th></th>\n",
       "      <th></th>\n",
       "      <th></th>\n",
       "      <th></th>\n",
       "      <th>2010</th>\n",
       "    </tr>\n",
       "    <tr>\n",
       "      <th>model</th>\n",
       "      <th>scenario</th>\n",
       "      <th>region</th>\n",
       "      <th>variable</th>\n",
       "      <th>unit</th>\n",
       "      <th></th>\n",
       "    </tr>\n",
       "  </thead>\n",
       "  <tbody>\n",
       "    <tr>\n",
       "      <th>transport</th>\n",
       "      <th>baseline</th>\n",
       "      <th>USA</th>\n",
       "      <th>cost</th>\n",
       "      <th>$</th>\n",
       "      <td>153.675</td>\n",
       "    </tr>\n",
       "  </tbody>\n",
       "</table>\n",
       "</div>"
      ],
      "text/plain": [
       "                                            2010\n",
       "model     scenario region variable unit         \n",
       "transport baseline USA    cost     $     153.675"
      ]
     },
     "execution_count": 6,
     "metadata": {},
     "output_type": "execute_result"
    }
   ],
   "source": [
    "df.timeseries()"
   ]
  },
  {
   "cell_type": "markdown",
   "metadata": {},
   "source": [
    "### Optimal shipment of quantities\n",
    "\n",
    "The shipments determined by the model can be read from the value\n",
    "(GAMS-speak: \"level\") of the decision variable `x`.\n",
    "The first cell in this section reads the dataframe from the results and displays it."
   ]
  },
  {
   "cell_type": "code",
   "execution_count": 7,
   "metadata": {},
   "outputs": [
    {
     "data": {
      "text/html": [
       "<div>\n",
       "<style scoped>\n",
       "    .dataframe tbody tr th:only-of-type {\n",
       "        vertical-align: middle;\n",
       "    }\n",
       "\n",
       "    .dataframe tbody tr th {\n",
       "        vertical-align: top;\n",
       "    }\n",
       "\n",
       "    .dataframe thead th {\n",
       "        text-align: right;\n",
       "    }\n",
       "</style>\n",
       "<table border=\"1\" class=\"dataframe\">\n",
       "  <thead>\n",
       "    <tr style=\"text-align: right;\">\n",
       "      <th></th>\n",
       "      <th>i</th>\n",
       "      <th>j</th>\n",
       "      <th>value</th>\n",
       "      <th>year</th>\n",
       "    </tr>\n",
       "  </thead>\n",
       "  <tbody>\n",
       "    <tr>\n",
       "      <th>0</th>\n",
       "      <td>seattle</td>\n",
       "      <td>new-york</td>\n",
       "      <td>50.0</td>\n",
       "      <td>2010</td>\n",
       "    </tr>\n",
       "    <tr>\n",
       "      <th>1</th>\n",
       "      <td>seattle</td>\n",
       "      <td>chicago</td>\n",
       "      <td>300.0</td>\n",
       "      <td>2010</td>\n",
       "    </tr>\n",
       "    <tr>\n",
       "      <th>2</th>\n",
       "      <td>seattle</td>\n",
       "      <td>topeka</td>\n",
       "      <td>0.0</td>\n",
       "      <td>2010</td>\n",
       "    </tr>\n",
       "    <tr>\n",
       "      <th>3</th>\n",
       "      <td>san-diego</td>\n",
       "      <td>new-york</td>\n",
       "      <td>275.0</td>\n",
       "      <td>2010</td>\n",
       "    </tr>\n",
       "    <tr>\n",
       "      <th>4</th>\n",
       "      <td>san-diego</td>\n",
       "      <td>chicago</td>\n",
       "      <td>0.0</td>\n",
       "      <td>2010</td>\n",
       "    </tr>\n",
       "    <tr>\n",
       "      <th>5</th>\n",
       "      <td>san-diego</td>\n",
       "      <td>topeka</td>\n",
       "      <td>275.0</td>\n",
       "      <td>2010</td>\n",
       "    </tr>\n",
       "  </tbody>\n",
       "</table>\n",
       "</div>"
      ],
      "text/plain": [
       "           i         j  value  year\n",
       "0    seattle  new-york   50.0  2010\n",
       "1    seattle   chicago  300.0  2010\n",
       "2    seattle    topeka    0.0  2010\n",
       "3  san-diego  new-york  275.0  2010\n",
       "4  san-diego   chicago    0.0  2010\n",
       "5  san-diego    topeka  275.0  2010"
      ]
     },
     "execution_count": 7,
     "metadata": {},
     "output_type": "execute_result"
    }
   ],
   "source": [
    "x = gdx_to_pandas(gdx, 'x')\n",
    "x"
   ]
  },
  {
   "cell_type": "markdown",
   "metadata": {},
   "source": [
    "There are several ways to coerce the \"from-to\" dimension of the mathematical formulation\n",
    "to the \"variable/region\" format used in the IAMC data standard.\n",
    "In this example, we define a variable \"supply|\\\\<origin\\\\>\" and use the demand center as the region.\n",
    "\n",
    "This is implemented by adding a column 'type' to the shipment-dataframe\n",
    "and appending a new object to the results IamDataFrame concatening the 'type' column and the orgin column 'i'."
   ]
  },
  {
   "cell_type": "code",
   "execution_count": 8,
   "metadata": {},
   "outputs": [],
   "source": [
    "x['type'] = 'supply'"
   ]
  },
  {
   "cell_type": "code",
   "execution_count": 9,
   "metadata": {},
   "outputs": [],
   "source": [
    "df.append(x, variable=['type', 'i'], region='j', unit='cases', **args, inplace=True)"
   ]
  },
  {
   "cell_type": "markdown",
   "metadata": {},
   "source": [
    "### Market prices at the demand centers\n",
    "\n",
    "The market prices can be determined from the marginal value of the demand-constraint equations."
   ]
  },
  {
   "cell_type": "code",
   "execution_count": 10,
   "metadata": {},
   "outputs": [],
   "source": [
    "df.append(gdx_to_pandas(gdx, 'demand', attribute='marginal'),\n",
    "          variable='market price', region='j', unit='$/case', **args, inplace=True)"
   ]
  },
  {
   "cell_type": "code",
   "execution_count": 11,
   "metadata": {},
   "outputs": [
    {
     "data": {
      "text/html": [
       "<div>\n",
       "<style scoped>\n",
       "    .dataframe tbody tr th:only-of-type {\n",
       "        vertical-align: middle;\n",
       "    }\n",
       "\n",
       "    .dataframe tbody tr th {\n",
       "        vertical-align: top;\n",
       "    }\n",
       "\n",
       "    .dataframe thead th {\n",
       "        text-align: right;\n",
       "    }\n",
       "</style>\n",
       "<table border=\"1\" class=\"dataframe\">\n",
       "  <thead>\n",
       "    <tr style=\"text-align: right;\">\n",
       "      <th></th>\n",
       "      <th></th>\n",
       "      <th></th>\n",
       "      <th></th>\n",
       "      <th></th>\n",
       "      <th>2010</th>\n",
       "    </tr>\n",
       "    <tr>\n",
       "      <th>model</th>\n",
       "      <th>scenario</th>\n",
       "      <th>region</th>\n",
       "      <th>variable</th>\n",
       "      <th>unit</th>\n",
       "      <th></th>\n",
       "    </tr>\n",
       "  </thead>\n",
       "  <tbody>\n",
       "    <tr>\n",
       "      <th rowspan=\"10\" valign=\"top\">transport</th>\n",
       "      <th rowspan=\"10\" valign=\"top\">baseline</th>\n",
       "      <th>USA</th>\n",
       "      <th>cost</th>\n",
       "      <th>$</th>\n",
       "      <td>153.675</td>\n",
       "    </tr>\n",
       "    <tr>\n",
       "      <th rowspan=\"3\" valign=\"top\">chicago</th>\n",
       "      <th>market price</th>\n",
       "      <th>$/case</th>\n",
       "      <td>0.153</td>\n",
       "    </tr>\n",
       "    <tr>\n",
       "      <th>supply|san-diego</th>\n",
       "      <th>cases</th>\n",
       "      <td>0.000</td>\n",
       "    </tr>\n",
       "    <tr>\n",
       "      <th>supply|seattle</th>\n",
       "      <th>cases</th>\n",
       "      <td>300.000</td>\n",
       "    </tr>\n",
       "    <tr>\n",
       "      <th rowspan=\"3\" valign=\"top\">new-york</th>\n",
       "      <th>market price</th>\n",
       "      <th>$/case</th>\n",
       "      <td>0.225</td>\n",
       "    </tr>\n",
       "    <tr>\n",
       "      <th>supply|san-diego</th>\n",
       "      <th>cases</th>\n",
       "      <td>275.000</td>\n",
       "    </tr>\n",
       "    <tr>\n",
       "      <th>supply|seattle</th>\n",
       "      <th>cases</th>\n",
       "      <td>50.000</td>\n",
       "    </tr>\n",
       "    <tr>\n",
       "      <th rowspan=\"3\" valign=\"top\">topeka</th>\n",
       "      <th>market price</th>\n",
       "      <th>$/case</th>\n",
       "      <td>0.126</td>\n",
       "    </tr>\n",
       "    <tr>\n",
       "      <th>supply|san-diego</th>\n",
       "      <th>cases</th>\n",
       "      <td>275.000</td>\n",
       "    </tr>\n",
       "    <tr>\n",
       "      <th>supply|seattle</th>\n",
       "      <th>cases</th>\n",
       "      <td>0.000</td>\n",
       "    </tr>\n",
       "  </tbody>\n",
       "</table>\n",
       "</div>"
      ],
      "text/plain": [
       "                                                        2010\n",
       "model     scenario region   variable         unit           \n",
       "transport baseline USA      cost             $       153.675\n",
       "                   chicago  market price     $/case    0.153\n",
       "                            supply|san-diego cases     0.000\n",
       "                            supply|seattle   cases   300.000\n",
       "                   new-york market price     $/case    0.225\n",
       "                            supply|san-diego cases   275.000\n",
       "                            supply|seattle   cases    50.000\n",
       "                   topeka   market price     $/case    0.126\n",
       "                            supply|san-diego cases   275.000\n",
       "                            supply|seattle   cases     0.000"
      ]
     },
     "execution_count": 11,
     "metadata": {},
     "output_type": "execute_result"
    }
   ],
   "source": [
    "df.timeseries()"
   ]
  },
  {
   "cell_type": "markdown",
   "metadata": {},
   "source": [
    "## Postprocessing to compute aggregate results\n",
    "\n",
    "It is often practical to not only have results at the most disaggregated level,\n",
    "but to also add aggregated results to the output.\n",
    "The **pyam** package offers several utilities to perform aggregation or validation;\n",
    "the following cell computes the total supply to each demand city\n",
    "and appends it to the results-IamDataFrame.\n",
    "\n",
    "The second cell again displays the results-IamDataFrame to illustrate the aggregation feature."
   ]
  },
  {
   "cell_type": "code",
   "execution_count": 12,
   "metadata": {},
   "outputs": [],
   "source": [
    "df.aggregate('supply', append=True)"
   ]
  },
  {
   "cell_type": "code",
   "execution_count": 13,
   "metadata": {},
   "outputs": [
    {
     "data": {
      "text/html": [
       "<div>\n",
       "<style scoped>\n",
       "    .dataframe tbody tr th:only-of-type {\n",
       "        vertical-align: middle;\n",
       "    }\n",
       "\n",
       "    .dataframe tbody tr th {\n",
       "        vertical-align: top;\n",
       "    }\n",
       "\n",
       "    .dataframe thead th {\n",
       "        text-align: right;\n",
       "    }\n",
       "</style>\n",
       "<table border=\"1\" class=\"dataframe\">\n",
       "  <thead>\n",
       "    <tr style=\"text-align: right;\">\n",
       "      <th></th>\n",
       "      <th></th>\n",
       "      <th></th>\n",
       "      <th></th>\n",
       "      <th></th>\n",
       "      <th>2010</th>\n",
       "    </tr>\n",
       "    <tr>\n",
       "      <th>model</th>\n",
       "      <th>scenario</th>\n",
       "      <th>region</th>\n",
       "      <th>variable</th>\n",
       "      <th>unit</th>\n",
       "      <th></th>\n",
       "    </tr>\n",
       "  </thead>\n",
       "  <tbody>\n",
       "    <tr>\n",
       "      <th rowspan=\"13\" valign=\"top\">transport</th>\n",
       "      <th rowspan=\"13\" valign=\"top\">baseline</th>\n",
       "      <th>USA</th>\n",
       "      <th>cost</th>\n",
       "      <th>$</th>\n",
       "      <td>153.675</td>\n",
       "    </tr>\n",
       "    <tr>\n",
       "      <th rowspan=\"4\" valign=\"top\">chicago</th>\n",
       "      <th>market price</th>\n",
       "      <th>$/case</th>\n",
       "      <td>0.153</td>\n",
       "    </tr>\n",
       "    <tr>\n",
       "      <th>supply</th>\n",
       "      <th>cases</th>\n",
       "      <td>300.000</td>\n",
       "    </tr>\n",
       "    <tr>\n",
       "      <th>supply|san-diego</th>\n",
       "      <th>cases</th>\n",
       "      <td>0.000</td>\n",
       "    </tr>\n",
       "    <tr>\n",
       "      <th>supply|seattle</th>\n",
       "      <th>cases</th>\n",
       "      <td>300.000</td>\n",
       "    </tr>\n",
       "    <tr>\n",
       "      <th rowspan=\"4\" valign=\"top\">new-york</th>\n",
       "      <th>market price</th>\n",
       "      <th>$/case</th>\n",
       "      <td>0.225</td>\n",
       "    </tr>\n",
       "    <tr>\n",
       "      <th>supply</th>\n",
       "      <th>cases</th>\n",
       "      <td>325.000</td>\n",
       "    </tr>\n",
       "    <tr>\n",
       "      <th>supply|san-diego</th>\n",
       "      <th>cases</th>\n",
       "      <td>275.000</td>\n",
       "    </tr>\n",
       "    <tr>\n",
       "      <th>supply|seattle</th>\n",
       "      <th>cases</th>\n",
       "      <td>50.000</td>\n",
       "    </tr>\n",
       "    <tr>\n",
       "      <th rowspan=\"4\" valign=\"top\">topeka</th>\n",
       "      <th>market price</th>\n",
       "      <th>$/case</th>\n",
       "      <td>0.126</td>\n",
       "    </tr>\n",
       "    <tr>\n",
       "      <th>supply</th>\n",
       "      <th>cases</th>\n",
       "      <td>275.000</td>\n",
       "    </tr>\n",
       "    <tr>\n",
       "      <th>supply|san-diego</th>\n",
       "      <th>cases</th>\n",
       "      <td>275.000</td>\n",
       "    </tr>\n",
       "    <tr>\n",
       "      <th>supply|seattle</th>\n",
       "      <th>cases</th>\n",
       "      <td>0.000</td>\n",
       "    </tr>\n",
       "  </tbody>\n",
       "</table>\n",
       "</div>"
      ],
      "text/plain": [
       "                                                        2010\n",
       "model     scenario region   variable         unit           \n",
       "transport baseline USA      cost             $       153.675\n",
       "                   chicago  market price     $/case    0.153\n",
       "                            supply           cases   300.000\n",
       "                            supply|san-diego cases     0.000\n",
       "                            supply|seattle   cases   300.000\n",
       "                   new-york market price     $/case    0.225\n",
       "                            supply           cases   325.000\n",
       "                            supply|san-diego cases   275.000\n",
       "                            supply|seattle   cases    50.000\n",
       "                   topeka   market price     $/case    0.126\n",
       "                            supply           cases   275.000\n",
       "                            supply|san-diego cases   275.000\n",
       "                            supply|seattle   cases     0.000"
      ]
     },
     "execution_count": 13,
     "metadata": {},
     "output_type": "execute_result"
    }
   ],
   "source": [
    "df.timeseries()"
   ]
  },
  {
   "cell_type": "markdown",
   "metadata": {},
   "source": [
    "## Visualization of results\n",
    "\n",
    "The **pyam** package includes a powerful plotting and visualization library.\n",
    "Most features are geared for timeseries data (for plotting development over time),\n",
    "but some are useful even for this small, stylized application:\n",
    "the next cell shows the regional share of supply from the two supply locations\n",
    "to the three demand centers."
   ]
  },
  {
   "cell_type": "code",
   "execution_count": 14,
   "metadata": {},
   "outputs": [
    {
     "data": {
      "text/plain": [
       "<matplotlib.axes._subplots.AxesSubplot at 0x7fcf1a311f50>"
      ]
     },
     "execution_count": 14,
     "metadata": {},
     "output_type": "execute_result"
    },
    {
     "data": {
      "image/png": "[encoded data removed]",
      "text/plain": [
       "<Figure size 432x288 with 1 Axes>"
      ]
     },
     "metadata": {
      "needs_background": "light"
     },
     "output_type": "display_data"
    }
   ],
   "source": [
    "df.filter(variable='supply|*').line_plot(x='region')"
   ]
  },
  {
   "cell_type": "markdown",
   "metadata": {},
   "source": [
    "## Exporting to different file formats\n",
    "\n",
    "You can use **pyam** to export the processed data in the IAMC format as an Excel table."
   ]
  },
  {
   "cell_type": "code",
   "execution_count": 15,
   "metadata": {},
   "outputs": [],
   "source": [
    "df.to_excel('transport.xlsx')"
   ]
  },
  {
   "cell_type": "markdown",
   "metadata": {},
   "source": [
    "**pyam** also supports export to different file formats,\n",
    "for example the [frictionless data package](https://frictionlessdata.io)!"
   ]
  },
  {
   "cell_type": "code",
   "execution_count": 16,
   "metadata": {},
   "outputs": [
    {
     "data": {
      "text/plain": [
       "<datapackage.package.Package at 0x7fcf1adf9c50>"
      ]
     },
     "execution_count": 16,
     "metadata": {},
     "output_type": "execute_result"
    }
   ],
   "source": [
    "df.to_datapackage('transport.zip')"
   ]
  },
  {
   "cell_type": "markdown",
   "metadata": {},
   "source": [
    "<div class=\"alert alert-info\">\n",
    "\n",
    "**Questions?**\n",
    "Take a look at [this tutorial](https://pyam-iamc.readthedocs.io/en/stable/tutorials/pyam_first_steps.html) for *first steps with pyam* - then join our [mailing list](https://groups.io/g/pyam)!\n",
    "\n",
    "</div>"
   ]
  }
 ],
 "metadata": {
  "kernelspec": {
   "display_name": "Python 3",
   "language": "python",
   "name": "python3"
  },
  "language_info": {
   "codemirror_mode": {
    "name": "ipython",
    "version": 3
   },
   "file_extension": ".py",
   "mimetype": "text/x-python",
   "name": "python",
   "nbconvert_exporter": "python",
   "pygments_lexer": "ipython3",
   "version": "3.7.7"
  },
  "nbsphinx": {
   "execute": "never"
  }
 },
 "nbformat": 4,
 "nbformat_minor": 4
}
