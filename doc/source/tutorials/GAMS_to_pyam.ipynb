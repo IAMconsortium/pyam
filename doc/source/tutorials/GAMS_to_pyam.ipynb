{
 "cells": [
  {
   "cell_type": "markdown",
   "metadata": {},
   "source": [
    "# Importing results from a GAMS model to an IamDataFrame\n",
    "\n",
    "This tutorial illustrates how to extract results from any GAMS model (via the gdx file)\n",
    "and cast them to an **IamDataFrame** for further processing.\n",
    "\n",
    "<img style=\"float: right; margin: 10px;\" src=\"_static/gams_logo.png\">\n",
    "\n",
    "The workflow presented here uses the **GAMS Python API**\n",
    "([read the docs](https://www.gams.com/latest/docs/API_PY_TUTORIAL.html))\n",
    "and the **gamstransfer** module.\n",
    "\n",
    "Follow these steps to install the requirements:\n",
    "\n",
    "1. Manually install the GAMS API,\n",
    "   follow one of the options in [this description](https://www.gams.com/latest/docs/API_PY_TUTORIAL.html).\n",
    "   \n",
    "   > **TL;DR**: seach for the folder \"api_38\" in the GAMS installation folder on your machine\n",
    "   > and run\n",
    "   > ```\n",
    "   > python setup.py install\n",
    "   > ```\n",
    "\n",
    "2. Install the **schema** package via\n",
    "   ```\n",
    "   pip install schema\n",
    "   ```\n",
    "   This is a dependency of the **gamstransfer** module.\n",
    "\n",
    "This notebook was run with Python 3.8 and GAMS 33.2 on Mac OS.\n",
    "\n",
    "****\n",
    "\n",
    "**Developers note:**\n",
    "Running this notebook on CI and RTD is a challenge\n",
    "due to the need to download and install the GAMS API.  \n",
    "For the time being, this notebook is not executed by **nbsphinx**\n",
    "and has to be saved with output."
   ]
  },
  {
   "cell_type": "markdown",
   "metadata": {},
   "source": [
    "## The transport model\n",
    "\n",
    "The model used for this illustration is the transport model by Rosenthal,\n",
    "frequently used for tutorials and examples.\n",
    "\n",
    "The complete model is repeated here for clarity - note the last line\n",
    "which exports the results to a file in the GAMS Data Exchange (gdx) format.\n",
    "\n",
    "    *Basic example of transport model from GAMS model library\n",
    "\n",
    "    $Title  A Transportation Problem (TRNSPORT,SEQ=1)\n",
    "    $Ontext\n",
    "\n",
    "    This problem finds a least cost shipping schedule that meets\n",
    "    requirements at markets and supplies at factories.\n",
    "\n",
    "    Dantzig, G B, Chapter 3.3. In Linear Programming and Extensions.\n",
    "    Princeton University Press, Princeton, New Jersey, 1963.\n",
    "\n",
    "    This formulation is described in detail in:\n",
    "    Rosenthal, R E, Chapter 2: A GAMS Tutorial. In GAMS: A User's Guide.\n",
    "    The Scientific Press, Redwood City, California, 1988.\n",
    "\n",
    "    $Offtext\n",
    "\n",
    "    Sets\n",
    "         i   canning plants   / seattle, san-diego /\n",
    "         j   markets          / new-york, chicago, topeka / ;\n",
    "    Parameters\n",
    "         a(i)  capacity of plant i in cases\n",
    "           /    seattle     350\n",
    "                san-diego   600  /\n",
    "         b(j)  demand at market j in cases\n",
    "           /    new-york    325\n",
    "                chicago     300\n",
    "                topeka      275  / ;\n",
    "    Table d(i,j)  distance in thousands of miles\n",
    "                      new-york       chicago      topeka\n",
    "        seattle          2.5           1.7          1.8\n",
    "        san-diego        2.5           1.8          1.4  ;\n",
    "    Scalar f  freight in dollars per case per thousand miles  /90/ ;\n",
    "    Parameter c(i,j)  transport cost in thousands of dollars per case ;\n",
    "              c(i,j) = f * d(i,j) / 1000 ;\n",
    "    Variables\n",
    "         x(i,j)  shipment quantities in cases\n",
    "         z       total transportation costs in thousands of dollars ;\n",
    "\n",
    "    Positive Variable x ;\n",
    "\n",
    "    Equations\n",
    "         cost        define objective function\n",
    "         supply(i)   observe supply limit at plant i\n",
    "         demand(j)   satisfy demand at market j ;\n",
    "\n",
    "    cost ..        z  =e=  sum((i,j), c(i,j)*x(i,j)) ;\n",
    "\n",
    "    supply(i) ..   sum(j, x(i,j))  =l=  a(i) ;\n",
    "\n",
    "    demand(j) ..   sum(i, x(i,j))  =g=  b(j) ;\n",
    "\n",
    "    Model transport /all/ ;\n",
    "\n",
    "    Solve transport using lp minimizing z ;\n",
    "\n",
    "    Display x.l, x.m ;\n",
    "\n",
    "    Execute_unload 'transport_out.gdx';"
   ]
  },
  {
   "cell_type": "markdown",
   "metadata": {},
   "source": [
    "## Import results from the gdx file\n",
    "\n",
    "The first cell imports **pyam** and the two GAMS packages used in this tutorial."
   ]
  },
  {
   "cell_type": "code",
   "execution_count": 1,
   "metadata": {},
   "outputs": [
    {
     "data": {
      "application/javascript": [
       "IPython.OutputArea.prototype._should_scroll = function(lines) { return false; }"
      ],
      "text/plain": [
       "<IPython.core.display.Javascript object>"
      ]
     },
     "metadata": {},
     "output_type": "display_data"
    }
   ],
   "source": [
    "from pyam import IamDataFrame\n",
    "from gams import GamsWorkspace\n",
    "from gamstransfer import GdxContainer"
   ]
  },
  {
   "cell_type": "markdown",
   "metadata": {},
   "source": [
    "This cell loads the transport model results gdx file and reads all data into memory.  \n",
    "In a larger application, one could load the data step by step (and only load the data that is actually needed)."
   ]
  },
  {
   "cell_type": "code",
   "execution_count": 2,
   "metadata": {},
   "outputs": [],
   "source": [
    "gdx = GdxContainer(GamsWorkspace().system_directory,'transport_out.gdx')\n",
    "gdx.rgdx()"
   ]
  },
  {
   "cell_type": "markdown",
   "metadata": {},
   "source": [
    "## Cast results to an IamDataFrame\n",
    "\n",
    "The first cell in this section defines the model and scenario identifiers,\n",
    "which are identical for all results."
   ]
  },
  {
   "cell_type": "code",
   "execution_count": 3,
   "metadata": {},
   "outputs": [],
   "source": [
    "args = dict(model='transport', scenario='baseline')"
   ]
  },
  {
   "cell_type": "markdown",
   "metadata": {},
   "source": [
    "<div class=\"alert alert-warning\">\n",
    "\n",
    "The basic transport model does not have a temporal resolution,\n",
    "but an **IamDataFrame** requires some information on the time domain.  \n",
    "We therefore assume that the year is 2020 and add it to the results.\n",
    "In a more elaborate model, \"time\" or \"year\" would be in the symbol domain.\n",
    "\n",
    "</div>"
   ]
  },
  {
   "cell_type": "markdown",
   "metadata": {},
   "source": [
    "### The objective value\n",
    "\n",
    "The first cell in this section reads the value of the objective function, adds the year and displays the data.\n",
    "\n",
    "The next cell casts the data read from the gdx to an **IamDataFrame** using the variable name `cost`.  \n",
    "In the following sections, we will add more results from the gdx.\n",
    "\n",
    "The last cell displays the data of the **IamDataFrame**."
   ]
  },
  {
   "cell_type": "code",
   "execution_count": 4,
   "metadata": {},
   "outputs": [
    {
     "data": {
      "text/html": [
       "<div>\n",
       "<style scoped>\n",
       "    .dataframe tbody tr th:only-of-type {\n",
       "        vertical-align: middle;\n",
       "    }\n",
       "\n",
       "    .dataframe tbody tr th {\n",
       "        vertical-align: top;\n",
       "    }\n",
       "\n",
       "    .dataframe thead th {\n",
       "        text-align: right;\n",
       "    }\n",
       "</style>\n",
       "<table border=\"1\" class=\"dataframe\">\n",
       "  <thead>\n",
       "    <tr style=\"text-align: right;\">\n",
       "      <th></th>\n",
       "      <th>L</th>\n",
       "      <th>year</th>\n",
       "    </tr>\n",
       "  </thead>\n",
       "  <tbody>\n",
       "    <tr>\n",
       "      <th>0</th>\n",
       "      <td>153.675</td>\n",
       "      <td>2020</td>\n",
       "    </tr>\n",
       "  </tbody>\n",
       "</table>\n",
       "</div>"
      ],
      "text/plain": [
       "         L  year\n",
       "0  153.675  2020"
      ]
     },
     "execution_count": 4,
     "metadata": {},
     "output_type": "execute_result"
    }
   ],
   "source": [
    "z = gdx.to_dataframe('z')['elements']\n",
    "z['year'] = 2020\n",
    "z"
   ]
  },
  {
   "cell_type": "code",
   "execution_count": 5,
   "metadata": {},
   "outputs": [],
   "source": [
    "df = IamDataFrame(z, variable='cost', region='USA', unit='$', value='L', **args)"
   ]
  },
  {
   "cell_type": "code",
   "execution_count": 6,
   "metadata": {},
   "outputs": [
    {
     "data": {
      "text/html": [
       "<div>\n",
       "<style scoped>\n",
       "    .dataframe tbody tr th:only-of-type {\n",
       "        vertical-align: middle;\n",
       "    }\n",
       "\n",
       "    .dataframe tbody tr th {\n",
       "        vertical-align: top;\n",
       "    }\n",
       "\n",
       "    .dataframe thead th {\n",
       "        text-align: right;\n",
       "    }\n",
       "</style>\n",
       "<table border=\"1\" class=\"dataframe\">\n",
       "  <thead>\n",
       "    <tr style=\"text-align: right;\">\n",
       "      <th></th>\n",
       "      <th></th>\n",
       "      <th></th>\n",
       "      <th></th>\n",
       "      <th></th>\n",
       "      <th>2020</th>\n",
       "    </tr>\n",
       "    <tr>\n",
       "      <th>model</th>\n",
       "      <th>scenario</th>\n",
       "      <th>region</th>\n",
       "      <th>variable</th>\n",
       "      <th>unit</th>\n",
       "      <th></th>\n",
       "    </tr>\n",
       "  </thead>\n",
       "  <tbody>\n",
       "    <tr>\n",
       "      <th>transport</th>\n",
       "      <th>baseline</th>\n",
       "      <th>USA</th>\n",
       "      <th>cost</th>\n",
       "      <th>$</th>\n",
       "      <td>153.675</td>\n",
       "    </tr>\n",
       "  </tbody>\n",
       "</table>\n",
       "</div>"
      ],
      "text/plain": [
       "                                            2020\n",
       "model     scenario region variable unit         \n",
       "transport baseline USA    cost     $     153.675"
      ]
     },
     "execution_count": 6,
     "metadata": {},
     "output_type": "execute_result"
    }
   ],
   "source": [
    "df.timeseries()"
   ]
  },
  {
   "cell_type": "markdown",
   "metadata": {},
   "source": [
    "### Optimal shipment of quantities\n",
    "\n",
    "The shipments determined by the model can be read from the value of the decision variable `x`.  \n",
    "The value (GAMS-speak: \"level\" or field `L`) is read by default by the **GdxContainer.to_dataframe()** function."
   ]
  },
  {
   "cell_type": "code",
   "execution_count": 7,
   "metadata": {},
   "outputs": [
    {
     "data": {
      "text/html": [
       "<div>\n",
       "<style scoped>\n",
       "    .dataframe tbody tr th:only-of-type {\n",
       "        vertical-align: middle;\n",
       "    }\n",
       "\n",
       "    .dataframe tbody tr th {\n",
       "        vertical-align: top;\n",
       "    }\n",
       "\n",
       "    .dataframe thead th {\n",
       "        text-align: right;\n",
       "    }\n",
       "</style>\n",
       "<table border=\"1\" class=\"dataframe\">\n",
       "  <thead>\n",
       "    <tr style=\"text-align: right;\">\n",
       "      <th></th>\n",
       "      <th>i</th>\n",
       "      <th>j</th>\n",
       "      <th>L</th>\n",
       "      <th>year</th>\n",
       "    </tr>\n",
       "  </thead>\n",
       "  <tbody>\n",
       "    <tr>\n",
       "      <th>0</th>\n",
       "      <td>seattle</td>\n",
       "      <td>new-york</td>\n",
       "      <td>50.0</td>\n",
       "      <td>2020</td>\n",
       "    </tr>\n",
       "    <tr>\n",
       "      <th>1</th>\n",
       "      <td>seattle</td>\n",
       "      <td>chicago</td>\n",
       "      <td>300.0</td>\n",
       "      <td>2020</td>\n",
       "    </tr>\n",
       "    <tr>\n",
       "      <th>2</th>\n",
       "      <td>seattle</td>\n",
       "      <td>topeka</td>\n",
       "      <td>0.0</td>\n",
       "      <td>2020</td>\n",
       "    </tr>\n",
       "    <tr>\n",
       "      <th>3</th>\n",
       "      <td>san-diego</td>\n",
       "      <td>new-york</td>\n",
       "      <td>275.0</td>\n",
       "      <td>2020</td>\n",
       "    </tr>\n",
       "    <tr>\n",
       "      <th>4</th>\n",
       "      <td>san-diego</td>\n",
       "      <td>chicago</td>\n",
       "      <td>0.0</td>\n",
       "      <td>2020</td>\n",
       "    </tr>\n",
       "    <tr>\n",
       "      <th>5</th>\n",
       "      <td>san-diego</td>\n",
       "      <td>topeka</td>\n",
       "      <td>275.0</td>\n",
       "      <td>2020</td>\n",
       "    </tr>\n",
       "  </tbody>\n",
       "</table>\n",
       "</div>"
      ],
      "text/plain": [
       "           i         j      L  year\n",
       "0    seattle  new-york   50.0  2020\n",
       "1    seattle   chicago  300.0  2020\n",
       "2    seattle    topeka    0.0  2020\n",
       "3  san-diego  new-york  275.0  2020\n",
       "4  san-diego   chicago    0.0  2020\n",
       "5  san-diego    topeka  275.0  2020"
      ]
     },
     "execution_count": 7,
     "metadata": {},
     "output_type": "execute_result"
    }
   ],
   "source": [
    "x = gdx.to_dataframe('x')['elements']\n",
    "x['year'] = 2020\n",
    "x"
   ]
  },
  {
   "cell_type": "markdown",
   "metadata": {},
   "source": [
    "There are several ways to coerce the \"from-to\" dimension of the mathematical formulation\n",
    "to the \"variable/region\" format used in the IAMC data standard.\n",
    "In this example, we define a variable `supply|*` where \\* is the supply location\n",
    "and we use the demand center as the region.\n",
    "\n",
    "This is implemented by adding a column 'type' to the shipment-dataframe\n",
    "and appending a new object to the results **IamDataFrame** concatening the 'type' column and the orgin column 'i'."
   ]
  },
  {
   "cell_type": "code",
   "execution_count": 8,
   "metadata": {},
   "outputs": [],
   "source": [
    "x['type'] = 'supply'"
   ]
  },
  {
   "cell_type": "code",
   "execution_count": 9,
   "metadata": {},
   "outputs": [],
   "source": [
    "df.append(x, variable=['type', 'i'], value='L', \n",
    "          region='j', unit='cases', **args, inplace=True)"
   ]
  },
  {
   "cell_type": "markdown",
   "metadata": {},
   "source": [
    "### Market prices at the demand centers\n",
    "\n",
    "The `market price` can be determined from the marginal value (field: `M`) of the demand-constraint equations."
   ]
  },
  {
   "cell_type": "code",
   "execution_count": 10,
   "metadata": {},
   "outputs": [
    {
     "data": {
      "text/html": [
       "<div>\n",
       "<style scoped>\n",
       "    .dataframe tbody tr th:only-of-type {\n",
       "        vertical-align: middle;\n",
       "    }\n",
       "\n",
       "    .dataframe tbody tr th {\n",
       "        vertical-align: top;\n",
       "    }\n",
       "\n",
       "    .dataframe thead th {\n",
       "        text-align: right;\n",
       "    }\n",
       "</style>\n",
       "<table border=\"1\" class=\"dataframe\">\n",
       "  <thead>\n",
       "    <tr style=\"text-align: right;\">\n",
       "      <th></th>\n",
       "      <th>j</th>\n",
       "      <th>M</th>\n",
       "      <th>year</th>\n",
       "    </tr>\n",
       "  </thead>\n",
       "  <tbody>\n",
       "    <tr>\n",
       "      <th>0</th>\n",
       "      <td>new-york</td>\n",
       "      <td>0.225</td>\n",
       "      <td>2020</td>\n",
       "    </tr>\n",
       "    <tr>\n",
       "      <th>1</th>\n",
       "      <td>chicago</td>\n",
       "      <td>0.153</td>\n",
       "      <td>2020</td>\n",
       "    </tr>\n",
       "    <tr>\n",
       "      <th>2</th>\n",
       "      <td>topeka</td>\n",
       "      <td>0.126</td>\n",
       "      <td>2020</td>\n",
       "    </tr>\n",
       "  </tbody>\n",
       "</table>\n",
       "</div>"
      ],
      "text/plain": [
       "          j      M  year\n",
       "0  new-york  0.225  2020\n",
       "1   chicago  0.153  2020\n",
       "2    topeka  0.126  2020"
      ]
     },
     "execution_count": 10,
     "metadata": {},
     "output_type": "execute_result"
    }
   ],
   "source": [
    "demand = gdx.to_dataframe('demand', fields='M')['elements']\n",
    "demand['year'] = 2020\n",
    "demand"
   ]
  },
  {
   "cell_type": "code",
   "execution_count": 11,
   "metadata": {},
   "outputs": [],
   "source": [
    "df.append(demand, variable='market price', value='M',\n",
    "          region='j', unit='$/case', **args, inplace=True)"
   ]
  },
  {
   "cell_type": "code",
   "execution_count": 12,
   "metadata": {},
   "outputs": [
    {
     "data": {
      "text/html": [
       "<div>\n",
       "<style scoped>\n",
       "    .dataframe tbody tr th:only-of-type {\n",
       "        vertical-align: middle;\n",
       "    }\n",
       "\n",
       "    .dataframe tbody tr th {\n",
       "        vertical-align: top;\n",
       "    }\n",
       "\n",
       "    .dataframe thead th {\n",
       "        text-align: right;\n",
       "    }\n",
       "</style>\n",
       "<table border=\"1\" class=\"dataframe\">\n",
       "  <thead>\n",
       "    <tr style=\"text-align: right;\">\n",
       "      <th></th>\n",
       "      <th></th>\n",
       "      <th></th>\n",
       "      <th></th>\n",
       "      <th></th>\n",
       "      <th>2020</th>\n",
       "    </tr>\n",
       "    <tr>\n",
       "      <th>model</th>\n",
       "      <th>scenario</th>\n",
       "      <th>region</th>\n",
       "      <th>variable</th>\n",
       "      <th>unit</th>\n",
       "      <th></th>\n",
       "    </tr>\n",
       "  </thead>\n",
       "  <tbody>\n",
       "    <tr>\n",
       "      <th rowspan=\"10\" valign=\"top\">transport</th>\n",
       "      <th rowspan=\"10\" valign=\"top\">baseline</th>\n",
       "      <th>USA</th>\n",
       "      <th>cost</th>\n",
       "      <th>$</th>\n",
       "      <td>153.675</td>\n",
       "    </tr>\n",
       "    <tr>\n",
       "      <th rowspan=\"3\" valign=\"top\">chicago</th>\n",
       "      <th>market price</th>\n",
       "      <th>$/case</th>\n",
       "      <td>0.153</td>\n",
       "    </tr>\n",
       "    <tr>\n",
       "      <th>supply|san-diego</th>\n",
       "      <th>cases</th>\n",
       "      <td>0.000</td>\n",
       "    </tr>\n",
       "    <tr>\n",
       "      <th>supply|seattle</th>\n",
       "      <th>cases</th>\n",
       "      <td>300.000</td>\n",
       "    </tr>\n",
       "    <tr>\n",
       "      <th rowspan=\"3\" valign=\"top\">new-york</th>\n",
       "      <th>market price</th>\n",
       "      <th>$/case</th>\n",
       "      <td>0.225</td>\n",
       "    </tr>\n",
       "    <tr>\n",
       "      <th>supply|san-diego</th>\n",
       "      <th>cases</th>\n",
       "      <td>275.000</td>\n",
       "    </tr>\n",
       "    <tr>\n",
       "      <th>supply|seattle</th>\n",
       "      <th>cases</th>\n",
       "      <td>50.000</td>\n",
       "    </tr>\n",
       "    <tr>\n",
       "      <th rowspan=\"3\" valign=\"top\">topeka</th>\n",
       "      <th>market price</th>\n",
       "      <th>$/case</th>\n",
       "      <td>0.126</td>\n",
       "    </tr>\n",
       "    <tr>\n",
       "      <th>supply|san-diego</th>\n",
       "      <th>cases</th>\n",
       "      <td>275.000</td>\n",
       "    </tr>\n",
       "    <tr>\n",
       "      <th>supply|seattle</th>\n",
       "      <th>cases</th>\n",
       "      <td>0.000</td>\n",
       "    </tr>\n",
       "  </tbody>\n",
       "</table>\n",
       "</div>"
      ],
      "text/plain": [
       "                                                        2020\n",
       "model     scenario region   variable         unit           \n",
       "transport baseline USA      cost             $       153.675\n",
       "                   chicago  market price     $/case    0.153\n",
       "                            supply|san-diego cases     0.000\n",
       "                            supply|seattle   cases   300.000\n",
       "                   new-york market price     $/case    0.225\n",
       "                            supply|san-diego cases   275.000\n",
       "                            supply|seattle   cases    50.000\n",
       "                   topeka   market price     $/case    0.126\n",
       "                            supply|san-diego cases   275.000\n",
       "                            supply|seattle   cases     0.000"
      ]
     },
     "execution_count": 12,
     "metadata": {},
     "output_type": "execute_result"
    }
   ],
   "source": [
    "df.timeseries()"
   ]
  },
  {
   "cell_type": "markdown",
   "metadata": {},
   "source": [
    "## Postprocessing to compute aggregate results\n",
    "\n",
    "It is often practical to not only have results at the most disaggregated level,\n",
    "but to also add aggregated results to the output.\n",
    "The **pyam** package offers several utilities to perform aggregation or validation;\n",
    "the following cell computes the total supply to each demand city\n",
    "and appends it to the **IamDataFrame**.\n",
    "\n",
    "The second cell again displays the complete data to illustrate the aggregation feature."
   ]
  },
  {
   "cell_type": "code",
   "execution_count": 13,
   "metadata": {},
   "outputs": [],
   "source": [
    "df.aggregate('supply', append=True)"
   ]
  },
  {
   "cell_type": "code",
   "execution_count": 14,
   "metadata": {},
   "outputs": [
    {
     "data": {
      "text/html": [
       "<div>\n",
       "<style scoped>\n",
       "    .dataframe tbody tr th:only-of-type {\n",
       "        vertical-align: middle;\n",
       "    }\n",
       "\n",
       "    .dataframe tbody tr th {\n",
       "        vertical-align: top;\n",
       "    }\n",
       "\n",
       "    .dataframe thead th {\n",
       "        text-align: right;\n",
       "    }\n",
       "</style>\n",
       "<table border=\"1\" class=\"dataframe\">\n",
       "  <thead>\n",
       "    <tr style=\"text-align: right;\">\n",
       "      <th></th>\n",
       "      <th></th>\n",
       "      <th></th>\n",
       "      <th></th>\n",
       "      <th></th>\n",
       "      <th>2020</th>\n",
       "    </tr>\n",
       "    <tr>\n",
       "      <th>model</th>\n",
       "      <th>scenario</th>\n",
       "      <th>region</th>\n",
       "      <th>variable</th>\n",
       "      <th>unit</th>\n",
       "      <th></th>\n",
       "    </tr>\n",
       "  </thead>\n",
       "  <tbody>\n",
       "    <tr>\n",
       "      <th rowspan=\"13\" valign=\"top\">transport</th>\n",
       "      <th rowspan=\"13\" valign=\"top\">baseline</th>\n",
       "      <th>USA</th>\n",
       "      <th>cost</th>\n",
       "      <th>$</th>\n",
       "      <td>153.675</td>\n",
       "    </tr>\n",
       "    <tr>\n",
       "      <th rowspan=\"4\" valign=\"top\">chicago</th>\n",
       "      <th>market price</th>\n",
       "      <th>$/case</th>\n",
       "      <td>0.153</td>\n",
       "    </tr>\n",
       "    <tr>\n",
       "      <th>supply</th>\n",
       "      <th>cases</th>\n",
       "      <td>300.000</td>\n",
       "    </tr>\n",
       "    <tr>\n",
       "      <th>supply|san-diego</th>\n",
       "      <th>cases</th>\n",
       "      <td>0.000</td>\n",
       "    </tr>\n",
       "    <tr>\n",
       "      <th>supply|seattle</th>\n",
       "      <th>cases</th>\n",
       "      <td>300.000</td>\n",
       "    </tr>\n",
       "    <tr>\n",
       "      <th rowspan=\"4\" valign=\"top\">new-york</th>\n",
       "      <th>market price</th>\n",
       "      <th>$/case</th>\n",
       "      <td>0.225</td>\n",
       "    </tr>\n",
       "    <tr>\n",
       "      <th>supply</th>\n",
       "      <th>cases</th>\n",
       "      <td>325.000</td>\n",
       "    </tr>\n",
       "    <tr>\n",
       "      <th>supply|san-diego</th>\n",
       "      <th>cases</th>\n",
       "      <td>275.000</td>\n",
       "    </tr>\n",
       "    <tr>\n",
       "      <th>supply|seattle</th>\n",
       "      <th>cases</th>\n",
       "      <td>50.000</td>\n",
       "    </tr>\n",
       "    <tr>\n",
       "      <th rowspan=\"4\" valign=\"top\">topeka</th>\n",
       "      <th>market price</th>\n",
       "      <th>$/case</th>\n",
       "      <td>0.126</td>\n",
       "    </tr>\n",
       "    <tr>\n",
       "      <th>supply</th>\n",
       "      <th>cases</th>\n",
       "      <td>275.000</td>\n",
       "    </tr>\n",
       "    <tr>\n",
       "      <th>supply|san-diego</th>\n",
       "      <th>cases</th>\n",
       "      <td>275.000</td>\n",
       "    </tr>\n",
       "    <tr>\n",
       "      <th>supply|seattle</th>\n",
       "      <th>cases</th>\n",
       "      <td>0.000</td>\n",
       "    </tr>\n",
       "  </tbody>\n",
       "</table>\n",
       "</div>"
      ],
      "text/plain": [
       "                                                        2020\n",
       "model     scenario region   variable         unit           \n",
       "transport baseline USA      cost             $       153.675\n",
       "                   chicago  market price     $/case    0.153\n",
       "                            supply           cases   300.000\n",
       "                            supply|san-diego cases     0.000\n",
       "                            supply|seattle   cases   300.000\n",
       "                   new-york market price     $/case    0.225\n",
       "                            supply           cases   325.000\n",
       "                            supply|san-diego cases   275.000\n",
       "                            supply|seattle   cases    50.000\n",
       "                   topeka   market price     $/case    0.126\n",
       "                            supply           cases   275.000\n",
       "                            supply|san-diego cases   275.000\n",
       "                            supply|seattle   cases     0.000"
      ]
     },
     "execution_count": 14,
     "metadata": {},
     "output_type": "execute_result"
    }
   ],
   "source": [
    "df.timeseries()"
   ]
  },
  {
   "cell_type": "markdown",
   "metadata": {},
   "source": [
    "## Visualization of results\n",
    "\n",
    "The **pyam** package includes a powerful plotting and visualization library.\n",
    "Most features are geared for timeseries data (for plotting development over time),\n",
    "but some are useful even for this small, stylized application:\n",
    "the next cell shows the regional share of supply from the two supply locations\n",
    "to the three demand centers."
   ]
  },
  {
   "cell_type": "code",
   "execution_count": 15,
   "metadata": {},
   "outputs": [
    {
     "data": {
      "text/plain": [
       "<AxesSubplot:title={'center':'model: transport scenario: baseline'}, xlabel='Region', ylabel='cases'>"
      ]
     },
     "execution_count": 15,
     "metadata": {},
     "output_type": "execute_result"
    },
    {
     "data": {
      "image/png": "[encoded data removed]",
      "text/plain": [
       "<Figure size 432x288 with 1 Axes>"
      ]
     },
     "metadata": {
      "needs_background": "light"
     },
     "output_type": "display_data"
    }
   ],
   "source": [
    "df.filter(variable='supply|*').plot.bar(x='region')"
   ]
  },
  {
   "cell_type": "markdown",
   "metadata": {},
   "source": [
    "Visit the **pyam** [plotting gallery](https://pyam-iamc.readthedocs.io/en/stable/gallery/index.html)\n",
    "for more features and options!"
   ]
  },
  {
   "cell_type": "markdown",
   "metadata": {},
   "source": [
    "## Exporting to different file formats\n",
    "\n",
    "You can use **pyam** to export the processed data in the IAMC format as an Excel table."
   ]
  },
  {
   "cell_type": "code",
   "execution_count": 16,
   "metadata": {},
   "outputs": [],
   "source": [
    "df.to_excel('transport.xlsx')"
   ]
  },
  {
   "cell_type": "markdown",
   "metadata": {},
   "source": [
    "**pyam** also supports export to different file formats,\n",
    "for example the [frictionless data package](https://frictionlessdata.io)!"
   ]
  },
  {
   "cell_type": "code",
   "execution_count": 17,
   "metadata": {},
   "outputs": [
    {
     "data": {
      "text/plain": [
       "<datapackage.package.Package at 0x7fd68e73d970>"
      ]
     },
     "execution_count": 17,
     "metadata": {},
     "output_type": "execute_result"
    }
   ],
   "source": [
    "df.to_datapackage('transport.zip')"
   ]
  },
  {
   "cell_type": "markdown",
   "metadata": {},
   "source": [
    "<div class=\"alert alert-info\">\n",
    "\n",
    "**Questions?**\n",
    "Take a look at [this tutorial](https://pyam-iamc.readthedocs.io/en/stable/tutorials/pyam_first_steps.html) for *first steps with pyam* - then join our [mailing list](https://groups.io/g/pyam)!\n",
    "\n",
    "</div>"
   ]
  }
 ],
 "metadata": {
  "kernelspec": {
   "display_name": "Python 3",
   "language": "python",
   "name": "python3"
  },
  "language_info": {
   "codemirror_mode": {
    "name": "ipython",
    "version": 3
   },
   "file_extension": ".py",
   "mimetype": "text/x-python",
   "name": "python",
   "nbconvert_exporter": "python",
   "pygments_lexer": "ipython3",
   "version": "3.8.3"
  },
  "nbsphinx": {
   "execute": "never"
  }
 },
 "nbformat": 4,
 "nbformat_minor": 4
}
