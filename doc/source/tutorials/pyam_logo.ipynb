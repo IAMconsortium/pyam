{
 "cells": [
  {
   "cell_type": "markdown",
   "metadata": {},
   "source": [
    "# Make our Logo!\n",
    "\n",
    "The logo combines a number of fun `pyam` features, including\n",
    "\n",
    "- line plots\n",
    "- filling data between lines\n",
    "- adding ranges of final-year data"
   ]
  },
  {
   "cell_type": "code",
   "execution_count": 1,
   "metadata": {},
   "outputs": [
    {
     "data": {
      "application/javascript": [
       "IPython.OutputArea.prototype._should_scroll = function(lines) { return false; }"
      ],
      "text/plain": [
       "<IPython.core.display.Javascript object>"
      ]
     },
     "metadata": {},
     "output_type": "display_data"
    }
   ],
   "source": [
    "import itertools\n",
    "import pyam\n",
    "\n",
    "import pandas as pd\n",
    "import numpy as np\n",
    "import matplotlib.pyplot as plt\n",
    "\n",
    "plt.style.use('seaborn-deep')"
   ]
  },
  {
   "cell_type": "code",
   "execution_count": 2,
   "metadata": {},
   "outputs": [],
   "source": [
    "def func(x, factor):\n",
    "    return np.sin(x) + factor * x\n",
    "\n",
    "x = np.linspace(0, 4, 100)"
   ]
  },
  {
   "cell_type": "code",
   "execution_count": 3,
   "metadata": {},
   "outputs": [],
   "source": [
    "combinations = itertools.product(['m1', 'm2', 'm3', 'm4'], ['s1', 's2', 's3'])\n",
    "data = [[m, s] + ['r', 'v', 'u'] + list(func(x, 0.5 + 0.1 * i)) for i, (m, s) in enumerate(combinations)]\n",
    "df = pyam.IamDataFrame(pd.DataFrame(data, columns=pyam.IAMC_IDX + list(range(len(x)))))"
   ]
  },
  {
   "cell_type": "code",
   "execution_count": 4,
   "metadata": {},
   "outputs": [
    {
     "data": {
      "text/html": [
       "<div>\n",
       "<style scoped>\n",
       "    .dataframe tbody tr th:only-of-type {\n",
       "        vertical-align: middle;\n",
       "    }\n",
       "\n",
       "    .dataframe tbody tr th {\n",
       "        vertical-align: top;\n",
       "    }\n",
       "\n",
       "    .dataframe thead th {\n",
       "        text-align: right;\n",
       "    }\n",
       "</style>\n",
       "<table border=\"1\" class=\"dataframe\">\n",
       "  <thead>\n",
       "    <tr style=\"text-align: right;\">\n",
       "      <th></th>\n",
       "      <th>model</th>\n",
       "      <th>scenario</th>\n",
       "      <th>region</th>\n",
       "      <th>variable</th>\n",
       "      <th>unit</th>\n",
       "      <th>year</th>\n",
       "      <th>value</th>\n",
       "    </tr>\n",
       "  </thead>\n",
       "  <tbody>\n",
       "    <tr>\n",
       "      <th>0</th>\n",
       "      <td>m1</td>\n",
       "      <td>s1</td>\n",
       "      <td>r</td>\n",
       "      <td>v</td>\n",
       "      <td>u</td>\n",
       "      <td>0</td>\n",
       "      <td>0.000000</td>\n",
       "    </tr>\n",
       "    <tr>\n",
       "      <th>12</th>\n",
       "      <td>m1</td>\n",
       "      <td>s1</td>\n",
       "      <td>r</td>\n",
       "      <td>v</td>\n",
       "      <td>u</td>\n",
       "      <td>1</td>\n",
       "      <td>0.060595</td>\n",
       "    </tr>\n",
       "    <tr>\n",
       "      <th>144</th>\n",
       "      <td>m1</td>\n",
       "      <td>s1</td>\n",
       "      <td>r</td>\n",
       "      <td>v</td>\n",
       "      <td>u</td>\n",
       "      <td>2</td>\n",
       "      <td>0.121124</td>\n",
       "    </tr>\n",
       "    <tr>\n",
       "      <th>276</th>\n",
       "      <td>m1</td>\n",
       "      <td>s1</td>\n",
       "      <td>r</td>\n",
       "      <td>v</td>\n",
       "      <td>u</td>\n",
       "      <td>3</td>\n",
       "      <td>0.181522</td>\n",
       "    </tr>\n",
       "    <tr>\n",
       "      <th>408</th>\n",
       "      <td>m1</td>\n",
       "      <td>s1</td>\n",
       "      <td>r</td>\n",
       "      <td>v</td>\n",
       "      <td>u</td>\n",
       "      <td>4</td>\n",
       "      <td>0.241722</td>\n",
       "    </tr>\n",
       "  </tbody>\n",
       "</table>\n",
       "</div>"
      ],
      "text/plain": [
       "    model scenario region variable unit  year     value\n",
       "0      m1       s1      r        v    u     0  0.000000\n",
       "12     m1       s1      r        v    u     1  0.060595\n",
       "144    m1       s1      r        v    u     2  0.121124\n",
       "276    m1       s1      r        v    u     3  0.181522\n",
       "408    m1       s1      r        v    u     4  0.241722"
      ]
     },
     "execution_count": 4,
     "metadata": {},
     "output_type": "execute_result"
    }
   ],
   "source": [
    "df.head()"
   ]
  },
  {
   "cell_type": "code",
   "execution_count": 5,
   "metadata": {},
   "outputs": [
    {
     "data": {
      "image/png": "[encoded data removed]",
      "text/plain": [
       "<matplotlib.figure.Figure at 0x7f9e6322cb00>"
      ]
     },
     "metadata": {},
     "output_type": "display_data"
    }
   ],
   "source": [
    "fig, ax = plt.subplots()\n",
    "df.filter(scenario='s2').line_plot(ax=ax, color='model', legend=False, title=False)\n",
    "df.filter(scenario='s2', keep=False).line_plot(ax=ax, linewidth=0.5, color='model', legend=False, title=False)\n",
    "df.line_plot(ax=ax, alpha=0, color='model', fill_between=True, final_ranges=dict(linewidth=4), legend=False, title=False)\n",
    "plt.axis('off')\n",
    "plt.tight_layout()\n",
    "fig.savefig('logo.pdf', bbox_inches='tight', transparent=True, pad_inches=0)"
   ]
  }
 ],
 "metadata": {
  "kernelspec": {
   "display_name": "Python 3",
   "language": "python",
   "name": "python3"
  },
  "language_info": {
   "codemirror_mode": {
    "name": "ipython",
    "version": 3
   },
   "file_extension": ".py",
   "mimetype": "text/x-python",
   "name": "python",
   "nbconvert_exporter": "python",
   "pygments_lexer": "ipython3",
   "version": "3.5.2"
  }
 },
 "nbformat": 4,
 "nbformat_minor": 2
}
