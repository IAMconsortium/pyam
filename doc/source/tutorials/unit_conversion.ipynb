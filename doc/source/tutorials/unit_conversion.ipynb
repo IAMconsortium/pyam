{
 "cells": [
  {
   "cell_type": "markdown",
   "metadata": {},
   "source": [
    "# Introduction to unit conversion with pyam\n",
    "\n",
    "Conversion of timeseries data units is one of the most tedious aspects of modelling and scenario analysis -\n",
    "and it is a frequent source for errors!\n",
    "The **pyam** function [convert_unit()](https://pyam-iamc.readthedocs.io/en/stable/api.html#pyam.IamDataFrame.convert_unit) can support and simplify this task.\n",
    "\n",
    "The function uses the Python package [pint](https://pint.readthedocs.io),\n",
    "which natively handles conversion of standard (SI) units (e.g., exajoule to terawatt-hours, `EJ -> TWh`).\n",
    "The **pint** package can also parse combined units (e.g., exajoule per year, `EJ/yr`).\n",
    "\n",
    "To better support common use cases when working with energy systems analysis and integrated-assessment scenarios,\n",
    "the default [pint.UnitRegistry](https://pint.readthedocs.io/en/stable/developers_reference.html#pint.UnitRegistry)\n",
    "used by **pyam** loads the unit definitions collected at [IAMconsortium/units](https://github.com/IAMconsortium/units).\n",
    "This repository provides a wide range of conversion factors in a **pint**-compatible format\n",
    "so that they can easily be used across multiple applications (**pyam** is just one of them).\n",
    "\n",
    "*If you have suggestions for additional units to be added to that repository,\n",
    "please [start an issue](https://github.com/IAMconsortium/units/issues) - or make a pull request!*\n",
    "\n",
    "## Overview\n",
    "\n",
    "This notebook illustrates the following features:\n",
    "\n",
    "0. Define timeseries data and initialize an `IamDataFrame`\n",
    "1. Use the default **pint** unit conversion\n",
    "2. Use a unit & conversion factor from the [IAMconsortium/units](https://github.com/IAMconsortium/units) repository\n",
    "3. Use a custom conversion factor\n",
    "4. Use contexts to specify conversion metrics\n",
    "5. More advanced use cases with a unit registry"
   ]
  },
  {
   "cell_type": "code",
   "execution_count": null,
   "metadata": {},
   "outputs": [],
   "source": [
    "import pyam"
   ]
  },
  {
   "cell_type": "markdown",
   "metadata": {},
   "source": [
    "## 0. Define timeseries data and initialize an `IamDataFrame`\n",
    "\n",
    "This tutorial uses a scenario similar to the data in the **first-steps tutorial** (here on\n",
    "[GitHub](https://github.com/IAMconsortium/pyam/blob/master/doc/source/tutorials/pyam_first_steps.ipynb)\n",
    "and on [read the docs](https://pyam-iamc.readthedocs.io/en/stable/tutorials/pyam_first_steps.html)).\n",
    "Please read that tutorial for the reference and further information."
   ]
  },
  {
   "cell_type": "code",
   "execution_count": null,
   "metadata": {},
   "outputs": [],
   "source": [
    "df = (\n",
    "    pyam.IamDataFrame(data='tutorial_data.csv')\n",
    "    .filter(model='MESSAGE*', scenario='CD-LINKS_NPi',\n",
    "            region='World', variable=['Primary Energy', 'Emissions|CO2'])\n",
    ")\n",
    "\n",
    "df.timeseries()"
   ]
  }
 ],
 "metadata": {
  "kernelspec": {
   "display_name": "Python 3",
   "language": "python",
   "name": "python3"
  },
  "language_info": {
   "codemirror_mode": {
    "name": "ipython",
    "version": 3
   },
   "file_extension": ".py",
   "mimetype": "text/x-python",
   "name": "python",
   "nbconvert_exporter": "python",
   "pygments_lexer": "ipython3",
   "version": "3.7.4"
  }
 },
 "nbformat": 4,
 "nbformat_minor": 2
}
