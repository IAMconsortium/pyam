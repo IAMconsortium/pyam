{
 "cells": [
  {
   "cell_type": "code",
   "execution_count": 6,
   "metadata": {},
   "outputs": [
    {
     "data": {
      "application/javascript": [
       "IPython.OutputArea.prototype._should_scroll = function(lines) { return false; }"
      ],
      "text/plain": [
       "<IPython.core.display.Javascript object>"
      ]
     },
     "metadata": {},
     "output_type": "display_data"
    }
   ],
   "source": [
    "import pandas as pd\n",
    "import pyam"
   ]
  },
  {
   "cell_type": "code",
   "execution_count": 24,
   "metadata": {},
   "outputs": [],
   "source": [
    "df = pd.DataFrame([\n",
    "    ['IMG', 'a_scen', 'World', 'Emissions|CO2', 'Mt CO2/yr', 4, 9.4],\n",
    "    ['IMG', 'a_scen', 'World', 'Emissions|CO2|Cars', 'Mt CO2/yr', 1.6, 3.8],\n",
    "    ['IMG', 'a_scen', 'World', 'Emissions|CO2|Tar', 'Mt CO2/yr', -2.4, -5.6],\n",
    "    ['IMG', 'a_scen_2', 'World', 'Emissions|CO2', 'Mt CO2/yr', 4.8, 10.2],\n",
    "    ['IMG', 'a_scen_2', 'World', 'Emissions|CO2|Cars', 'Mt CO2/yr', 2.0, 4.2],\n",
    "    ['IMG', 'a_scen_2', 'World', 'Emissions|CO2|Tar', 'Mt CO2/yr', 2.8, 6.0],\n",
    "    ['MSG-GLB', 'a_scen', 'World', 'Emissions|CO2', 'Mt CO2/yr', 3.6, 9.0],\n",
    "    ['MSG-GLB', 'a_scen', 'World', 'Emissions|CO2|Cars', 'Mt CO2/yr', 1.4, 3.6],\n",
    "    ['MSG-GLB', 'a_scen', 'World', 'Emissions|CO2|Tar', 'Mt CO2/yr', 2.2, 5.4],\n",
    "    ['MSG-GLB', 'a_scen_2', 'World', 'Emissions|CO2', 'Mt CO2/yr', -5.0, -10.6],\n",
    "    ['MSG-GLB', 'a_scen_2', 'World', 'Emissions|CO2|Cars', 'Mt CO2/yr', -2.0, -4.2],\n",
    "    ['MSG-GLB', 'a_scen_2', 'World', 'Emissions|CO2|Tar', 'Mt CO2/yr', -2.8, -6.0],\n",
    "    ['MSG-GLB', 'a_scen_2', 'World', 'Emissions|CO2|Agg Agg', 'Mt CO2/yr', -0.2, -0.4],\n",
    "],\n",
    "    columns=['model', 'scenario', 'region', 'variable', 'unit', 2005, 2010],\n",
    ")"
   ]
  },
  {
   "cell_type": "code",
   "execution_count": 25,
   "metadata": {},
   "outputs": [
    {
     "data": {
      "text/html": [
       "<div>\n",
       "<style scoped>\n",
       "    .dataframe tbody tr th:only-of-type {\n",
       "        vertical-align: middle;\n",
       "    }\n",
       "\n",
       "    .dataframe tbody tr th {\n",
       "        vertical-align: top;\n",
       "    }\n",
       "\n",
       "    .dataframe thead th {\n",
       "        text-align: right;\n",
       "    }\n",
       "</style>\n",
       "<table border=\"1\" class=\"dataframe\">\n",
       "  <thead>\n",
       "    <tr style=\"text-align: right;\">\n",
       "      <th></th>\n",
       "      <th>model</th>\n",
       "      <th>scenario</th>\n",
       "      <th>region</th>\n",
       "      <th>variable</th>\n",
       "      <th>unit</th>\n",
       "      <th>2005</th>\n",
       "      <th>2010</th>\n",
       "    </tr>\n",
       "  </thead>\n",
       "  <tbody>\n",
       "    <tr>\n",
       "      <th>0</th>\n",
       "      <td>IMG</td>\n",
       "      <td>a_scen</td>\n",
       "      <td>World</td>\n",
       "      <td>Emissions|CO2</td>\n",
       "      <td>Mt CO2/yr</td>\n",
       "      <td>4.0</td>\n",
       "      <td>9.4</td>\n",
       "    </tr>\n",
       "    <tr>\n",
       "      <th>1</th>\n",
       "      <td>IMG</td>\n",
       "      <td>a_scen</td>\n",
       "      <td>World</td>\n",
       "      <td>Emissions|CO2|Cars</td>\n",
       "      <td>Mt CO2/yr</td>\n",
       "      <td>1.6</td>\n",
       "      <td>3.8</td>\n",
       "    </tr>\n",
       "    <tr>\n",
       "      <th>2</th>\n",
       "      <td>IMG</td>\n",
       "      <td>a_scen</td>\n",
       "      <td>World</td>\n",
       "      <td>Emissions|CO2|Tar</td>\n",
       "      <td>Mt CO2/yr</td>\n",
       "      <td>-2.4</td>\n",
       "      <td>-5.6</td>\n",
       "    </tr>\n",
       "    <tr>\n",
       "      <th>3</th>\n",
       "      <td>IMG</td>\n",
       "      <td>a_scen_2</td>\n",
       "      <td>World</td>\n",
       "      <td>Emissions|CO2</td>\n",
       "      <td>Mt CO2/yr</td>\n",
       "      <td>4.8</td>\n",
       "      <td>10.2</td>\n",
       "    </tr>\n",
       "    <tr>\n",
       "      <th>4</th>\n",
       "      <td>IMG</td>\n",
       "      <td>a_scen_2</td>\n",
       "      <td>World</td>\n",
       "      <td>Emissions|CO2|Cars</td>\n",
       "      <td>Mt CO2/yr</td>\n",
       "      <td>2.0</td>\n",
       "      <td>4.2</td>\n",
       "    </tr>\n",
       "  </tbody>\n",
       "</table>\n",
       "</div>"
      ],
      "text/plain": [
       "  model  scenario region            variable       unit  2005  2010\n",
       "0   IMG    a_scen  World       Emissions|CO2  Mt CO2/yr   4.0   9.4\n",
       "1   IMG    a_scen  World  Emissions|CO2|Cars  Mt CO2/yr   1.6   3.8\n",
       "2   IMG    a_scen  World   Emissions|CO2|Tar  Mt CO2/yr  -2.4  -5.6\n",
       "3   IMG  a_scen_2  World       Emissions|CO2  Mt CO2/yr   4.8  10.2\n",
       "4   IMG  a_scen_2  World  Emissions|CO2|Cars  Mt CO2/yr   2.0   4.2"
      ]
     },
     "execution_count": 25,
     "metadata": {},
     "output_type": "execute_result"
    }
   ],
   "source": [
    "df.head()"
   ]
  },
  {
   "cell_type": "code",
   "execution_count": 26,
   "metadata": {},
   "outputs": [],
   "source": [
    "df = pyam.IamDataFrame(df)"
   ]
  },
  {
   "cell_type": "code",
   "execution_count": 27,
   "metadata": {},
   "outputs": [
    {
     "data": {
      "text/plain": [
       "<matplotlib.axes._subplots.AxesSubplot at 0x28d7821dac8>"
      ]
     },
     "execution_count": 27,
     "metadata": {},
     "output_type": "execute_result"
    },
    {
     "data": {
      "image/png": "[encoded data removed]",
      "text/plain": [
       "<Figure size 432x288 with 1 Axes>"
      ]
     },
     "metadata": {
      "needs_background": "light"
     },
     "output_type": "display_data"
    }
   ],
   "source": [
    "df.filter(scenario='a_scen', model='IMG').stack_plot()"
   ]
  },
  {
   "cell_type": "code",
   "execution_count": 28,
   "metadata": {},
   "outputs": [
    {
     "data": {
      "text/html": [
       "<div>\n",
       "<style scoped>\n",
       "    .dataframe tbody tr th:only-of-type {\n",
       "        vertical-align: middle;\n",
       "    }\n",
       "\n",
       "    .dataframe tbody tr th {\n",
       "        vertical-align: top;\n",
       "    }\n",
       "\n",
       "    .dataframe thead th {\n",
       "        text-align: right;\n",
       "    }\n",
       "</style>\n",
       "<table border=\"1\" class=\"dataframe\">\n",
       "  <thead>\n",
       "    <tr style=\"text-align: right;\">\n",
       "      <th></th>\n",
       "      <th>model</th>\n",
       "      <th>scenario</th>\n",
       "      <th>region</th>\n",
       "      <th>variable</th>\n",
       "      <th>unit</th>\n",
       "      <th>year</th>\n",
       "      <th>value</th>\n",
       "    </tr>\n",
       "  </thead>\n",
       "  <tbody>\n",
       "    <tr>\n",
       "      <th>0</th>\n",
       "      <td>IMG</td>\n",
       "      <td>a_scen</td>\n",
       "      <td>World</td>\n",
       "      <td>Emissions|CO2</td>\n",
       "      <td>Mt CO2/yr</td>\n",
       "      <td>2005</td>\n",
       "      <td>4.0</td>\n",
       "    </tr>\n",
       "    <tr>\n",
       "      <th>13</th>\n",
       "      <td>IMG</td>\n",
       "      <td>a_scen</td>\n",
       "      <td>World</td>\n",
       "      <td>Emissions|CO2</td>\n",
       "      <td>Mt CO2/yr</td>\n",
       "      <td>2010</td>\n",
       "      <td>9.4</td>\n",
       "    </tr>\n",
       "    <tr>\n",
       "      <th>1</th>\n",
       "      <td>IMG</td>\n",
       "      <td>a_scen</td>\n",
       "      <td>World</td>\n",
       "      <td>Emissions|CO2|Cars</td>\n",
       "      <td>Mt CO2/yr</td>\n",
       "      <td>2005</td>\n",
       "      <td>1.6</td>\n",
       "    </tr>\n",
       "    <tr>\n",
       "      <th>14</th>\n",
       "      <td>IMG</td>\n",
       "      <td>a_scen</td>\n",
       "      <td>World</td>\n",
       "      <td>Emissions|CO2|Cars</td>\n",
       "      <td>Mt CO2/yr</td>\n",
       "      <td>2010</td>\n",
       "      <td>3.8</td>\n",
       "    </tr>\n",
       "    <tr>\n",
       "      <th>2</th>\n",
       "      <td>IMG</td>\n",
       "      <td>a_scen</td>\n",
       "      <td>World</td>\n",
       "      <td>Emissions|CO2|Tar</td>\n",
       "      <td>Mt CO2/yr</td>\n",
       "      <td>2005</td>\n",
       "      <td>-2.4</td>\n",
       "    </tr>\n",
       "    <tr>\n",
       "      <th>15</th>\n",
       "      <td>IMG</td>\n",
       "      <td>a_scen</td>\n",
       "      <td>World</td>\n",
       "      <td>Emissions|CO2|Tar</td>\n",
       "      <td>Mt CO2/yr</td>\n",
       "      <td>2010</td>\n",
       "      <td>-5.6</td>\n",
       "    </tr>\n",
       "  </tbody>\n",
       "</table>\n",
       "</div>"
      ],
      "text/plain": [
       "   model scenario region            variable       unit  year  value\n",
       "0    IMG   a_scen  World       Emissions|CO2  Mt CO2/yr  2005    4.0\n",
       "13   IMG   a_scen  World       Emissions|CO2  Mt CO2/yr  2010    9.4\n",
       "1    IMG   a_scen  World  Emissions|CO2|Cars  Mt CO2/yr  2005    1.6\n",
       "14   IMG   a_scen  World  Emissions|CO2|Cars  Mt CO2/yr  2010    3.8\n",
       "2    IMG   a_scen  World   Emissions|CO2|Tar  Mt CO2/yr  2005   -2.4\n",
       "15   IMG   a_scen  World   Emissions|CO2|Tar  Mt CO2/yr  2010   -5.6"
      ]
     },
     "execution_count": 28,
     "metadata": {},
     "output_type": "execute_result"
    }
   ],
   "source": [
    "df.filter(scenario='a_scen', model='IMG').data"
   ]
  },
  {
   "cell_type": "markdown",
   "metadata": {},
   "source": [
    "From here down we want to make the stack plot with the bars showing the negative emissions and total lines properly."
   ]
  },
  {
   "cell_type": "code",
   "execution_count": null,
   "metadata": {},
   "outputs": [],
   "source": [
    "# code goes here"
   ]
  },
  {
   "cell_type": "markdown",
   "metadata": {},
   "source": [
    "From here down we want to aggregate some data first, then make the stack plot"
   ]
  },
  {
   "cell_type": "code",
   "execution_count": 29,
   "metadata": {},
   "outputs": [],
   "source": [
    "sdf = df.filter(model=\"MSG-GLB\", scenario=\"a_scen_2\")"
   ]
  },
  {
   "cell_type": "code",
   "execution_count": null,
   "metadata": {},
   "outputs": [],
   "source": [
    "sdf.aggregate(append=True)"
   ]
  },
  {
   "cell_type": "code",
   "execution_count": 30,
   "metadata": {},
   "outputs": [
    {
     "data": {
      "text/html": [
       "<div>\n",
       "<style scoped>\n",
       "    .dataframe tbody tr th:only-of-type {\n",
       "        vertical-align: middle;\n",
       "    }\n",
       "\n",
       "    .dataframe tbody tr th {\n",
       "        vertical-align: top;\n",
       "    }\n",
       "\n",
       "    .dataframe thead th {\n",
       "        text-align: right;\n",
       "    }\n",
       "</style>\n",
       "<table border=\"1\" class=\"dataframe\">\n",
       "  <thead>\n",
       "    <tr style=\"text-align: right;\">\n",
       "      <th></th>\n",
       "      <th>model</th>\n",
       "      <th>scenario</th>\n",
       "      <th>region</th>\n",
       "      <th>variable</th>\n",
       "      <th>unit</th>\n",
       "      <th>year</th>\n",
       "      <th>value</th>\n",
       "    </tr>\n",
       "  </thead>\n",
       "  <tbody>\n",
       "    <tr>\n",
       "      <th>9</th>\n",
       "      <td>MSG-GLB</td>\n",
       "      <td>a_scen_2</td>\n",
       "      <td>World</td>\n",
       "      <td>Emissions|CO2</td>\n",
       "      <td>Mt CO2/yr</td>\n",
       "      <td>2005</td>\n",
       "      <td>-5.0</td>\n",
       "    </tr>\n",
       "    <tr>\n",
       "      <th>22</th>\n",
       "      <td>MSG-GLB</td>\n",
       "      <td>a_scen_2</td>\n",
       "      <td>World</td>\n",
       "      <td>Emissions|CO2</td>\n",
       "      <td>Mt CO2/yr</td>\n",
       "      <td>2010</td>\n",
       "      <td>-10.6</td>\n",
       "    </tr>\n",
       "    <tr>\n",
       "      <th>12</th>\n",
       "      <td>MSG-GLB</td>\n",
       "      <td>a_scen_2</td>\n",
       "      <td>World</td>\n",
       "      <td>Emissions|CO2|Agg Agg</td>\n",
       "      <td>Mt CO2/yr</td>\n",
       "      <td>2005</td>\n",
       "      <td>-0.2</td>\n",
       "    </tr>\n",
       "    <tr>\n",
       "      <th>25</th>\n",
       "      <td>MSG-GLB</td>\n",
       "      <td>a_scen_2</td>\n",
       "      <td>World</td>\n",
       "      <td>Emissions|CO2|Agg Agg</td>\n",
       "      <td>Mt CO2/yr</td>\n",
       "      <td>2010</td>\n",
       "      <td>-0.4</td>\n",
       "    </tr>\n",
       "    <tr>\n",
       "      <th>10</th>\n",
       "      <td>MSG-GLB</td>\n",
       "      <td>a_scen_2</td>\n",
       "      <td>World</td>\n",
       "      <td>Emissions|CO2|Cars</td>\n",
       "      <td>Mt CO2/yr</td>\n",
       "      <td>2005</td>\n",
       "      <td>-2.0</td>\n",
       "    </tr>\n",
       "  </tbody>\n",
       "</table>\n",
       "</div>"
      ],
      "text/plain": [
       "      model  scenario region               variable       unit  year  value\n",
       "9   MSG-GLB  a_scen_2  World          Emissions|CO2  Mt CO2/yr  2005   -5.0\n",
       "22  MSG-GLB  a_scen_2  World          Emissions|CO2  Mt CO2/yr  2010  -10.6\n",
       "12  MSG-GLB  a_scen_2  World  Emissions|CO2|Agg Agg  Mt CO2/yr  2005   -0.2\n",
       "25  MSG-GLB  a_scen_2  World  Emissions|CO2|Agg Agg  Mt CO2/yr  2010   -0.4\n",
       "10  MSG-GLB  a_scen_2  World     Emissions|CO2|Cars  Mt CO2/yr  2005   -2.0"
      ]
     },
     "execution_count": 30,
     "metadata": {},
     "output_type": "execute_result"
    }
   ],
   "source": [
    "sdf.head()"
   ]
  },
  {
   "cell_type": "code",
   "execution_count": 31,
   "metadata": {},
   "outputs": [
    {
     "data": {
      "text/plain": [
       "<matplotlib.axes._subplots.AxesSubplot at 0x28d78304ef0>"
      ]
     },
     "execution_count": 31,
     "metadata": {},
     "output_type": "execute_result"
    },
    {
     "data": {
      "image/png": "[encoded data removed]",
      "text/plain": [
       "<Figure size 432x288 with 1 Axes>"
      ]
     },
     "metadata": {
      "needs_background": "light"
     },
     "output_type": "display_data"
    }
   ],
   "source": [
    "sdf.stack_plot()"
   ]
  },
  {
   "cell_type": "markdown",
   "metadata": {},
   "source": [
    "Take an aggregate of Cars and Tar. Then plot the aggregate of cars and tar alongside the 'Agg Agg' subvariable. "
   ]
  },
  {
   "cell_type": "code",
   "execution_count": null,
   "metadata": {},
   "outputs": [],
   "source": []
  }
 ],
 "metadata": {
  "kernelspec": {
   "display_name": "Python 3",
   "language": "python",
   "name": "python3"
  },
  "language_info": {
   "codemirror_mode": {
    "name": "ipython",
    "version": 3
   },
   "file_extension": ".py",
   "mimetype": "text/x-python",
   "name": "python",
   "nbconvert_exporter": "python",
   "pygments_lexer": "ipython3",
   "version": "3.6.6"
  }
 },
 "nbformat": 4,
 "nbformat_minor": 2
}
