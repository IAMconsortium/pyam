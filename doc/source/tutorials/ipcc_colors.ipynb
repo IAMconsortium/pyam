{
 "cells": [
  {
   "cell_type": "markdown",
   "metadata": {},
   "source": [
    "# Using IPCC Color Palattes\n",
    "\n",
    "`pyam` supports the use of explicit IPCC AR5 and AR6 color palattes by providing the RCP and/or SSP of interest via the `pyam.run_control()`.\n",
    "\n",
    "The full list of supported special colors is"
   ]
  },
  {
   "cell_type": "code",
   "execution_count": 1,
   "metadata": {},
   "outputs": [
    {
     "data": {
      "application/javascript": [
       "IPython.OutputArea.prototype._should_scroll = function(lines) { return false; }"
      ],
      "text/plain": [
       "<IPython.core.display.Javascript object>"
      ]
     },
     "metadata": {},
     "output_type": "display_data"
    },
    {
     "data": {
      "text/html": [
       "<div>\n",
       "<style scoped>\n",
       "    .dataframe tbody tr th:only-of-type {\n",
       "        vertical-align: middle;\n",
       "    }\n",
       "\n",
       "    .dataframe tbody tr th {\n",
       "        vertical-align: top;\n",
       "    }\n",
       "\n",
       "    .dataframe thead th {\n",
       "        text-align: right;\n",
       "    }\n",
       "</style>\n",
       "<table border=\"1\" class=\"dataframe\">\n",
       "  <thead>\n",
       "    <tr style=\"text-align: right;\">\n",
       "      <th></th>\n",
       "      <th>name</th>\n",
       "      <th>color</th>\n",
       "    </tr>\n",
       "  </thead>\n",
       "  <tbody>\n",
       "    <tr>\n",
       "      <th>0</th>\n",
       "      <td>AR6-SSP1-1.9</td>\n",
       "      <td>#00AAD0</td>\n",
       "    </tr>\n",
       "    <tr>\n",
       "      <th>1</th>\n",
       "      <td>AR6-SSP1-2.6</td>\n",
       "      <td>#003466</td>\n",
       "    </tr>\n",
       "    <tr>\n",
       "      <th>2</th>\n",
       "      <td>AR6-SSP2-4.5</td>\n",
       "      <td>#EF550F</td>\n",
       "    </tr>\n",
       "    <tr>\n",
       "      <th>3</th>\n",
       "      <td>AR6-SSP3-7.0</td>\n",
       "      <td>#E00000</td>\n",
       "    </tr>\n",
       "    <tr>\n",
       "      <th>4</th>\n",
       "      <td>AR6-SSP3-LowNTCF</td>\n",
       "      <td>#E00000</td>\n",
       "    </tr>\n",
       "    <tr>\n",
       "      <th>5</th>\n",
       "      <td>AR6-SSP4-3.4</td>\n",
       "      <td>#FFA900</td>\n",
       "    </tr>\n",
       "    <tr>\n",
       "      <th>6</th>\n",
       "      <td>AR6-SSP4-6.0</td>\n",
       "      <td>#C47900</td>\n",
       "    </tr>\n",
       "    <tr>\n",
       "      <th>7</th>\n",
       "      <td>AR6-SSP5-3.4-OS</td>\n",
       "      <td>#7F006E</td>\n",
       "    </tr>\n",
       "    <tr>\n",
       "      <th>8</th>\n",
       "      <td>AR6-SSP5-8.5</td>\n",
       "      <td>#990002</td>\n",
       "    </tr>\n",
       "    <tr>\n",
       "      <th>9</th>\n",
       "      <td>AR6-RCP-2.6</td>\n",
       "      <td>#003466</td>\n",
       "    </tr>\n",
       "    <tr>\n",
       "      <th>10</th>\n",
       "      <td>AR6-RCP-4.5</td>\n",
       "      <td>#5492CD</td>\n",
       "    </tr>\n",
       "    <tr>\n",
       "      <th>11</th>\n",
       "      <td>AR6-RCP-6.0</td>\n",
       "      <td>#C47900</td>\n",
       "    </tr>\n",
       "    <tr>\n",
       "      <th>12</th>\n",
       "      <td>AR6-RCP-8.5</td>\n",
       "      <td>#990002</td>\n",
       "    </tr>\n",
       "    <tr>\n",
       "      <th>13</th>\n",
       "      <td>AR5-RCP-2.6</td>\n",
       "      <td>#0000FF</td>\n",
       "    </tr>\n",
       "    <tr>\n",
       "      <th>14</th>\n",
       "      <td>AR5-RCP-4.5</td>\n",
       "      <td>#79BCFF</td>\n",
       "    </tr>\n",
       "    <tr>\n",
       "      <th>15</th>\n",
       "      <td>AR5-RCP-6.0</td>\n",
       "      <td>#FF822D</td>\n",
       "    </tr>\n",
       "    <tr>\n",
       "      <th>16</th>\n",
       "      <td>AR5-RCP-8.5</td>\n",
       "      <td>#FF0000</td>\n",
       "    </tr>\n",
       "  </tbody>\n",
       "</table>\n",
       "</div>"
      ],
      "text/plain": [
       "                name    color\n",
       "0       AR6-SSP1-1.9  #00AAD0\n",
       "1       AR6-SSP1-2.6  #003466\n",
       "2       AR6-SSP2-4.5  #EF550F\n",
       "3       AR6-SSP3-7.0  #E00000\n",
       "4   AR6-SSP3-LowNTCF  #E00000\n",
       "5       AR6-SSP4-3.4  #FFA900\n",
       "6       AR6-SSP4-6.0  #C47900\n",
       "7    AR6-SSP5-3.4-OS  #7F006E\n",
       "8       AR6-SSP5-8.5  #990002\n",
       "9        AR6-RCP-2.6  #003466\n",
       "10       AR6-RCP-4.5  #5492CD\n",
       "11       AR6-RCP-6.0  #C47900\n",
       "12       AR6-RCP-8.5  #990002\n",
       "13       AR5-RCP-2.6  #0000FF\n",
       "14       AR5-RCP-4.5  #79BCFF\n",
       "15       AR5-RCP-6.0  #FF822D\n",
       "16       AR5-RCP-8.5  #FF0000"
      ]
     },
     "execution_count": 1,
     "metadata": {},
     "output_type": "execute_result"
    }
   ],
   "source": [
    "import pyam\n",
    "import pandas as pd\n",
    "\n",
    "pd.DataFrame({'name': list(pyam.plotting.PYAM_COLORS.keys()), \n",
    "              'color': list(pyam.plotting.PYAM_COLORS.values())})"
   ]
  },
  {
   "cell_type": "markdown",
   "metadata": {},
   "source": [
    "Let's pull out a few example scenarios from our tutorial dataset and plot them with defaults"
   ]
  },
  {
   "cell_type": "code",
   "execution_count": 2,
   "metadata": {},
   "outputs": [
    {
     "name": "stderr",
     "output_type": "stream",
     "text": [
      "INFO:root:Reading `tutorial_AR5_data.csv`\n"
     ]
    },
    {
     "data": {
      "text/plain": [
       "<matplotlib.axes._subplots.AxesSubplot at 0x7fb459e52550>"
      ]
     },
     "execution_count": 2,
     "metadata": {},
     "output_type": "execute_result"
    },
    {
     "data": {
      "image/png": "[encoded data removed]",
      "text/plain": [
       "<Figure size 432x288 with 1 Axes>"
      ]
     },
     "metadata": {
      "needs_background": "light"
     },
     "output_type": "display_data"
    }
   ],
   "source": [
    "scenarios = ['AMPERE3-450', 'AMPERE3-RefPol']\n",
    "\n",
    "df = (\n",
    "    pyam.IamDataFrame(data='tutorial_AR5_data.csv', encoding='utf-8')\n",
    "    .filter(variable='Emissions|CO2', region='World', scenario=scenarios)\n",
    ")\n",
    "\n",
    "df.line_plot(color='scenario')"
   ]
  },
  {
   "cell_type": "markdown",
   "metadata": {},
   "source": [
    "As an example, let us say that each of these two scenario families correspond to scenarios in the AR6 context. We can utilize the specific colors by following three steps:\n",
    "\n",
    "1. Add metadata to each scenario with relevant information which corresponds to the AR6-style scenario\n",
    "2. Update `pyam.run_control()` telling it which metadata maps to which AR6 scenario color\n",
    "2. Call `line_plot` using that meta data\n",
    "\n",
    "### Updating metadata\n",
    "\n",
    "The existing metadata looks like"
   ]
  },
  {
   "cell_type": "code",
   "execution_count": 3,
   "metadata": {},
   "outputs": [
    {
     "data": {
      "text/html": [
       "<div>\n",
       "<style scoped>\n",
       "    .dataframe tbody tr th:only-of-type {\n",
       "        vertical-align: middle;\n",
       "    }\n",
       "\n",
       "    .dataframe tbody tr th {\n",
       "        vertical-align: top;\n",
       "    }\n",
       "\n",
       "    .dataframe thead th {\n",
       "        text-align: right;\n",
       "    }\n",
       "</style>\n",
       "<table border=\"1\" class=\"dataframe\">\n",
       "  <thead>\n",
       "    <tr style=\"text-align: right;\">\n",
       "      <th></th>\n",
       "      <th></th>\n",
       "      <th>exclude</th>\n",
       "    </tr>\n",
       "    <tr>\n",
       "      <th>model</th>\n",
       "      <th>scenario</th>\n",
       "      <th></th>\n",
       "    </tr>\n",
       "  </thead>\n",
       "  <tbody>\n",
       "    <tr>\n",
       "      <th rowspan=\"2\" valign=\"top\">GCAM 3.0</th>\n",
       "      <th>AMPERE3-450</th>\n",
       "      <td>False</td>\n",
       "    </tr>\n",
       "    <tr>\n",
       "      <th>AMPERE3-RefPol</th>\n",
       "      <td>False</td>\n",
       "    </tr>\n",
       "    <tr>\n",
       "      <th rowspan=\"2\" valign=\"top\">IMAGE 2.4</th>\n",
       "      <th>AMPERE3-450</th>\n",
       "      <td>False</td>\n",
       "    </tr>\n",
       "    <tr>\n",
       "      <th>AMPERE3-RefPol</th>\n",
       "      <td>False</td>\n",
       "    </tr>\n",
       "    <tr>\n",
       "      <th rowspan=\"2\" valign=\"top\">MESSAGE V.4</th>\n",
       "      <th>AMPERE3-450</th>\n",
       "      <td>False</td>\n",
       "    </tr>\n",
       "    <tr>\n",
       "      <th>AMPERE3-RefPol</th>\n",
       "      <td>False</td>\n",
       "    </tr>\n",
       "    <tr>\n",
       "      <th rowspan=\"2\" valign=\"top\">REMIND 1.5</th>\n",
       "      <th>AMPERE3-450</th>\n",
       "      <td>False</td>\n",
       "    </tr>\n",
       "    <tr>\n",
       "      <th>AMPERE3-RefPol</th>\n",
       "      <td>False</td>\n",
       "    </tr>\n",
       "  </tbody>\n",
       "</table>\n",
       "</div>"
      ],
      "text/plain": [
       "                            exclude\n",
       "model       scenario               \n",
       "GCAM 3.0    AMPERE3-450       False\n",
       "            AMPERE3-RefPol    False\n",
       "IMAGE 2.4   AMPERE3-450       False\n",
       "            AMPERE3-RefPol    False\n",
       "MESSAGE V.4 AMPERE3-450       False\n",
       "            AMPERE3-RefPol    False\n",
       "REMIND 1.5  AMPERE3-450       False\n",
       "            AMPERE3-RefPol    False"
      ]
     },
     "execution_count": 3,
     "metadata": {},
     "output_type": "execute_result"
    }
   ],
   "source": [
    "df.meta"
   ]
  },
  {
   "cell_type": "markdown",
   "metadata": {},
   "source": [
    "We can update it in a variety of ways (see, e.g., `categorize()` in the \"Pyam First Stesp\" tutorial). Here, we simply add a new column labeling the scenarios with an SSP name.\n",
    "\n",
    "Note, this label can be **anything**, it does not here need to map directly to the IPCC color scheme."
   ]
  },
  {
   "cell_type": "code",
   "execution_count": 4,
   "metadata": {},
   "outputs": [
    {
     "data": {
      "text/html": [
       "<div>\n",
       "<style scoped>\n",
       "    .dataframe tbody tr th:only-of-type {\n",
       "        vertical-align: middle;\n",
       "    }\n",
       "\n",
       "    .dataframe tbody tr th {\n",
       "        vertical-align: top;\n",
       "    }\n",
       "\n",
       "    .dataframe thead th {\n",
       "        text-align: right;\n",
       "    }\n",
       "</style>\n",
       "<table border=\"1\" class=\"dataframe\">\n",
       "  <thead>\n",
       "    <tr style=\"text-align: right;\">\n",
       "      <th></th>\n",
       "      <th></th>\n",
       "      <th>exclude</th>\n",
       "      <th>ar6-type</th>\n",
       "    </tr>\n",
       "    <tr>\n",
       "      <th>model</th>\n",
       "      <th>scenario</th>\n",
       "      <th></th>\n",
       "      <th></th>\n",
       "    </tr>\n",
       "  </thead>\n",
       "  <tbody>\n",
       "    <tr>\n",
       "      <th rowspan=\"2\" valign=\"top\">GCAM 3.0</th>\n",
       "      <th>AMPERE3-450</th>\n",
       "      <td>False</td>\n",
       "      <td>ssp2</td>\n",
       "    </tr>\n",
       "    <tr>\n",
       "      <th>AMPERE3-RefPol</th>\n",
       "      <td>False</td>\n",
       "      <td>ssp5</td>\n",
       "    </tr>\n",
       "    <tr>\n",
       "      <th rowspan=\"2\" valign=\"top\">IMAGE 2.4</th>\n",
       "      <th>AMPERE3-450</th>\n",
       "      <td>False</td>\n",
       "      <td>ssp2</td>\n",
       "    </tr>\n",
       "    <tr>\n",
       "      <th>AMPERE3-RefPol</th>\n",
       "      <td>False</td>\n",
       "      <td>ssp5</td>\n",
       "    </tr>\n",
       "    <tr>\n",
       "      <th rowspan=\"2\" valign=\"top\">MESSAGE V.4</th>\n",
       "      <th>AMPERE3-450</th>\n",
       "      <td>False</td>\n",
       "      <td>ssp2</td>\n",
       "    </tr>\n",
       "    <tr>\n",
       "      <th>AMPERE3-RefPol</th>\n",
       "      <td>False</td>\n",
       "      <td>ssp5</td>\n",
       "    </tr>\n",
       "    <tr>\n",
       "      <th rowspan=\"2\" valign=\"top\">REMIND 1.5</th>\n",
       "      <th>AMPERE3-450</th>\n",
       "      <td>False</td>\n",
       "      <td>ssp2</td>\n",
       "    </tr>\n",
       "    <tr>\n",
       "      <th>AMPERE3-RefPol</th>\n",
       "      <td>False</td>\n",
       "      <td>ssp5</td>\n",
       "    </tr>\n",
       "  </tbody>\n",
       "</table>\n",
       "</div>"
      ],
      "text/plain": [
       "                            exclude ar6-type\n",
       "model       scenario                        \n",
       "GCAM 3.0    AMPERE3-450       False     ssp2\n",
       "            AMPERE3-RefPol    False     ssp5\n",
       "IMAGE 2.4   AMPERE3-450       False     ssp2\n",
       "            AMPERE3-RefPol    False     ssp5\n",
       "MESSAGE V.4 AMPERE3-450       False     ssp2\n",
       "            AMPERE3-RefPol    False     ssp5\n",
       "REMIND 1.5  AMPERE3-450       False     ssp2\n",
       "            AMPERE3-RefPol    False     ssp5"
      ]
     },
     "execution_count": 4,
     "metadata": {},
     "output_type": "execute_result"
    }
   ],
   "source": [
    "df.set_meta(['ssp2', 'ssp5'] * 4, name='ar6-type')\n",
    "df.meta"
   ]
  },
  {
   "cell_type": "markdown",
   "metadata": {},
   "source": [
    "### Updating the run control\n",
    "\n",
    "Next, we need to tell `pyam` that whenever it sees a certain `ar6-type`, it should use a specific color. We do this here in code, but it also works by specifying the mapping in a `yaml`  config file."
   ]
  },
  {
   "cell_type": "code",
   "execution_count": 5,
   "metadata": {},
   "outputs": [],
   "source": [
    "# Here we use the specific color name, e.g., \"AR6-SSP2-4.5\" anytime pyam sees \"ssp2\"\n",
    "\n",
    "color_map = {\n",
    "    'ssp2': 'AR6-SSP2-4.5', \n",
    "    'ssp5': 'AR6-SSP5-8.5',\n",
    "}\n",
    "\n",
    "pyam.run_control().update({'color': {'ar6-type': color_map}})"
   ]
  },
  {
   "cell_type": "markdown",
   "metadata": {},
   "source": [
    "# Use the new colors\n",
    "\n",
    "It's as simple as calling the plot function! Note that the legend uses the metadata we defined as labels and the plot refers to the correct IPCC color scheme that we provided."
   ]
  },
  {
   "cell_type": "code",
   "execution_count": 6,
   "metadata": {},
   "outputs": [
    {
     "data": {
      "text/plain": [
       "<matplotlib.axes._subplots.AxesSubplot at 0x7fb459b3fbe0>"
      ]
     },
     "execution_count": 6,
     "metadata": {},
     "output_type": "execute_result"
    },
    {
     "data": {
      "image/png": "[encoded data removed]",
      "text/plain": [
       "<Figure size 432x288 with 1 Axes>"
      ]
     },
     "metadata": {
      "needs_background": "light"
     },
     "output_type": "display_data"
    }
   ],
   "source": [
    "df.line_plot(color='ar6-type')"
   ]
  }
 ],
 "metadata": {
  "kernelspec": {
   "display_name": "Python 3",
   "language": "python",
   "name": "python3"
  },
  "language_info": {
   "codemirror_mode": {
    "name": "ipython",
    "version": 3
   },
   "file_extension": ".py",
   "mimetype": "text/x-python",
   "name": "python",
   "nbconvert_exporter": "python",
   "pygments_lexer": "ipython3",
   "version": "3.7.3"
  }
 },
 "nbformat": 4,
 "nbformat_minor": 2
}
