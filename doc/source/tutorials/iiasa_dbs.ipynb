{
 "cells": [
  {
   "cell_type": "markdown",
   "metadata": {},
   "source": [
    "# Read directly from IIASA data resources\n",
    "\n",
    "IIASA's new [scenario explorer](https://data.ene.iiasa.ac.at/iamc-1.5c-explorer/#/workspaces) is not only a great resource on its own, but it also allows the underlying datasets to be directly queried.\n",
    "**pyam** takes advantage of this ability to allow you to easily pull data and work with it."
   ]
  },
  {
   "cell_type": "code",
   "execution_count": null,
   "metadata": {},
   "outputs": [],
   "source": [
    "import pyam"
   ]
  },
  {
   "cell_type": "markdown",
   "metadata": {},
   "source": [
    "Accessing an explorer is done via a `Connection` object.\n",
    "By default, your can connect to all public scenario explorers instances. "
   ]
  },
  {
   "cell_type": "code",
   "execution_count": null,
   "metadata": {},
   "outputs": [],
   "source": [
    "conn = pyam.iiasa.Connection()\n",
    "conn.valid_connections"
   ]
  },
  {
   "cell_type": "markdown",
   "metadata": {},
   "source": [
    "If you have additional credentials, you can supply them as well via the `creds` key-word argument:\n",
    "\n",
    "```\n",
    "pyam.iiasa.Connection(creds=(<username>, <password>))\n",
    "```"
   ]
  },
  {
   "cell_type": "markdown",
   "metadata": {},
   "source": [
    "In this example, we will be pulling data from the Special Report on 1.5C explorer. This can be done either via the constructor:\n",
    "\n",
    "```\n",
    "pyam.iiasa.Connection('IXSE_SR15')\n",
    "```\n",
    "\n",
    "or, if you want to query multiple databases, via the explicit `connect()` method:\n",
    "\n",
    "```\n",
    "conn = pyam.iiasa.Connection()\n",
    "conn.connect('IXSE_SR15')\n",
    "```"
   ]
  },
  {
   "cell_type": "markdown",
   "metadata": {},
   "source": [
    "We also provide some convenience functions to shorten the amount of code you have to write. Under the hood, `read_iiasa()` is just opening an connection to a database and making a query on that data.\n",
    "In this tutorial, we will query specific subsets of data in a manner similar to `pyam.IamDataFrame.filter()`."
   ]
  },
  {
   "cell_type": "code",
   "execution_count": null,
   "metadata": {},
   "outputs": [],
   "source": [
    "df = pyam.read_iiasa(\n",
    "    'iamc15',\n",
    "    model='MESSAGEix*', \n",
    "    variable=['Emissions|CO2', 'Primary Energy|Coal'], \n",
    "    region='World',\n",
    "    meta=['category']\n",
    ")"
   ]
  },
  {
   "cell_type": "markdown",
   "metadata": {},
   "source": [
    "Here we pulled out all times series data for model(s) that start with 'MESSAGEix' that are in the 'World' region and associated with the two named variables. We also added the \"category\" metadata, which tells us the climate impact categorisation of each scenario as assessed in the IPCC SR15.\n",
    "\n",
    "Let's plot CO2 emissions."
   ]
  },
  {
   "cell_type": "code",
   "execution_count": null,
   "metadata": {},
   "outputs": [],
   "source": [
    "ax = df.filter(variable='Emissions|CO2').line_plot(\n",
    "    color='category', \n",
    "    legend=dict(loc='center left', bbox_to_anchor=(1.0, 0.5))\n",
    ")"
   ]
  },
  {
   "cell_type": "markdown",
   "metadata": {},
   "source": [
    "And now continue doing all of your analysis!"
   ]
  },
  {
   "cell_type": "code",
   "execution_count": null,
   "metadata": {},
   "outputs": [],
   "source": [
    "ax = df.scatter(\n",
    "    x='Primary Energy|Coal', \n",
    "    y='Emissions|CO2', \n",
    "    color='category',\n",
    "    legend=dict(loc='center left', bbox_to_anchor=(1.0, 0.5))\n",
    ")"
   ]
  },
  {
   "cell_type": "markdown",
   "metadata": {},
   "source": [
    "## Exploring the Data Source\n",
    "\n",
    "If you're interested in what data is actually in the data source, you can use `pyam.iiasa.Connection` to do so."
   ]
  },
  {
   "cell_type": "code",
   "execution_count": null,
   "metadata": {},
   "outputs": [],
   "source": [
    "conn = pyam.iiasa.Connection('iamc15')"
   ]
  },
  {
   "cell_type": "markdown",
   "metadata": {},
   "source": [
    "The `conn` object has a number of useful functions for listing what's in the dataset. A few of them are shown below."
   ]
  },
  {
   "cell_type": "code",
   "execution_count": null,
   "metadata": {},
   "outputs": [],
   "source": [
    "conn.models().head()"
   ]
  },
  {
   "cell_type": "code",
   "execution_count": null,
   "metadata": {},
   "outputs": [],
   "source": [
    "conn.scenarios().head()"
   ]
  },
  {
   "cell_type": "code",
   "execution_count": null,
   "metadata": {},
   "outputs": [],
   "source": [
    "conn.variables().head()"
   ]
  },
  {
   "cell_type": "code",
   "execution_count": null,
   "metadata": {},
   "outputs": [],
   "source": [
    "conn.regions().head()"
   ]
  },
  {
   "cell_type": "markdown",
   "metadata": {},
   "source": [
    "A number of different kinds of indicators are available for model/scenario combinations.\n",
    "We queried the \"category\" metadata in the above example, but there are many more. You can see them with"
   ]
  },
  {
   "cell_type": "code",
   "execution_count": null,
   "metadata": {},
   "outputs": [],
   "source": [
    "conn.available_metadata().head()"
   ]
  },
  {
   "cell_type": "markdown",
   "metadata": {},
   "source": [
    "You can directly query the `Connection`, which will give you a [pandas.DataFrame](https://pandas.pydata.org/pandas-docs/stable/generated/pandas.DataFrame.html)."
   ]
  },
  {
   "cell_type": "code",
   "execution_count": null,
   "metadata": {},
   "outputs": [],
   "source": [
    "df = conn.query(\n",
    "    model='MESSAGEix*', \n",
    "    variable=['Emissions|CO2', 'Primary Energy|Coal'], \n",
    "    region='World'\n",
    ")\n",
    "df.head()"
   ]
  },
  {
   "cell_type": "markdown",
   "metadata": {},
   "source": [
    "And you can easily turn this into a `pyam.IamDataFrame` to continue your analysis."
   ]
  },
  {
   "cell_type": "code",
   "execution_count": null,
   "metadata": {},
   "outputs": [],
   "source": [
    "df = pyam.IamDataFrame(df)\n",
    "ax = df.filter(variable='Primary Energy|Coal').line_plot(\n",
    "    color='scenario', \n",
    "    legend=dict(loc='center left', bbox_to_anchor=(1.0, 0.5))\n",
    ")"
   ]
  }
 ],
 "metadata": {
  "kernelspec": {
   "display_name": "Python 3",
   "language": "python",
   "name": "python3"
  },
  "language_info": {
   "codemirror_mode": {
    "name": "ipython",
    "version": 3
   },
   "file_extension": ".py",
   "mimetype": "text/x-python",
   "name": "python",
   "nbconvert_exporter": "python",
   "pygments_lexer": "ipython3",
   "version": "3.7.4"
  }
 },
 "nbformat": 4,
 "nbformat_minor": 2
}
