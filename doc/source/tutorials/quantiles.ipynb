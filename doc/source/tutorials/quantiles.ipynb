{
 "cells": [
  {
   "cell_type": "markdown",
   "metadata": {},
   "source": [
    "# Working with Percentiles (and Quantiles) of Distributions\n",
    "\n",
    "Many times we want to observe different distributional properties of scenario data. The **pyam** function `compute.quantiles()` can help!"
   ]
  },
  {
   "cell_type": "code",
   "execution_count": 7,
   "metadata": {},
   "outputs": [],
   "source": [
    "import pyam\n",
    "\n",
    "import numpy as np\n",
    "import pandas as pd\n",
    "\n",
    "from matplotlib import pyplot as plt"
   ]
  },
  {
   "cell_type": "markdown",
   "metadata": {},
   "source": [
    "## 0. Define timeseries data and initialize an IamDataFrame\n",
    "\n",
    "This tutorial uses a scenario similar to the data in the **first-steps tutorial** (here on\n",
    "[GitHub](https://github.com/IAMconsortium/pyam/blob/master/doc/source/tutorials/pyam_first_steps.ipynb)\n",
    "and on [read the docs](https://pyam-iamc.readthedocs.io/en/stable/tutorials/pyam_first_steps.html)).  \n",
    "Please read that tutorial for the reference and further information."
   ]
  },
  {
   "cell_type": "code",
   "execution_count": 8,
   "metadata": {},
   "outputs": [
    {
     "name": "stderr",
     "output_type": "stream",
     "text": [
      "pyam.core - INFO: Reading file tutorial_data.csv\n"
     ]
    },
    {
     "data": {
      "text/html": [
       "<div>\n",
       "<style scoped>\n",
       "    .dataframe tbody tr th:only-of-type {\n",
       "        vertical-align: middle;\n",
       "    }\n",
       "\n",
       "    .dataframe tbody tr th {\n",
       "        vertical-align: top;\n",
       "    }\n",
       "\n",
       "    .dataframe thead th {\n",
       "        text-align: right;\n",
       "    }\n",
       "</style>\n",
       "<table border=\"1\" class=\"dataframe\">\n",
       "  <thead>\n",
       "    <tr style=\"text-align: right;\">\n",
       "      <th></th>\n",
       "      <th></th>\n",
       "      <th></th>\n",
       "      <th></th>\n",
       "      <th></th>\n",
       "      <th>2010</th>\n",
       "      <th>2020</th>\n",
       "      <th>2030</th>\n",
       "      <th>2040</th>\n",
       "      <th>2050</th>\n",
       "      <th>2060</th>\n",
       "      <th>2070</th>\n",
       "      <th>2080</th>\n",
       "      <th>2090</th>\n",
       "      <th>2100</th>\n",
       "    </tr>\n",
       "    <tr>\n",
       "      <th>model</th>\n",
       "      <th>scenario</th>\n",
       "      <th>region</th>\n",
       "      <th>variable</th>\n",
       "      <th>unit</th>\n",
       "      <th></th>\n",
       "      <th></th>\n",
       "      <th></th>\n",
       "      <th></th>\n",
       "      <th></th>\n",
       "      <th></th>\n",
       "      <th></th>\n",
       "      <th></th>\n",
       "      <th></th>\n",
       "      <th></th>\n",
       "    </tr>\n",
       "  </thead>\n",
       "  <tbody>\n",
       "    <tr>\n",
       "      <th rowspan=\"5\" valign=\"top\">AIM/CGE 2.1</th>\n",
       "      <th rowspan=\"5\" valign=\"top\">CD-LINKS_INDCi</th>\n",
       "      <th rowspan=\"5\" valign=\"top\">R5ASIA</th>\n",
       "      <th>Emissions|CO2</th>\n",
       "      <th>Mt CO2/yr</th>\n",
       "      <td>11231.0880</td>\n",
       "      <td>14359.2801</td>\n",
       "      <td>14873.5967</td>\n",
       "      <td>15238.9081</td>\n",
       "      <td>15180.1854</td>\n",
       "      <td>15513.1760</td>\n",
       "      <td>16003.2060</td>\n",
       "      <td>16343.3124</td>\n",
       "      <td>17097.8681</td>\n",
       "      <td>17722.1245</td>\n",
       "    </tr>\n",
       "    <tr>\n",
       "      <th>Primary Energy</th>\n",
       "      <th>EJ/yr</th>\n",
       "      <td>145.7409</td>\n",
       "      <td>191.0565</td>\n",
       "      <td>216.2135</td>\n",
       "      <td>234.2793</td>\n",
       "      <td>245.9771</td>\n",
       "      <td>258.3201</td>\n",
       "      <td>268.7644</td>\n",
       "      <td>275.0764</td>\n",
       "      <td>283.1479</td>\n",
       "      <td>288.6838</td>\n",
       "    </tr>\n",
       "    <tr>\n",
       "      <th>Primary Energy|Biomass</th>\n",
       "      <th>EJ/yr</th>\n",
       "      <td>23.6647</td>\n",
       "      <td>24.0751</td>\n",
       "      <td>25.9262</td>\n",
       "      <td>27.3646</td>\n",
       "      <td>29.6938</td>\n",
       "      <td>29.8102</td>\n",
       "      <td>30.1178</td>\n",
       "      <td>30.0109</td>\n",
       "      <td>29.6166</td>\n",
       "      <td>29.5846</td>\n",
       "    </tr>\n",
       "    <tr>\n",
       "      <th>Primary Energy|Fossil</th>\n",
       "      <th>EJ/yr</th>\n",
       "      <td>116.1932</td>\n",
       "      <td>155.0735</td>\n",
       "      <td>168.2376</td>\n",
       "      <td>179.0562</td>\n",
       "      <td>185.2168</td>\n",
       "      <td>195.6202</td>\n",
       "      <td>203.4916</td>\n",
       "      <td>207.3614</td>\n",
       "      <td>214.7828</td>\n",
       "      <td>217.7714</td>\n",
       "    </tr>\n",
       "    <tr>\n",
       "      <th>Primary Energy|Non-Biomass Renewables</th>\n",
       "      <th>EJ/yr</th>\n",
       "      <td>4.5139</td>\n",
       "      <td>9.2641</td>\n",
       "      <td>17.0767</td>\n",
       "      <td>22.0967</td>\n",
       "      <td>25.3211</td>\n",
       "      <td>26.6589</td>\n",
       "      <td>27.9490</td>\n",
       "      <td>29.3259</td>\n",
       "      <td>29.3942</td>\n",
       "      <td>30.6799</td>\n",
       "    </tr>\n",
       "  </tbody>\n",
       "</table>\n",
       "</div>"
      ],
      "text/plain": [
       "                                                                                         2010  \\\n",
       "model       scenario       region variable                              unit                    \n",
       "AIM/CGE 2.1 CD-LINKS_INDCi R5ASIA Emissions|CO2                         Mt CO2/yr  11231.0880   \n",
       "                                  Primary Energy                        EJ/yr        145.7409   \n",
       "                                  Primary Energy|Biomass                EJ/yr         23.6647   \n",
       "                                  Primary Energy|Fossil                 EJ/yr        116.1932   \n",
       "                                  Primary Energy|Non-Biomass Renewables EJ/yr          4.5139   \n",
       "\n",
       "                                                                                         2020  \\\n",
       "model       scenario       region variable                              unit                    \n",
       "AIM/CGE 2.1 CD-LINKS_INDCi R5ASIA Emissions|CO2                         Mt CO2/yr  14359.2801   \n",
       "                                  Primary Energy                        EJ/yr        191.0565   \n",
       "                                  Primary Energy|Biomass                EJ/yr         24.0751   \n",
       "                                  Primary Energy|Fossil                 EJ/yr        155.0735   \n",
       "                                  Primary Energy|Non-Biomass Renewables EJ/yr          9.2641   \n",
       "\n",
       "                                                                                         2030  \\\n",
       "model       scenario       region variable                              unit                    \n",
       "AIM/CGE 2.1 CD-LINKS_INDCi R5ASIA Emissions|CO2                         Mt CO2/yr  14873.5967   \n",
       "                                  Primary Energy                        EJ/yr        216.2135   \n",
       "                                  Primary Energy|Biomass                EJ/yr         25.9262   \n",
       "                                  Primary Energy|Fossil                 EJ/yr        168.2376   \n",
       "                                  Primary Energy|Non-Biomass Renewables EJ/yr         17.0767   \n",
       "\n",
       "                                                                                         2040  \\\n",
       "model       scenario       region variable                              unit                    \n",
       "AIM/CGE 2.1 CD-LINKS_INDCi R5ASIA Emissions|CO2                         Mt CO2/yr  15238.9081   \n",
       "                                  Primary Energy                        EJ/yr        234.2793   \n",
       "                                  Primary Energy|Biomass                EJ/yr         27.3646   \n",
       "                                  Primary Energy|Fossil                 EJ/yr        179.0562   \n",
       "                                  Primary Energy|Non-Biomass Renewables EJ/yr         22.0967   \n",
       "\n",
       "                                                                                         2050  \\\n",
       "model       scenario       region variable                              unit                    \n",
       "AIM/CGE 2.1 CD-LINKS_INDCi R5ASIA Emissions|CO2                         Mt CO2/yr  15180.1854   \n",
       "                                  Primary Energy                        EJ/yr        245.9771   \n",
       "                                  Primary Energy|Biomass                EJ/yr         29.6938   \n",
       "                                  Primary Energy|Fossil                 EJ/yr        185.2168   \n",
       "                                  Primary Energy|Non-Biomass Renewables EJ/yr         25.3211   \n",
       "\n",
       "                                                                                         2060  \\\n",
       "model       scenario       region variable                              unit                    \n",
       "AIM/CGE 2.1 CD-LINKS_INDCi R5ASIA Emissions|CO2                         Mt CO2/yr  15513.1760   \n",
       "                                  Primary Energy                        EJ/yr        258.3201   \n",
       "                                  Primary Energy|Biomass                EJ/yr         29.8102   \n",
       "                                  Primary Energy|Fossil                 EJ/yr        195.6202   \n",
       "                                  Primary Energy|Non-Biomass Renewables EJ/yr         26.6589   \n",
       "\n",
       "                                                                                         2070  \\\n",
       "model       scenario       region variable                              unit                    \n",
       "AIM/CGE 2.1 CD-LINKS_INDCi R5ASIA Emissions|CO2                         Mt CO2/yr  16003.2060   \n",
       "                                  Primary Energy                        EJ/yr        268.7644   \n",
       "                                  Primary Energy|Biomass                EJ/yr         30.1178   \n",
       "                                  Primary Energy|Fossil                 EJ/yr        203.4916   \n",
       "                                  Primary Energy|Non-Biomass Renewables EJ/yr         27.9490   \n",
       "\n",
       "                                                                                         2080  \\\n",
       "model       scenario       region variable                              unit                    \n",
       "AIM/CGE 2.1 CD-LINKS_INDCi R5ASIA Emissions|CO2                         Mt CO2/yr  16343.3124   \n",
       "                                  Primary Energy                        EJ/yr        275.0764   \n",
       "                                  Primary Energy|Biomass                EJ/yr         30.0109   \n",
       "                                  Primary Energy|Fossil                 EJ/yr        207.3614   \n",
       "                                  Primary Energy|Non-Biomass Renewables EJ/yr         29.3259   \n",
       "\n",
       "                                                                                         2090  \\\n",
       "model       scenario       region variable                              unit                    \n",
       "AIM/CGE 2.1 CD-LINKS_INDCi R5ASIA Emissions|CO2                         Mt CO2/yr  17097.8681   \n",
       "                                  Primary Energy                        EJ/yr        283.1479   \n",
       "                                  Primary Energy|Biomass                EJ/yr         29.6166   \n",
       "                                  Primary Energy|Fossil                 EJ/yr        214.7828   \n",
       "                                  Primary Energy|Non-Biomass Renewables EJ/yr         29.3942   \n",
       "\n",
       "                                                                                         2100  \n",
       "model       scenario       region variable                              unit                   \n",
       "AIM/CGE 2.1 CD-LINKS_INDCi R5ASIA Emissions|CO2                         Mt CO2/yr  17722.1245  \n",
       "                                  Primary Energy                        EJ/yr        288.6838  \n",
       "                                  Primary Energy|Biomass                EJ/yr         29.5846  \n",
       "                                  Primary Energy|Fossil                 EJ/yr        217.7714  \n",
       "                                  Primary Energy|Non-Biomass Renewables EJ/yr         30.6799  "
      ]
     },
     "execution_count": 8,
     "metadata": {},
     "output_type": "execute_result"
    }
   ],
   "source": [
    "df = pyam.IamDataFrame(data='tutorial_data.csv')\n",
    "df.timeseries().head()"
   ]
  },
  {
   "cell_type": "markdown",
   "metadata": {},
   "source": [
    "## 1. Let's see how many scenarios define CO2 emissions\n"
   ]
  },
  {
   "cell_type": "code",
   "execution_count": 9,
   "metadata": {},
   "outputs": [
    {
     "data": {
      "text/plain": [
       "['1.0',\n",
       " 'CD-LINKS_INDCi',\n",
       " 'CD-LINKS_NPi',\n",
       " 'CD-LINKS_NPi2020_1000',\n",
       " 'CD-LINKS_NPi2020_1600',\n",
       " 'CD-LINKS_NPi2020_400',\n",
       " 'CD-LINKS_NoPolicy',\n",
       " 'Faster Transition Scenario']"
      ]
     },
     "execution_count": 9,
     "metadata": {},
     "output_type": "execute_result"
    }
   ],
   "source": [
    "df.filter(variable='Emissions|CO2', region='World').scenario"
   ]
  },
  {
   "cell_type": "markdown",
   "metadata": {},
   "source": [
    "## 2. Get the median\n",
    "\n",
    "The median is the `0.5` quantile (or percentile) - let's take a look!"
   ]
  },
  {
   "cell_type": "code",
   "execution_count": 10,
   "metadata": {},
   "outputs": [
    {
     "data": {
      "text/plain": [
       "<AxesSubplot:title={'center':'model: unweighted - scenario: quantile_0.5 - region: World - variable: Emissions|CO2'}, xlabel='Year', ylabel='Mt CO2/yr'>"
      ]
     },
     "execution_count": 10,
     "metadata": {},
     "output_type": "execute_result"
    },
    {
     "data": {
      "image/png": "[encoded data removed]",
      "text/plain": [
       "<Figure size 432x288 with 1 Axes>"
      ]
     },
     "metadata": {
      "needs_background": "light"
     },
     "output_type": "display_data"
    }
   ],
   "source": [
    "fig, ax = plt.subplots()\n",
    "\n",
    "# plot the background field of scenario data\n",
    "(\n",
    "    df\n",
    "    .filter(variable='Emissions|CO2', region='World')\n",
    "    .plot\n",
    "    .line(color='variable', alpha=0, fill_between=True, ax=ax)\n",
    ")\n",
    "\n",
    "# plot just the median\n",
    "(\n",
    "    df\n",
    "    .filter(variable='Emissions|CO2', region='World')\n",
    "    .compute.quantiles([0.5])\n",
    "    .plot\n",
    "    .line(ax=ax)\n",
    ")"
   ]
  },
  {
   "cell_type": "markdown",
   "metadata": {},
   "source": [
    "## 3. Get arbitrary quantiles\n"
   ]
  },
  {
   "cell_type": "code",
   "execution_count": 11,
   "metadata": {},
   "outputs": [
    {
     "data": {
      "text/plain": [
       "<AxesSubplot:title={'center':'model: unweighted - region: World - variable: Emissions|CO2'}, xlabel='Year', ylabel='Mt CO2/yr'>"
      ]
     },
     "execution_count": 11,
     "metadata": {},
     "output_type": "execute_result"
    },
    {
     "data": {
      "image/png": "[encoded data removed]",
      "text/plain": [
       "<Figure size 432x288 with 1 Axes>"
      ]
     },
     "metadata": {
      "needs_background": "light"
     },
     "output_type": "display_data"
    }
   ],
   "source": [
    "fig, ax = plt.subplots()\n",
    "\n",
    "# plot the background field of scenario data\n",
    "(\n",
    "    df\n",
    "    .filter(variable='Emissions|CO2', region='World')\n",
    "    .plot\n",
    "    .line(color='variable', alpha=0, fill_between=True, ax=ax)\n",
    ")\n",
    "\n",
    "# plot quantiles\n",
    "(\n",
    "    df\n",
    "    .filter(variable='Emissions|CO2', region='World')\n",
    "    .compute.quantiles([0.2, 0.6, 0.8])\n",
    "    .plot\n",
    "    .line(ax=ax)\n",
    ")"
   ]
  },
  {
   "cell_type": "markdown",
   "metadata": {},
   "source": [
    "## 4. Weighted Quantiles\n",
    "\n",
    "Weighted quantiles are also supported via the `wquantiles` package and are keyed to model/scenario combinations (unless the `level` argument is provided to `compute.quantiles()`). "
   ]
  },
  {
   "cell_type": "code",
   "execution_count": 12,
   "metadata": {},
   "outputs": [
    {
     "data": {
      "text/html": [
       "<div>\n",
       "<style scoped>\n",
       "    .dataframe tbody tr th:only-of-type {\n",
       "        vertical-align: middle;\n",
       "    }\n",
       "\n",
       "    .dataframe tbody tr th {\n",
       "        vertical-align: top;\n",
       "    }\n",
       "\n",
       "    .dataframe thead th {\n",
       "        text-align: right;\n",
       "    }\n",
       "</style>\n",
       "<table border=\"1\" class=\"dataframe\">\n",
       "  <thead>\n",
       "    <tr style=\"text-align: right;\">\n",
       "      <th></th>\n",
       "      <th></th>\n",
       "      <th>exclude</th>\n",
       "      <th>weight</th>\n",
       "    </tr>\n",
       "    <tr>\n",
       "      <th>model</th>\n",
       "      <th>scenario</th>\n",
       "      <th></th>\n",
       "      <th></th>\n",
       "    </tr>\n",
       "  </thead>\n",
       "  <tbody>\n",
       "    <tr>\n",
       "      <th rowspan=\"5\" valign=\"top\">AIM/CGE 2.1</th>\n",
       "      <th>CD-LINKS_INDCi</th>\n",
       "      <td>False</td>\n",
       "      <td>0.602473</td>\n",
       "    </tr>\n",
       "    <tr>\n",
       "      <th>CD-LINKS_NPi</th>\n",
       "      <td>False</td>\n",
       "      <td>0.787914</td>\n",
       "    </tr>\n",
       "    <tr>\n",
       "      <th>CD-LINKS_NPi2020_1000</th>\n",
       "      <td>False</td>\n",
       "      <td>0.400528</td>\n",
       "    </tr>\n",
       "    <tr>\n",
       "      <th>CD-LINKS_NPi2020_1600</th>\n",
       "      <td>False</td>\n",
       "      <td>0.927644</td>\n",
       "    </tr>\n",
       "    <tr>\n",
       "      <th>CD-LINKS_NPi2020_400</th>\n",
       "      <td>False</td>\n",
       "      <td>0.691232</td>\n",
       "    </tr>\n",
       "  </tbody>\n",
       "</table>\n",
       "</div>"
      ],
      "text/plain": [
       "                                   exclude    weight\n",
       "model       scenario                                \n",
       "AIM/CGE 2.1 CD-LINKS_INDCi           False  0.602473\n",
       "            CD-LINKS_NPi             False  0.787914\n",
       "            CD-LINKS_NPi2020_1000    False  0.400528\n",
       "            CD-LINKS_NPi2020_1600    False  0.927644\n",
       "            CD-LINKS_NPi2020_400     False  0.691232"
      ]
     },
     "execution_count": 12,
     "metadata": {},
     "output_type": "execute_result"
    }
   ],
   "source": [
    "weights = df.meta.assign(weight=np.random.rand(len(df.meta)))\n",
    "weights.head()"
   ]
  },
  {
   "cell_type": "code",
   "execution_count": 13,
   "metadata": {},
   "outputs": [
    {
     "data": {
      "text/plain": [
       "<AxesSubplot:title={'center':'model: weighted - region: World - variable: Emissions|CO2'}, xlabel='Year', ylabel='Mt CO2/yr'>"
      ]
     },
     "execution_count": 13,
     "metadata": {},
     "output_type": "execute_result"
    },
    {
     "data": {
      "image/png": "[encoded data removed]",
      "text/plain": [
       "<Figure size 432x288 with 1 Axes>"
      ]
     },
     "metadata": {
      "needs_background": "light"
     },
     "output_type": "display_data"
    }
   ],
   "source": [
    "fig, ax = plt.subplots()\n",
    "\n",
    "# plot the background field of scenario data\n",
    "(\n",
    "    df\n",
    "    .filter(variable='Emissions|CO2', region='World')\n",
    "    .plot\n",
    "    .line(color='variable', alpha=0, fill_between=True, ax=ax)\n",
    ")\n",
    "\n",
    "# plot weighted quantiles\n",
    "(\n",
    "    df\n",
    "    .filter(variable='Emissions|CO2', region='World')\n",
    "    .compute.quantiles([0.2, 0.6, 0.8], weights=weights['weight'])\n",
    "    .plot\n",
    "    .line(ax=ax)\n",
    ")"
   ]
  }
 ],
 "metadata": {
  "kernelspec": {
   "display_name": "Python 3 (ipykernel)",
   "language": "python",
   "name": "python3"
  },
  "language_info": {
   "codemirror_mode": {
    "name": "ipython",
    "version": 3
   },
   "file_extension": ".py",
   "mimetype": "text/x-python",
   "name": "python",
   "nbconvert_exporter": "python",
   "pygments_lexer": "ipython3",
   "version": "3.8.13"
  }
 },
 "nbformat": 4,
 "nbformat_minor": 2
}
