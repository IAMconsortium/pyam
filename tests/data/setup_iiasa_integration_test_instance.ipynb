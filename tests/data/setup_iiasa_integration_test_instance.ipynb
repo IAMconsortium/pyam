{
 "cells": [
  {
   "cell_type": "code",
   "execution_count": null,
   "metadata": {},
   "outputs": [],
   "source": [
    "import pandas as pd\n",
    "import ixmp\n",
    "import pyam"
   ]
  },
  {
   "cell_type": "code",
   "execution_count": null,
   "metadata": {},
   "outputs": [],
   "source": [
    "pyam.iiasa.Connection().valid_connections"
   ]
  },
  {
   "cell_type": "code",
   "execution_count": null,
   "metadata": {},
   "outputs": [],
   "source": [
    "mp = ixmp.Platform('ixmp_integration_test')"
   ]
  },
  {
   "cell_type": "markdown",
   "metadata": {},
   "source": [
    "All default regions in an ixmp instance (R11, countries) otehr than World were manually deleted."
   ]
  },
  {
   "cell_type": "code",
   "execution_count": null,
   "metadata": {},
   "outputs": [],
   "source": [
    "mp.add_region('region_a', 'World', 'continent_a')"
   ]
  },
  {
   "cell_type": "code",
   "execution_count": null,
   "metadata": {},
   "outputs": [],
   "source": [
    "mp.add_region_synonym('ISO_a', 'region_a')"
   ]
  },
  {
   "cell_type": "code",
   "execution_count": null,
   "metadata": {},
   "outputs": [],
   "source": [
    "?mp.add_region_synonym"
   ]
  },
  {
   "cell_type": "code",
   "execution_count": null,
   "metadata": {},
   "outputs": [],
   "source": [
    "TEST_DF = pd.DataFrame([\n",
    "    ['model_a', 'scen_a', 'World', 'Primary Energy', 'EJ/yr', 1, 6.],\n",
    "    ['model_a', 'scen_a', 'World', 'Primary Energy|Coal', 'EJ/yr', 0.5, 3],\n",
    "    ['model_a', 'scen_b', 'World', 'Primary Energy', 'EJ/yr', 2, 7],\n",
    "],\n",
    "    columns=pyam.IAMC_IDX + [2005, 2010],\n",
    ")"
   ]
  },
  {
   "cell_type": "code",
   "execution_count": null,
   "metadata": {},
   "outputs": [],
   "source": [
    "df = pyam.IamDataFrame(TEST_DF)"
   ]
  },
  {
   "cell_type": "code",
   "execution_count": null,
   "metadata": {},
   "outputs": [],
   "source": [
    "for (model, scenario), data in df.data.groupby(['model', 'scenario']):\n",
    "    scen = ixmp.Scenario(mp, model, scenario, version= 'new')\n",
    "    scen.add_timeseries(data)\n",
    "    scen.commit('importing scenario data from pyam test suite')\n",
    "    scen.set_as_default()"
   ]
  },
  {
   "cell_type": "code",
   "execution_count": null,
   "metadata": {},
   "outputs": [],
   "source": [
    "TEST_DF2 = pd.DataFrame([\n",
    "    ['model_a', 'scen_a', 'World', 'Primary Energy', 'EJ/yr', 2, 7.],\n",
    "    ['model_a', 'scen_a', 'World', 'Primary Energy|Coal', 'EJ/yr', 0.8, 4],\n",
    "],\n",
    "    columns=pyam.IAMC_IDX + [2005, 2010],\n",
    ")"
   ]
  },
  {
   "cell_type": "code",
   "execution_count": null,
   "metadata": {},
   "outputs": [],
   "source": [
    "df = pyam.IamDataFrame(TEST_DF2)"
   ]
  },
  {
   "cell_type": "code",
   "execution_count": null,
   "metadata": {},
   "outputs": [],
   "source": [
    "for (model, scenario), data in df.data.groupby(['model', 'scenario']):\n",
    "    scen = ixmp.Scenario(mp, model, scenario, version= 'new')\n",
    "    scen.add_timeseries(data)\n",
    "    scen.commit('importing scenario data from pyam test suite')"
   ]
  },
  {
   "cell_type": "code",
   "execution_count": null,
   "metadata": {},
   "outputs": [],
   "source": [
    "mp.add_timeslice('Summer', 'Season', 0.5)"
   ]
  },
  {
   "cell_type": "code",
   "execution_count": null,
   "metadata": {},
   "outputs": [],
   "source": [
    "TEST_DF3 = pd.DataFrame([\n",
    "    ['model_b', 'scen_a', 'World', 'Primary Energy', 'EJ/yr', 'Year', 3, 8.],\n",
    "    ['model_b', 'scen_a', 'World', 'Primary Energy|Coal', 'EJ/yr', 'Year', 0.9, 5],\n",
    "    ['model_b', 'scen_a', 'World', 'Primary Energy', 'EJ/yr', 'Summer', 1, 3],\n",
    "    ['model_b', 'scen_a', 'World', 'Primary Energy|Coal', 'EJ/yr', 'Summer', 0.4, 2],\n",
    "],\n",
    "    columns=pyam.IAMC_IDX + ['subannual', 2005, 2010],\n",
    ")\n",
    "df = pyam.IamDataFrame(TEST_DF3)"
   ]
  },
  {
   "cell_type": "code",
   "execution_count": null,
   "metadata": {},
   "outputs": [],
   "source": [
    "for (model, scenario), data in df.data.groupby(['model', 'scenario']):\n",
    "    scen = ixmp.Scenario(mp, model, scenario, version='new')\n",
    "    scen.add_timeseries(data)\n",
    "    scen.commit('importing scenario data from pyam test suite')\n",
    "    scen.set_as_default()"
   ]
  },
  {
   "cell_type": "code",
   "execution_count": null,
   "metadata": {},
   "outputs": [],
   "source": [
    "mp.scenario_list(default=False)"
   ]
  },
  {
   "cell_type": "code",
   "execution_count": null,
   "metadata": {},
   "outputs": [],
   "source": []
  }
 ],
 "metadata": {
  "kernelspec": {
   "display_name": "Python 3",
   "language": "python",
   "name": "python3"
  },
  "language_info": {
   "codemirror_mode": {
    "name": "ipython",
    "version": 3
   },
   "file_extension": ".py",
   "mimetype": "text/x-python",
   "name": "python",
   "nbconvert_exporter": "python",
   "pygments_lexer": "ipython3",
   "version": "3.7.3"
  },
  "latex_envs": {
   "LaTeX_envs_menu_present": true,
   "autoclose": false,
   "autocomplete": true,
   "bibliofile": "biblio.bib",
   "cite_by": "apalike",
   "current_citInitial": 1,
   "eqLabelWithNumbers": true,
   "eqNumInitial": 1,
   "hotkeys": {
    "equation": "Ctrl-E",
    "itemize": "Ctrl-I"
   },
   "labels_anchors": false,
   "latex_user_defs": false,
   "report_style_numbering": false,
   "user_envs_cfg": false
  }
 },
 "nbformat": 4,
 "nbformat_minor": 2
}
